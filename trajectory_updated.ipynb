{
  "cells": [
    {
      "cell_type": "markdown",
      "metadata": {
        "id": "60Nj5PLyQsuD"
      },
      "source": [
        "# Load Modules"
      ]
    },
    {
      "cell_type": "code",
      "execution_count": 7,
      "metadata": {
        "id": "ppFCOq-5QsuD"
      },
      "outputs": [],
      "source": [
        "import pandas as pd\n",
        "\n",
        "import plotly.graph_objects as go\n",
        "\n",
        "import numpy as np\n",
        "\n",
        "from sklearn.metrics.pairwise import cosine_similarity\n",
        "\n",
        "from scipy.spatial.distance import cdist\n",
        "\n",
        "import ast"
      ]
    },
    {
      "cell_type": "markdown",
      "source": [
        "# Load Model"
      ],
      "metadata": {
        "id": "WMXsbpHz9UBn"
      }
    },
    {
      "cell_type": "markdown",
      "source": [
        "## Load VA Generation"
      ],
      "metadata": {
        "id": "p2zykcze_vME"
      }
    },
    {
      "cell_type": "code",
      "source": [
        "import torch\n",
        "import torch.nn as nn\n",
        "import torch.nn.functional as F\n",
        "\n",
        "class Attention(nn.Module):\n",
        "    def __init__(self, feature_dim):\n",
        "        super(Attention, self).__init__()\n",
        "        self.feature_dim = feature_dim\n",
        "        self.attention = nn.Sequential(\n",
        "            nn.Linear(feature_dim, 64),\n",
        "            nn.ReLU(inplace=True),\n",
        "            nn.Linear(64, 1)\n",
        "        )\n",
        "\n",
        "    def forward(self, x):\n",
        "        scores = self.attention(x)\n",
        "        alpha = F.softmax(scores, dim=1)\n",
        "        attended_features = x * alpha\n",
        "        return attended_features.view(-1, self.feature_dim)\n",
        "\n",
        "class AudioNet(nn.Module):\n",
        "    def __init__(self, params_dict):\n",
        "        super(AudioNet, self).__init__()\n",
        "        self.in_ch = params_dict.get('in_ch', 1)\n",
        "        self.num_filters1 = params_dict.get('num_filters1', 32)\n",
        "        self.num_filters2 = params_dict.get('num_filters2', 64)\n",
        "        self.num_hidden = params_dict.get('num_hidden', 128)\n",
        "        self.out_size = params_dict.get('out_size', 1)\n",
        "\n",
        "        self.conv1 = nn.Sequential(\n",
        "            nn.Conv1d(self.in_ch, self.num_filters1, kernel_size=10, stride=1),\n",
        "            nn.BatchNorm1d(self.num_filters1),\n",
        "            nn.ReLU(inplace=True),\n",
        "            nn.AvgPool1d(kernel_size=2, stride=2)\n",
        "        )\n",
        "        self.conv2 = nn.Sequential(\n",
        "            nn.Conv1d(self.num_filters1, self.num_filters2, kernel_size=10, stride=1),\n",
        "            nn.BatchNorm1d(self.num_filters2),\n",
        "            nn.ReLU(inplace=True),\n",
        "            nn.AvgPool1d(kernel_size=2, stride=2)\n",
        "        )\n",
        "        self.pool = nn.AvgPool1d(kernel_size=10, stride=10)\n",
        "\n",
        "        self._to_linear = None\n",
        "        self.attention = Attention(self._get_to_linear())\n",
        "\n",
        "        self.fc1 = nn.Linear(self._get_to_linear(), self.num_hidden)\n",
        "        self.fc2 = nn.Linear(self.num_hidden, self.out_size)\n",
        "        self.drop = nn.Dropout(p=0.5)\n",
        "        self.act = nn.ReLU(inplace=True)\n",
        "\n",
        "    def _get_to_linear(self):\n",
        "        if self._to_linear is None:\n",
        "            x = torch.randn(1, self.in_ch, 4501)\n",
        "            with torch.no_grad():\n",
        "                x = self.conv1(x)\n",
        "                x = self.conv2(x)\n",
        "                x = self.pool(x)\n",
        "                self._to_linear = x.numel() // x.shape[0]\n",
        "        return self._to_linear\n",
        "\n",
        "    def forward(self, x):\n",
        "        x = self.conv1(x)\n",
        "        x = self.conv2(x)\n",
        "        x = self.pool(x)\n",
        "        x = x.view(-1, self._get_to_linear())\n",
        "        x = self.attention(x)\n",
        "        x = self.fc1(x)\n",
        "        x = self.drop(x)\n",
        "        x = self.act(x)\n",
        "        x = self.fc2(x)\n",
        "        return x.to(x.device)"
      ],
      "metadata": {
        "id": "vDG60UPN9PoI"
      },
      "execution_count": 1,
      "outputs": []
    },
    {
      "cell_type": "code",
      "source": [
        "import librosa\n",
        "import numpy as np\n",
        "\n",
        "def extract_features(audio_path, sample_rate=44100):\n",
        "    wave, sr = librosa.load(audio_path, sr=sample_rate)\n",
        "    if len(wave) < sr * 45:\n",
        "        wave = np.pad(wave, (0, sr * 45 - len(wave)), 'constant')\n",
        "    wave = wave[:sr * 45]\n",
        "\n",
        "    hop_length = int(sr * 0.01)\n",
        "    win_length = int(sr * 0.025)\n",
        "\n",
        "    mfcc = librosa.feature.mfcc(y=wave, sr=sr, n_mfcc=20, n_fft=2048, hop_length=hop_length, win_length=win_length)\n",
        "    chroma = librosa.feature.chroma_stft(y=wave, sr=sr, n_fft=2048, hop_length=hop_length)\n",
        "    contrast = librosa.feature.spectral_contrast(y=wave, sr=sr, n_fft=2048, hop_length=hop_length)\n",
        "\n",
        "    return np.concatenate((mfcc, chroma, contrast), axis=0)\n",
        "\n",
        "\n",
        "def predict(model, features):\n",
        "    device = torch.device('cuda' if torch.cuda.is_available() else 'cpu')\n",
        "    model.to(device)\n",
        "    model.eval()\n",
        "    features = torch.tensor(features, dtype=torch.float32).unsqueeze(0).to(device)\n",
        "    with torch.no_grad():\n",
        "        output = model(features)\n",
        "    return output.cpu().numpy()"
      ],
      "metadata": {
        "id": "m8vzttSJ9aPy"
      },
      "execution_count": 2,
      "outputs": []
    },
    {
      "cell_type": "code",
      "source": [
        "class Predictor:\n",
        "    def __init__(self, model_path_valence, model_path_arousal):\n",
        "        self.model_path_valence = model_path_valence\n",
        "        self.model_path_arousal = model_path_arousal\n",
        "        self.device = torch.device('cuda' if torch.cuda.is_available() else 'cpu')\n",
        "\n",
        "        valence_params = {\n",
        "            \"in_ch\": 39, \"num_filters1\": 32, \"num_filters2\": 64, \"num_hidden\": 64, \"out_size\": 1\n",
        "        }\n",
        "        arousal_params = {\n",
        "            \"in_ch\": 39, \"num_filters1\": 32, \"num_filters2\": 32, \"num_hidden\": 128, \"out_size\": 1\n",
        "        }\n",
        "\n",
        "        self.valence_model = self.load_model(model_path_valence, valence_params)\n",
        "        self.arousal_model = self.load_model(model_path_arousal, arousal_params)\n",
        "\n",
        "    def load_model(self, model_path, params):\n",
        "        model = AudioNet(params)\n",
        "        model.load_state_dict(torch.load(model_path, map_location=self.device))\n",
        "        model.to(self.device)\n",
        "        model.eval()\n",
        "        return model\n",
        "\n",
        "    def extract_features(self, audio_path):\n",
        "        sample_rate = 44100\n",
        "        wave, sr = librosa.load(audio_path, sr=sample_rate)\n",
        "        if len(wave) < sr * 45:\n",
        "            wave = np.pad(wave, (0, sr * 45 - len(wave)), 'constant')\n",
        "        wave = wave[:sr * 45]\n",
        "\n",
        "        hop_length = int(sr * 0.01)\n",
        "        win_length = int(sr * 0.025)\n",
        "\n",
        "        mfcc = librosa.feature.mfcc(y=wave, sr=sr, n_mfcc=20, n_fft=2048, hop_length=hop_length, win_length=win_length)\n",
        "        chroma = librosa.feature.chroma_stft(y=wave, sr=sr, n_fft=2048, hop_length=hop_length)\n",
        "        contrast = librosa.feature.spectral_contrast(y=wave, sr=sr, n_fft=2048, hop_length=hop_length)\n",
        "\n",
        "        features = np.concatenate((mfcc, chroma, contrast), axis=0)\n",
        "        features_tensor = torch.tensor(features, dtype=torch.float32).unsqueeze(0)\n",
        "        return features_tensor.to(self.device)\n",
        "\n",
        "    def predict(self, audio_path):\n",
        "        features = self.extract_features(audio_path)\n",
        "        with torch.no_grad():\n",
        "            valence_prediction = self.valence_model(features)\n",
        "            arousal_prediction = self.arousal_model(features)\n",
        "        return valence_prediction.item(), arousal_prediction.item()"
      ],
      "metadata": {
        "id": "FbM26nJp9aFS"
      },
      "execution_count": 3,
      "outputs": []
    },
    {
      "cell_type": "code",
      "source": [
        "import math\n",
        "\n",
        "emotions = {\n",
        "    \"Sleepy\": {\"valence\": 0.01, \"arousal\": -1.00},\n",
        "    \"Tired\": {\"valence\": -0.01, \"arousal\": -1.00},\n",
        "    \"Afraid\": {\"valence\": -0.12, \"arousal\": 0.79},\n",
        "    \"Angry\":{\"valence\": -0.40, \"arousal\": 0.79},\n",
        "    \"Calm\":{\"valence\": 0.78, \"arousal\": -0.68},\n",
        "    \"Relaxed\":{\"valence\": 0.71, \"arousal\": -0.65},\n",
        "    \"Content\":{\"valence\": 0.81, \"arousal\": -0.55},\n",
        "    \"Depressed\":{\"valence\": -0.81, \"arousal\": -0.48},\n",
        "    \"Discontent\":{\"valence\": -0.68, \"arousal\": -0.32},\n",
        "    \"Determined\":{\"valence\": 0.73, \"arousal\": 0.26},\n",
        "    \"Happy\":{\"valence\": 0.89, \"arousal\": 0.17},\n",
        "    \"Anxious\":{\"valence\": -0.72, \"arousal\": -0.80},\n",
        "    \"Good\":{\"valence\": 0.90, \"arousal\": -0.08},\n",
        "    \"Pensive\":{\"valence\": 0.03, \"arousal\": -0.60},\n",
        "    \"Impressed\":{\"valence\": 0.39, \"arousal\": -0.06},\n",
        "    \"Frustrated\":{\"valence\": -0.60, \"arousal\": 0.40},\n",
        "    \"Disappointed\":{\"valence\": -0.80, \"arousal\": -0.03},\n",
        "    \"Bored\":{\"valence\": -0.35, \"arousal\": -0.78},\n",
        "    \"Annoyed\":{\"valence\": -0.44, \"arousal\": 0.76},\n",
        "    \"Enraged\":{\"valence\": -0.18, \"arousal\": 0.83},\n",
        "    \"Excited\":{\"valence\": 0.70, \"arousal\": 0.71},\n",
        "    \"Melancholy\":{\"valence\": -0.05, \"arousal\": -0.65},\n",
        "    \"Satisfied\":{\"valence\": 0.77, \"arousal\": -0.63},\n",
        "    \"Distressed\":{\"valence\": -0.71, \"arousal\": 0.55},\n",
        "    \"Uncomfortable\":{\"valence\": -0.68, \"arousal\": -0.37},\n",
        "    \"Worried\":{\"valence\": -0.07, \"arousal\": -0.32},\n",
        "    \"Amused\":{\"valence\": 0.55, \"arousal\": 0.19},\n",
        "    \"Apathetic\":{\"valence\": -0.20, \"arousal\": -0.12},\n",
        "    \"Peaceful\":{\"valence\": 0.55, \"arousal\": -0.80},\n",
        "    \"Contemplative\":{\"valence\": 0.58, \"arousal\": -0.60},\n",
        "    \"Embarrassed\":{\"valence\": -0.31, \"arousal\": -0.60},\n",
        "    \"Sad\":{\"valence\": -0.81, \"arousal\": -0.40},\n",
        "    \"Hopeful\":{\"valence\": 0.61, \"arousal\": -0.30},\n",
        "    \"Pleased\":{\"valence\": 0.89, \"arousal\": -0.10},\n",
        "}\n",
        "\n",
        "def find_emotion(valence, arousal):\n",
        "    closest_emotion = None\n",
        "    min_distance = math.inf\n",
        "\n",
        "    for emotion, scores in emotions.items():\n",
        "        distance = math.sqrt((valence - scores[\"valence\"])**2 + (arousal - scores[\"arousal\"])**2)\n",
        "\n",
        "        if distance < min_distance:\n",
        "            min_distance = distance\n",
        "            closest_emotion = emotion\n",
        "\n",
        "    return closest_emotion\n",
        "\n",
        "clustered_emotions = {'blue': ['Determined',\n",
        "  'Happy',\n",
        "  'Good',\n",
        "  'Impressed',\n",
        "  'Excited',\n",
        "  'Amused',\n",
        "  'Hopeful',\n",
        "  'Pleased'],\n",
        " 'red': ['Depressed',\n",
        "  'Discontent',\n",
        "  'Anxious',\n",
        "  'Disappointed',\n",
        "  'Bored',\n",
        "  'Uncomfortable',\n",
        "  'Worried',\n",
        "  'Apathetic',\n",
        "  'Embarrassed',\n",
        "  'Sad'],\n",
        " 'green': ['Afraid', 'Angry', 'Frustrated', 'Annoyed', 'Enraged', 'Distressed'],\n",
        " 'purple': ['Sleepy',\n",
        "  'Tired',\n",
        "  'Calm',\n",
        "  'Relaxed',\n",
        "  'Content',\n",
        "  'Pensive',\n",
        "  'Melancholy',\n",
        "  'Satisfied',\n",
        "  'Peaceful',\n",
        "  'Contemplative']}\n",
        "\n",
        "\n",
        "def get_colormap(valence, arousal):\n",
        "    valence, arousal = normalize_value(valence), normalize_value(arousal)\n",
        "    emotion = find_emotion(valence, arousal)\n",
        "    for color, emotion_list in clustered_emotions.items():\n",
        "        if emotion in emotion_list:\n",
        "            return color\n",
        "    return None\n",
        "\n",
        "def normalize_value(value):\n",
        "    return (value - 1) / 4 - 1"
      ],
      "metadata": {
        "id": "wTAGD1mr9fQq"
      },
      "execution_count": 14,
      "outputs": []
    },
    {
      "cell_type": "markdown",
      "source": [
        "## Load Genre prediction"
      ],
      "metadata": {
        "id": "qI1sBGtN_yRQ"
      }
    },
    {
      "cell_type": "code",
      "source": [
        "import torch\n",
        "import torch.nn as nn\n",
        "\n",
        "class MusicGenreClassifier(nn.Module):\n",
        "    def __init__(self, input_size, num_classes):\n",
        "        super(MusicGenreClassifier, self).__init__()\n",
        "        self.network = nn.Sequential(\n",
        "            nn.Linear(input_size, 1024),\n",
        "            nn.ReLU(),\n",
        "            nn.Dropout(0.3),\n",
        "            nn.Linear(1024, 512),\n",
        "            nn.ReLU(),\n",
        "            nn.Dropout(0.3),\n",
        "            nn.Linear(512, 256),\n",
        "            nn.ReLU(),\n",
        "            nn.Dropout(0.3),\n",
        "            nn.Linear(256, 128),\n",
        "            nn.ReLU(),\n",
        "            nn.Dropout(0.3),\n",
        "            nn.Linear(128, 64),\n",
        "            nn.ReLU(),\n",
        "            nn.Dropout(0.3),\n",
        "            nn.Linear(64, num_classes),\n",
        "            nn.Softmax(dim=1)\n",
        "        )\n",
        "\n",
        "    def forward(self, x):\n",
        "        return self.network(x)\n",
        "\n",
        "model = MusicGenreClassifier(input_size=57, num_classes=10)\n",
        "model.load_state_dict(torch.load('genre_classifier_model.pth'))\n",
        "model.eval()"
      ],
      "metadata": {
        "colab": {
          "base_uri": "https://localhost:8080/"
        },
        "id": "MBP6Ef6R_4TQ",
        "outputId": "866c4748-4d85-45d6-8d54-a092036a2383"
      },
      "execution_count": 9,
      "outputs": [
        {
          "output_type": "execute_result",
          "data": {
            "text/plain": [
              "MusicGenreClassifier(\n",
              "  (network): Sequential(\n",
              "    (0): Linear(in_features=57, out_features=1024, bias=True)\n",
              "    (1): ReLU()\n",
              "    (2): Dropout(p=0.3, inplace=False)\n",
              "    (3): Linear(in_features=1024, out_features=512, bias=True)\n",
              "    (4): ReLU()\n",
              "    (5): Dropout(p=0.3, inplace=False)\n",
              "    (6): Linear(in_features=512, out_features=256, bias=True)\n",
              "    (7): ReLU()\n",
              "    (8): Dropout(p=0.3, inplace=False)\n",
              "    (9): Linear(in_features=256, out_features=128, bias=True)\n",
              "    (10): ReLU()\n",
              "    (11): Dropout(p=0.3, inplace=False)\n",
              "    (12): Linear(in_features=128, out_features=64, bias=True)\n",
              "    (13): ReLU()\n",
              "    (14): Dropout(p=0.3, inplace=False)\n",
              "    (15): Linear(in_features=64, out_features=10, bias=True)\n",
              "    (16): Softmax(dim=1)\n",
              "  )\n",
              ")"
            ]
          },
          "metadata": {},
          "execution_count": 9
        }
      ]
    },
    {
      "cell_type": "code",
      "source": [
        "import librosa\n",
        "import numpy as np\n",
        "\n",
        "def extract_features(audio_path):\n",
        "    y, sr = librosa.load(audio_path, sr=None)\n",
        "    features = []\n",
        "    chroma_stft = librosa.feature.chroma_stft(y=y, sr=sr)\n",
        "    features.extend([np.mean(chroma_stft), np.var(chroma_stft)])\n",
        "    rms = librosa.feature.rms(y=y)\n",
        "    features.extend([np.mean(rms), np.var(rms)])\n",
        "    spec_centroid = librosa.feature.spectral_centroid(y=y, sr=sr)\n",
        "    features.extend([np.mean(spec_centroid), np.var(spec_centroid)])\n",
        "    spec_bandwidth = librosa.feature.spectral_bandwidth(y=y, sr=sr)\n",
        "    features.extend([np.mean(spec_bandwidth), np.var(spec_bandwidth)])\n",
        "    rolloff = librosa.feature.spectral_rolloff(y=y, sr=sr)\n",
        "    features.extend([np.mean(rolloff), np.var(rolloff)])\n",
        "    zero_cross_rate = librosa.feature.zero_crossing_rate(y)\n",
        "    features.extend([np.mean(zero_cross_rate), np.var(zero_cross_rate)])\n",
        "    harmony = librosa.effects.harmonic(y)\n",
        "    features.extend([np.mean(harmony), np.var(harmony)])\n",
        "    percussive = librosa.effects.percussive(y)\n",
        "    features.extend([np.mean(percussive), np.var(percussive)])\n",
        "    tempo = librosa.feature.rhythm.tempo(y=y, sr=sr, aggregate=None)\n",
        "    features.append(np.mean(tempo))\n",
        "    mfccs = librosa.feature.mfcc(y=y, sr=sr, n_mfcc=20)\n",
        "    for mfcc in mfccs:\n",
        "        features.extend([np.mean(mfcc), np.var(mfcc)])\n",
        "\n",
        "    return np.array(features)"
      ],
      "metadata": {
        "id": "h3NAIS_X_0Wo"
      },
      "execution_count": 12,
      "outputs": []
    },
    {
      "cell_type": "markdown",
      "metadata": {
        "id": "eRjpiZieQsuE"
      },
      "source": [
        "# Load Dataset"
      ]
    },
    {
      "cell_type": "code",
      "execution_count": 82,
      "metadata": {
        "id": "ADS-tLjcQsuE"
      },
      "outputs": [],
      "source": [
        "df = pd.read_csv(\"spotify_va.csv\")"
      ]
    },
    {
      "cell_type": "markdown",
      "metadata": {
        "id": "DT4zRyNCQsuF"
      },
      "source": [
        "## Extract Features from Music\n",
        "Predictions include: valence, arousal, genre and colour"
      ]
    },
    {
      "cell_type": "code",
      "execution_count": 83,
      "metadata": {
        "id": "0JYNM9K7QsuF",
        "colab": {
          "base_uri": "https://localhost:8080/"
        },
        "outputId": "beb4da58-d205-4889-8c53-89fc7ac4dea1"
      },
      "outputs": [
        {
          "output_type": "stream",
          "name": "stdout",
          "text": [
            "Valence: 5.555819988250732, Arousal: 4.647095680236816\n",
            "Emotion Detected: blue\n",
            "The predicted genre of the song is: rock\n"
          ]
        }
      ],
      "source": [
        "audio_path = 'lose_yourself.mp3'\n",
        "model_path_valence = 'model_valence.pth'\n",
        "model_path_arousal = 'model_arousal.pth'\n",
        "\n",
        "predictor = Predictor(model_path_valence, model_path_arousal)\n",
        "valence, arousal = predictor.predict(audio_path)\n",
        "print(f\"Valence: {valence}, Arousal: {arousal}\")\n",
        "color = get_colormap(valence, arousal)\n",
        "print(f'Emotion Detected: {color}')\n",
        "\n",
        "features = extract_features(audio_path)\n",
        "feature_values = torch.tensor(features, dtype=torch.float32).unsqueeze(0)\n",
        "\n",
        "model.eval()\n",
        "with torch.no_grad():\n",
        "    outputs = model(feature_values)\n",
        "    predicted_genre_index = outputs.argmax(dim=1).item()\n",
        "\n",
        "genre_mapping = {0: 'blues', 1: 'classical', 2: 'country', 3: 'disco', 4: 'hiphop',\n",
        "                 5: 'jazz', 6: 'metal', 7: 'pop', 8: 'reggae', 9: 'rock'}\n",
        "\n",
        "genre = genre_mapping[predicted_genre_index]\n",
        "print(f\"The predicted genre of the song is: {genre}\")"
      ]
    },
    {
      "cell_type": "code",
      "source": [
        "new_row = {\n",
        "    'spotify_id': 'new_id',\n",
        "    'artist': 'New Artist',\n",
        "    'track': audio_path.split(\".\")[0],\n",
        "    'file_path': audio_path,\n",
        "    'genre': genre,\n",
        "    'valence': valence,\n",
        "    'arousal': arousal,\n",
        "    'colour': color\n",
        "}\n",
        "\n",
        "# Add the new row to the DataFrame\n",
        "df = df._append(new_row, ignore_index=True)"
      ],
      "metadata": {
        "id": "wAWP3XhPBVzO"
      },
      "execution_count": 84,
      "outputs": []
    },
    {
      "cell_type": "code",
      "source": [
        "def filter_genre(df, genre):\n",
        "  if genre == \"blues\" or genre == \"jazz\":\n",
        "    filtered_df = df[df[\"genre\"] == \"blues\"]\n",
        "  elif genre == \"raggae\" or genre == \"classical\":\n",
        "    filtered_df = df\n",
        "  else:\n",
        "    filtered_df = df[df[\"genre\"] == genre]\n",
        "  return filtered_df\n",
        "\n",
        "filtered_df = filter_genre(df, genre)"
      ],
      "metadata": {
        "id": "8ACwwra8IJeI"
      },
      "execution_count": 85,
      "outputs": []
    },
    {
      "cell_type": "markdown",
      "metadata": {
        "id": "jArv1flLQsuG"
      },
      "source": [
        "# Build class\n",
        "\n",
        "Might have to change the params for each shape when we settle on the spotify dataset"
      ]
    },
    {
      "cell_type": "code",
      "execution_count": 86,
      "metadata": {
        "id": "2x6vCfNpQsuG"
      },
      "outputs": [],
      "source": [
        "class MusicOnTrajectory:\n",
        "    def __init__(self, df, shape):\n",
        "        self.df = df\n",
        "        self.shape = shape\n",
        "\n",
        "    def run(self):\n",
        "      closest_songs = self.shape.find_closest_songs(self.df)\n",
        "      self.shape.plot_closest_points(closest_songs)"
      ]
    },
    {
      "cell_type": "code",
      "execution_count": 87,
      "metadata": {
        "id": "0-8O7qbpQsuG",
        "colab": {
          "base_uri": "https://localhost:8080/"
        },
        "outputId": "269d2d98-c70a-4909-b46e-3b5ba6d967f0"
      },
      "outputs": [
        {
          "output_type": "execute_result",
          "data": {
            "text/plain": [
              "(5.555819988250732, 4.647095680236816)"
            ]
          },
          "metadata": {},
          "execution_count": 87
        }
      ],
      "source": [
        "point = (valence, arousal)\n",
        "point"
      ]
    },
    {
      "cell_type": "markdown",
      "metadata": {
        "id": "MwqPVzY8QsuH"
      },
      "source": [
        "## Line"
      ]
    },
    {
      "cell_type": "code",
      "execution_count": 88,
      "metadata": {
        "id": "ptekfXaPQsuH"
      },
      "outputs": [],
      "source": [
        "class Line:\n",
        "    def __init__(self, point):\n",
        "        self.x = point[0]\n",
        "        self.y = point[1]\n",
        "        self.m = None\n",
        "        self.c = None\n",
        "\n",
        "    def set_slope(self, m):\n",
        "      self.m = m\n",
        "\n",
        "    def set_intercept(self, c):\n",
        "      self.c = c\n",
        "\n",
        "    def equation(self, x):\n",
        "        return self.m * x + self.c\n",
        "\n",
        "    def perpendicular_distance(self, x, y):\n",
        "        y_line = self.equation(x)\n",
        "        return np.abs(y - y_line) / np.sqrt(self.m**2 + 1)\n",
        "\n",
        "    def set_m_c(self, df):\n",
        "      other_x = df.loc[:, 'valence'].values\n",
        "      other_y = df.loc[:, 'arousal'].values\n",
        "      # Calculate the slope of the line passing through the specific point\n",
        "      # and minimize the error with the other points\n",
        "      m = np.sum((other_x - self.x) * (other_y - self.y)) / np.sum((other_x - self.x)**2)\n",
        "      c = self.y - m * self.x\n",
        "      self.set_slope(m)\n",
        "      self.set_intercept(c)\n",
        "\n",
        "    def find_closest_songs(self, df):\n",
        "        self.set_m_c(df)\n",
        "        df['distance_to_line'] = self.perpendicular_distance(df['valence'], df['arousal'])\n",
        "        closest_songs = df.sort_values(by='distance_to_line').head(10)\n",
        "        return closest_songs\n",
        "\n",
        "    def plot_closest_points(self, closest_songs):\n",
        "        fig = go.Figure()\n",
        "\n",
        "        fig.add_trace(go.Scatter(\n",
        "            x=closest_songs['valence'],\n",
        "            y=closest_songs['arousal'],\n",
        "            mode='markers',\n",
        "            marker=dict(color=closest_songs['colour']),\n",
        "            text=closest_songs['track'],\n",
        "            hoverinfo='text+x+y',  # Display track and artist information on hover\n",
        "            showlegend=False\n",
        "        ))\n",
        "\n",
        "        x_values = np.linspace(min(closest_songs['valence']), max(closest_songs['valence']), 100)\n",
        "        y_values = self.equation(x_values)\n",
        "        fig.add_trace(go.Scatter(\n",
        "            x=x_values,\n",
        "            y=y_values,\n",
        "            mode='lines',\n",
        "            line=dict(color='black'),\n",
        "            name='Best-Fit Line'\n",
        "        ))\n",
        "\n",
        "        fig.update_layout(\n",
        "            xaxis_title='Valence',\n",
        "            yaxis_title='Arousal',\n",
        "            title='Valence-Arousal Graph'\n",
        "        )\n",
        "        fig.show()\n",
        "\n",
        "        print(\"--- Closest tracks to trajectory ---\")\n",
        "        for i, track in enumerate(closest_songs['track'], start=1):\n",
        "            print(f\"{i}: {track}\")"
      ]
    },
    {
      "cell_type": "code",
      "execution_count": 89,
      "metadata": {
        "id": "Vmf7RkRgQsuH",
        "colab": {
          "base_uri": "https://localhost:8080/",
          "height": 872
        },
        "outputId": "09f154e0-1dd4-40e3-8240-1e2662df1fea"
      },
      "outputs": [
        {
          "output_type": "stream",
          "name": "stderr",
          "text": [
            "<ipython-input-88-72d9632dbaea>:33: SettingWithCopyWarning:\n",
            "\n",
            "\n",
            "A value is trying to be set on a copy of a slice from a DataFrame.\n",
            "Try using .loc[row_indexer,col_indexer] = value instead\n",
            "\n",
            "See the caveats in the documentation: https://pandas.pydata.org/pandas-docs/stable/user_guide/indexing.html#returning-a-view-versus-a-copy\n",
            "\n"
          ]
        },
        {
          "output_type": "display_data",
          "data": {
            "text/html": [
              "<html>\n",
              "<head><meta charset=\"utf-8\" /></head>\n",
              "<body>\n",
              "    <div>            <script src=\"https://cdnjs.cloudflare.com/ajax/libs/mathjax/2.7.5/MathJax.js?config=TeX-AMS-MML_SVG\"></script><script type=\"text/javascript\">if (window.MathJax && window.MathJax.Hub && window.MathJax.Hub.Config) {window.MathJax.Hub.Config({SVG: {font: \"STIX-Web\"}});}</script>                <script type=\"text/javascript\">window.PlotlyConfig = {MathJaxConfig: 'local'};</script>\n",
              "        <script charset=\"utf-8\" src=\"https://cdn.plot.ly/plotly-2.24.1.min.js\"></script>                <div id=\"51828d60-db4e-465f-b6a6-d70efa5543c6\" class=\"plotly-graph-div\" style=\"height:525px; width:100%;\"></div>            <script type=\"text/javascript\">                                    window.PLOTLYENV=window.PLOTLYENV || {};                                    if (document.getElementById(\"51828d60-db4e-465f-b6a6-d70efa5543c6\")) {                    Plotly.newPlot(                        \"51828d60-db4e-465f-b6a6-d70efa5543c6\",                        [{\"hoverinfo\":\"text+x+y\",\"marker\":{\"color\":[\"blue\",\"red\",\"red\",\"red\",\"red\",\"red\",\"red\",\"blue\",\"red\",\"red\"]},\"mode\":\"markers\",\"showlegend\":false,\"text\":[\"lose_yourself\",\"I Told You So\",\"Maktub\",\"Good People\",\"Wish You Were Dead\",\"Waiting On A Twist Of Fate\",\"Edge of the Earth\",\"Blondie\",\"Slow Burn\",\"Overcompensate (edit)\"],\"x\":[5.555819988250732,4.976751327514648,3.853884220123291,5.153820991516113,4.481293201446533,3.803408145904541,5.1645097732543945,6.149303913116455,5.060883045196533,3.757080554962158],\"y\":[4.647095680236816,4.6318864822387695,4.533259391784668,4.735471725463867,4.417214393615723,4.608145713806152,4.48091459274292,4.836586952209473,4.438403129577637,4.643585681915283],\"type\":\"scatter\"},{\"line\":{\"color\":\"black\"},\"mode\":\"lines\",\"name\":\"Best-Fit Line\",\"x\":[3.757080554962158,3.781244427266747,3.805408299571336,3.829572171875925,3.8537360441805135,3.8778999164851027,3.9020637887896914,3.92622766109428,3.950391533398869,3.974555405703458,3.9987192780080467,4.022883150312635,4.047047022617225,4.071210894921814,4.095374767226402,4.119538639530991,4.1437025118355795,4.167866384140169,4.192030256444758,4.216194128749347,4.240358001053935,4.264521873358524,4.288685745663113,4.312849617967702,4.337013490272291,4.361177362576879,4.385341234881468,4.409505107186058,4.433668979490646,4.457832851795235,4.481996724099824,4.5061605964044125,4.530324468709002,4.554488341013591,4.578652213318179,4.602816085622768,4.626979957927357,4.651143830231946,4.675307702536535,4.699471574841124,4.723635447145712,4.747799319450301,4.771963191754891,4.796127064059479,4.820290936364068,4.844454808668656,4.8686186809732455,4.892782553277835,4.916946425582424,4.941110297887012,4.965274170191601,4.9894380424961895,5.013601914800779,5.037765787105368,5.061929659409957,5.086093531714545,5.110257404019134,5.134421276323723,5.158585148628312,5.182749020932901,5.20691289323749,5.2310767655420785,5.255240637846668,5.279404510151256,5.303568382455845,5.327732254760434,5.3518961270650225,5.376059999369612,5.4002238716742,5.424387743978789,5.448551616283378,5.472715488587967,5.496879360892556,5.521043233197145,5.545207105501733,5.569370977806322,5.5935348501109114,5.617698722415501,5.641862594720089,5.666026467024678,5.690190339329266,5.7143542116338555,5.738518083938445,5.762681956243034,5.786845828547622,5.811009700852211,5.8351735731567995,5.859337445461389,5.883501317765978,5.907665190070567,5.931829062375155,5.9559929346797436,5.980156806984333,6.004320679288922,6.028484551593511,6.0526484238981,6.0768122962026885,6.100976168507277,6.125140040811866,6.149303913116455],\"y\":[4.474984876840627,4.477296975746416,4.479609074652204,4.481921173557994,4.484233272463782,4.486545371369571,4.488857470275359,4.491169569181149,4.493481668086938,4.495793766992726,4.498105865898515,4.500417964804304,4.502730063710093,4.505042162615881,4.50735426152167,4.50966636042746,4.511978459333248,4.514290558239037,4.5166026571448255,4.518914756050615,4.521226854956403,4.523538953862192,4.5258510527679805,4.52816315167377,4.530475250579559,4.532787349485347,4.535099448391136,4.537411547296925,4.539723646202714,4.542035745108502,4.5443478440142915,4.546659942920081,4.548972041825869,4.551284140731658,4.5535962396374465,4.555908338543236,4.558220437449024,4.560532536354813,4.5628446352606025,4.565156734166391,4.56746883307218,4.569780931977968,4.5720930308837575,4.574405129789546,4.576717228695335,4.579029327601123,4.581341426506913,4.583653525412702,4.58596562431849,4.588277723224279,4.590589822130068,4.592901921035857,4.595214019941645,4.597526118847434,4.5998382177532235,4.602150316659012,4.604462415564801,4.606774514470589,4.609086613376379,4.611398712282167,4.613710811187956,4.616022910093745,4.618335008999534,4.620647107905323,4.622959206811111,4.6252713057169,4.627583404622689,4.629895503528478,4.632207602434267,4.634519701340055,4.636831800245845,4.639143899151633,4.641455998057422,4.6437680969632105,4.646080195869,4.648392294774789,4.650704393680577,4.653016492586366,4.655328591492155,4.657640690397944,4.659952789303732,4.6622648882095215,4.664576987115311,4.666889086021099,4.669201184926888,4.6715132838326765,4.673825382738466,4.676137481644254,4.678449580550043,4.680761679455832,4.683073778361621,4.685385877267409,4.687697976173198,4.6900100750789875,4.692322173984776,4.694634272890565,4.696946371796353,4.6992584707021425,4.701570569607931,4.70388266851372],\"type\":\"scatter\"}],                        {\"template\":{\"data\":{\"histogram2dcontour\":[{\"type\":\"histogram2dcontour\",\"colorbar\":{\"outlinewidth\":0,\"ticks\":\"\"},\"colorscale\":[[0.0,\"#0d0887\"],[0.1111111111111111,\"#46039f\"],[0.2222222222222222,\"#7201a8\"],[0.3333333333333333,\"#9c179e\"],[0.4444444444444444,\"#bd3786\"],[0.5555555555555556,\"#d8576b\"],[0.6666666666666666,\"#ed7953\"],[0.7777777777777778,\"#fb9f3a\"],[0.8888888888888888,\"#fdca26\"],[1.0,\"#f0f921\"]]}],\"choropleth\":[{\"type\":\"choropleth\",\"colorbar\":{\"outlinewidth\":0,\"ticks\":\"\"}}],\"histogram2d\":[{\"type\":\"histogram2d\",\"colorbar\":{\"outlinewidth\":0,\"ticks\":\"\"},\"colorscale\":[[0.0,\"#0d0887\"],[0.1111111111111111,\"#46039f\"],[0.2222222222222222,\"#7201a8\"],[0.3333333333333333,\"#9c179e\"],[0.4444444444444444,\"#bd3786\"],[0.5555555555555556,\"#d8576b\"],[0.6666666666666666,\"#ed7953\"],[0.7777777777777778,\"#fb9f3a\"],[0.8888888888888888,\"#fdca26\"],[1.0,\"#f0f921\"]]}],\"heatmap\":[{\"type\":\"heatmap\",\"colorbar\":{\"outlinewidth\":0,\"ticks\":\"\"},\"colorscale\":[[0.0,\"#0d0887\"],[0.1111111111111111,\"#46039f\"],[0.2222222222222222,\"#7201a8\"],[0.3333333333333333,\"#9c179e\"],[0.4444444444444444,\"#bd3786\"],[0.5555555555555556,\"#d8576b\"],[0.6666666666666666,\"#ed7953\"],[0.7777777777777778,\"#fb9f3a\"],[0.8888888888888888,\"#fdca26\"],[1.0,\"#f0f921\"]]}],\"heatmapgl\":[{\"type\":\"heatmapgl\",\"colorbar\":{\"outlinewidth\":0,\"ticks\":\"\"},\"colorscale\":[[0.0,\"#0d0887\"],[0.1111111111111111,\"#46039f\"],[0.2222222222222222,\"#7201a8\"],[0.3333333333333333,\"#9c179e\"],[0.4444444444444444,\"#bd3786\"],[0.5555555555555556,\"#d8576b\"],[0.6666666666666666,\"#ed7953\"],[0.7777777777777778,\"#fb9f3a\"],[0.8888888888888888,\"#fdca26\"],[1.0,\"#f0f921\"]]}],\"contourcarpet\":[{\"type\":\"contourcarpet\",\"colorbar\":{\"outlinewidth\":0,\"ticks\":\"\"}}],\"contour\":[{\"type\":\"contour\",\"colorbar\":{\"outlinewidth\":0,\"ticks\":\"\"},\"colorscale\":[[0.0,\"#0d0887\"],[0.1111111111111111,\"#46039f\"],[0.2222222222222222,\"#7201a8\"],[0.3333333333333333,\"#9c179e\"],[0.4444444444444444,\"#bd3786\"],[0.5555555555555556,\"#d8576b\"],[0.6666666666666666,\"#ed7953\"],[0.7777777777777778,\"#fb9f3a\"],[0.8888888888888888,\"#fdca26\"],[1.0,\"#f0f921\"]]}],\"surface\":[{\"type\":\"surface\",\"colorbar\":{\"outlinewidth\":0,\"ticks\":\"\"},\"colorscale\":[[0.0,\"#0d0887\"],[0.1111111111111111,\"#46039f\"],[0.2222222222222222,\"#7201a8\"],[0.3333333333333333,\"#9c179e\"],[0.4444444444444444,\"#bd3786\"],[0.5555555555555556,\"#d8576b\"],[0.6666666666666666,\"#ed7953\"],[0.7777777777777778,\"#fb9f3a\"],[0.8888888888888888,\"#fdca26\"],[1.0,\"#f0f921\"]]}],\"mesh3d\":[{\"type\":\"mesh3d\",\"colorbar\":{\"outlinewidth\":0,\"ticks\":\"\"}}],\"scatter\":[{\"fillpattern\":{\"fillmode\":\"overlay\",\"size\":10,\"solidity\":0.2},\"type\":\"scatter\"}],\"parcoords\":[{\"type\":\"parcoords\",\"line\":{\"colorbar\":{\"outlinewidth\":0,\"ticks\":\"\"}}}],\"scatterpolargl\":[{\"type\":\"scatterpolargl\",\"marker\":{\"colorbar\":{\"outlinewidth\":0,\"ticks\":\"\"}}}],\"bar\":[{\"error_x\":{\"color\":\"#2a3f5f\"},\"error_y\":{\"color\":\"#2a3f5f\"},\"marker\":{\"line\":{\"color\":\"#E5ECF6\",\"width\":0.5},\"pattern\":{\"fillmode\":\"overlay\",\"size\":10,\"solidity\":0.2}},\"type\":\"bar\"}],\"scattergeo\":[{\"type\":\"scattergeo\",\"marker\":{\"colorbar\":{\"outlinewidth\":0,\"ticks\":\"\"}}}],\"scatterpolar\":[{\"type\":\"scatterpolar\",\"marker\":{\"colorbar\":{\"outlinewidth\":0,\"ticks\":\"\"}}}],\"histogram\":[{\"marker\":{\"pattern\":{\"fillmode\":\"overlay\",\"size\":10,\"solidity\":0.2}},\"type\":\"histogram\"}],\"scattergl\":[{\"type\":\"scattergl\",\"marker\":{\"colorbar\":{\"outlinewidth\":0,\"ticks\":\"\"}}}],\"scatter3d\":[{\"type\":\"scatter3d\",\"line\":{\"colorbar\":{\"outlinewidth\":0,\"ticks\":\"\"}},\"marker\":{\"colorbar\":{\"outlinewidth\":0,\"ticks\":\"\"}}}],\"scattermapbox\":[{\"type\":\"scattermapbox\",\"marker\":{\"colorbar\":{\"outlinewidth\":0,\"ticks\":\"\"}}}],\"scatterternary\":[{\"type\":\"scatterternary\",\"marker\":{\"colorbar\":{\"outlinewidth\":0,\"ticks\":\"\"}}}],\"scattercarpet\":[{\"type\":\"scattercarpet\",\"marker\":{\"colorbar\":{\"outlinewidth\":0,\"ticks\":\"\"}}}],\"carpet\":[{\"aaxis\":{\"endlinecolor\":\"#2a3f5f\",\"gridcolor\":\"white\",\"linecolor\":\"white\",\"minorgridcolor\":\"white\",\"startlinecolor\":\"#2a3f5f\"},\"baxis\":{\"endlinecolor\":\"#2a3f5f\",\"gridcolor\":\"white\",\"linecolor\":\"white\",\"minorgridcolor\":\"white\",\"startlinecolor\":\"#2a3f5f\"},\"type\":\"carpet\"}],\"table\":[{\"cells\":{\"fill\":{\"color\":\"#EBF0F8\"},\"line\":{\"color\":\"white\"}},\"header\":{\"fill\":{\"color\":\"#C8D4E3\"},\"line\":{\"color\":\"white\"}},\"type\":\"table\"}],\"barpolar\":[{\"marker\":{\"line\":{\"color\":\"#E5ECF6\",\"width\":0.5},\"pattern\":{\"fillmode\":\"overlay\",\"size\":10,\"solidity\":0.2}},\"type\":\"barpolar\"}],\"pie\":[{\"automargin\":true,\"type\":\"pie\"}]},\"layout\":{\"autotypenumbers\":\"strict\",\"colorway\":[\"#636efa\",\"#EF553B\",\"#00cc96\",\"#ab63fa\",\"#FFA15A\",\"#19d3f3\",\"#FF6692\",\"#B6E880\",\"#FF97FF\",\"#FECB52\"],\"font\":{\"color\":\"#2a3f5f\"},\"hovermode\":\"closest\",\"hoverlabel\":{\"align\":\"left\"},\"paper_bgcolor\":\"white\",\"plot_bgcolor\":\"#E5ECF6\",\"polar\":{\"bgcolor\":\"#E5ECF6\",\"angularaxis\":{\"gridcolor\":\"white\",\"linecolor\":\"white\",\"ticks\":\"\"},\"radialaxis\":{\"gridcolor\":\"white\",\"linecolor\":\"white\",\"ticks\":\"\"}},\"ternary\":{\"bgcolor\":\"#E5ECF6\",\"aaxis\":{\"gridcolor\":\"white\",\"linecolor\":\"white\",\"ticks\":\"\"},\"baxis\":{\"gridcolor\":\"white\",\"linecolor\":\"white\",\"ticks\":\"\"},\"caxis\":{\"gridcolor\":\"white\",\"linecolor\":\"white\",\"ticks\":\"\"}},\"coloraxis\":{\"colorbar\":{\"outlinewidth\":0,\"ticks\":\"\"}},\"colorscale\":{\"sequential\":[[0.0,\"#0d0887\"],[0.1111111111111111,\"#46039f\"],[0.2222222222222222,\"#7201a8\"],[0.3333333333333333,\"#9c179e\"],[0.4444444444444444,\"#bd3786\"],[0.5555555555555556,\"#d8576b\"],[0.6666666666666666,\"#ed7953\"],[0.7777777777777778,\"#fb9f3a\"],[0.8888888888888888,\"#fdca26\"],[1.0,\"#f0f921\"]],\"sequentialminus\":[[0.0,\"#0d0887\"],[0.1111111111111111,\"#46039f\"],[0.2222222222222222,\"#7201a8\"],[0.3333333333333333,\"#9c179e\"],[0.4444444444444444,\"#bd3786\"],[0.5555555555555556,\"#d8576b\"],[0.6666666666666666,\"#ed7953\"],[0.7777777777777778,\"#fb9f3a\"],[0.8888888888888888,\"#fdca26\"],[1.0,\"#f0f921\"]],\"diverging\":[[0,\"#8e0152\"],[0.1,\"#c51b7d\"],[0.2,\"#de77ae\"],[0.3,\"#f1b6da\"],[0.4,\"#fde0ef\"],[0.5,\"#f7f7f7\"],[0.6,\"#e6f5d0\"],[0.7,\"#b8e186\"],[0.8,\"#7fbc41\"],[0.9,\"#4d9221\"],[1,\"#276419\"]]},\"xaxis\":{\"gridcolor\":\"white\",\"linecolor\":\"white\",\"ticks\":\"\",\"title\":{\"standoff\":15},\"zerolinecolor\":\"white\",\"automargin\":true,\"zerolinewidth\":2},\"yaxis\":{\"gridcolor\":\"white\",\"linecolor\":\"white\",\"ticks\":\"\",\"title\":{\"standoff\":15},\"zerolinecolor\":\"white\",\"automargin\":true,\"zerolinewidth\":2},\"scene\":{\"xaxis\":{\"backgroundcolor\":\"#E5ECF6\",\"gridcolor\":\"white\",\"linecolor\":\"white\",\"showbackground\":true,\"ticks\":\"\",\"zerolinecolor\":\"white\",\"gridwidth\":2},\"yaxis\":{\"backgroundcolor\":\"#E5ECF6\",\"gridcolor\":\"white\",\"linecolor\":\"white\",\"showbackground\":true,\"ticks\":\"\",\"zerolinecolor\":\"white\",\"gridwidth\":2},\"zaxis\":{\"backgroundcolor\":\"#E5ECF6\",\"gridcolor\":\"white\",\"linecolor\":\"white\",\"showbackground\":true,\"ticks\":\"\",\"zerolinecolor\":\"white\",\"gridwidth\":2}},\"shapedefaults\":{\"line\":{\"color\":\"#2a3f5f\"}},\"annotationdefaults\":{\"arrowcolor\":\"#2a3f5f\",\"arrowhead\":0,\"arrowwidth\":1},\"geo\":{\"bgcolor\":\"white\",\"landcolor\":\"#E5ECF6\",\"subunitcolor\":\"white\",\"showland\":true,\"showlakes\":true,\"lakecolor\":\"white\"},\"title\":{\"x\":0.05},\"mapbox\":{\"style\":\"light\"}}},\"xaxis\":{\"title\":{\"text\":\"Valence\"}},\"yaxis\":{\"title\":{\"text\":\"Arousal\"}},\"title\":{\"text\":\"Valence-Arousal Graph\"}},                        {\"responsive\": true}                    ).then(function(){\n",
              "                            \n",
              "var gd = document.getElementById('51828d60-db4e-465f-b6a6-d70efa5543c6');\n",
              "var x = new MutationObserver(function (mutations, observer) {{\n",
              "        var display = window.getComputedStyle(gd).display;\n",
              "        if (!display || display === 'none') {{\n",
              "            console.log([gd, 'removed!']);\n",
              "            Plotly.purge(gd);\n",
              "            observer.disconnect();\n",
              "        }}\n",
              "}});\n",
              "\n",
              "// Listen for the removal of the full notebook cells\n",
              "var notebookContainer = gd.closest('#notebook-container');\n",
              "if (notebookContainer) {{\n",
              "    x.observe(notebookContainer, {childList: true});\n",
              "}}\n",
              "\n",
              "// Listen for the clearing of the current output cell\n",
              "var outputEl = gd.closest('.output');\n",
              "if (outputEl) {{\n",
              "    x.observe(outputEl, {childList: true});\n",
              "}}\n",
              "\n",
              "                        })                };                            </script>        </div>\n",
              "</body>\n",
              "</html>"
            ]
          },
          "metadata": {}
        },
        {
          "output_type": "stream",
          "name": "stdout",
          "text": [
            "--- Closest tracks to trajectory ---\n",
            "1: lose_yourself\n",
            "2: I Told You So\n",
            "3: Maktub\n",
            "4: Good People\n",
            "5: Wish You Were Dead\n",
            "6: Waiting On A Twist Of Fate\n",
            "7: Edge of the Earth\n",
            "8: Blondie\n",
            "9: Slow Burn\n",
            "10: Overcompensate (edit)\n"
          ]
        }
      ],
      "source": [
        "l = Line(point)\n",
        "t1 = MusicOnTrajectory(filtered_df, l)\n",
        "\n",
        "t1.run()"
      ]
    },
    {
      "cell_type": "markdown",
      "metadata": {
        "id": "wPaxV-BnQsuI"
      },
      "source": [
        "## Circle"
      ]
    },
    {
      "cell_type": "code",
      "execution_count": 90,
      "metadata": {
        "id": "s9hwubpEQsuI"
      },
      "outputs": [],
      "source": [
        "class Circle:\n",
        "    def __init__(self, point):\n",
        "        self.x = point[0]\n",
        "        self.y = point[1]\n",
        "        self.x_circle = None\n",
        "        self.y_circle = None\n",
        "\n",
        "    def calculate_radius(self, df, scale = 0.5):\n",
        "        radius = scale * np.sqrt((df['valence'] - self.x)**2 + (df['arousal'] - self.y)**2).max()\n",
        "        return radius\n",
        "\n",
        "    def set_circle_points(self, radius):\n",
        "        theta = np.linspace(0, 2 * np.pi, 9)\n",
        "        circle_points_x = self.x + radius * np.cos(theta)\n",
        "        circle_points_y = self.y + radius * np.sin(theta)\n",
        "\n",
        "        self.x_circle = circle_points_x\n",
        "        self.y_circle = circle_points_y\n",
        "\n",
        "        return circle_points_x, circle_points_y\n",
        "\n",
        "    def find_closest_songs(self, df):\n",
        "      radius = self.calculate_radius(df)\n",
        "      circle_points_x, circle_points_y = self.set_circle_points(radius)\n",
        "      points = []\n",
        "      visited_indexes = set()\n",
        "      for i in range(len(circle_points_x)):\n",
        "          distances = np.sqrt((df['valence'] - circle_points_x[i])**2 + (df['arousal'] - circle_points_y[i])**2)\n",
        "          closest_indexes = np.argsort(distances)\n",
        "          for index in closest_indexes:\n",
        "              if index not in visited_indexes and index != len(df)-1:\n",
        "                  points.append(index)\n",
        "                  visited_indexes.add(index)\n",
        "                  break\n",
        "      closest_songs = df.iloc[points]\n",
        "      return closest_songs\n",
        "\n",
        "    def plot_closest_points(self, closest_songs):\n",
        "        fig = go.Figure()\n",
        "        fig.add_trace(go.Scatter(\n",
        "            x=closest_songs['valence'],\n",
        "            y=closest_songs['arousal'],\n",
        "            mode='markers',\n",
        "            marker=dict(color=closest_songs['colour']),\n",
        "            text=closest_songs['track'],\n",
        "            hoverinfo='text+x+y',\n",
        "            showlegend=False\n",
        "        ))\n",
        "\n",
        "        input = df[(df['valence'] == self.x) & (df['arousal'] == self.y)]\n",
        "        fig.add_trace(go.Scatter(\n",
        "          x=[self.x],\n",
        "          y=[self.y],\n",
        "          mode='markers',\n",
        "          marker=dict(color=input['colour']),\n",
        "          text=input['track'],\n",
        "          hoverinfo='text+x+y',\n",
        "          showlegend=False\n",
        "      ))\n",
        "\n",
        "\n",
        "        fig.add_trace(go.Scatter(x=self.x_circle, y=self.y_circle, mode='lines', line=dict(color='black'), name='Circle'))\n",
        "\n",
        "        fig.update_layout(\n",
        "            xaxis_title='Valence',\n",
        "            yaxis_title='Arousal',\n",
        "            title='Valence-Arousal Graph')\n",
        "\n",
        "        fig.show()\n",
        "\n",
        "        print(\"--- Closest tracks to trajectory ---\")\n",
        "        print(f\"{1}: {input['track'].values[0]}\")\n",
        "        for i, track in enumerate(closest_songs['track'], start=2):\n",
        "            print(f\"{i}: {track}\")"
      ]
    },
    {
      "cell_type": "code",
      "execution_count": 91,
      "metadata": {
        "id": "nH1B_9GNQsuI",
        "colab": {
          "base_uri": "https://localhost:8080/",
          "height": 733
        },
        "outputId": "c317bf16-ef9e-4e72-e678-83c2fe54c41b"
      },
      "outputs": [
        {
          "output_type": "display_data",
          "data": {
            "text/html": [
              "<html>\n",
              "<head><meta charset=\"utf-8\" /></head>\n",
              "<body>\n",
              "    <div>            <script src=\"https://cdnjs.cloudflare.com/ajax/libs/mathjax/2.7.5/MathJax.js?config=TeX-AMS-MML_SVG\"></script><script type=\"text/javascript\">if (window.MathJax && window.MathJax.Hub && window.MathJax.Hub.Config) {window.MathJax.Hub.Config({SVG: {font: \"STIX-Web\"}});}</script>                <script type=\"text/javascript\">window.PlotlyConfig = {MathJaxConfig: 'local'};</script>\n",
              "        <script charset=\"utf-8\" src=\"https://cdn.plot.ly/plotly-2.24.1.min.js\"></script>                <div id=\"5d179ac7-ea6b-4fc9-827d-4f3d912602f0\" class=\"plotly-graph-div\" style=\"height:525px; width:100%;\"></div>            <script type=\"text/javascript\">                                    window.PLOTLYENV=window.PLOTLYENV || {};                                    if (document.getElementById(\"5d179ac7-ea6b-4fc9-827d-4f3d912602f0\")) {                    Plotly.newPlot(                        \"5d179ac7-ea6b-4fc9-827d-4f3d912602f0\",                        [{\"hoverinfo\":\"text+x+y\",\"marker\":{\"color\":[\"blue\",\"blue\",\"blue\",\"red\",\"red\",\"red\",\"red\",\"blue\",\"blue\"]},\"mode\":\"markers\",\"showlegend\":false,\"text\":[\"Blondie\",\"DOWNSIDE\",\"Showtime\",\"Where Is My Mind? - Remastered\",\"Overcompensate (edit)\",\"Too Much\",\"Believer\",\"The Less I Know The Better\",\"I Forgot To Be Your Lover\"],\"x\":[6.149303913116455,7.06795072555542,5.435943603515625,4.3170318603515625,3.757080554962158,4.2114763259887695,5.33860969543457,6.169427871704102,6.0806498527526855],\"y\":[4.836586952209473,5.869370937347412,6.417807579040527,5.759913921356201,4.643585681915283,3.594754695892334,4.006206512451172,5.063957691192627,5.11067008972168],\"type\":\"scatter\"},{\"hoverinfo\":\"text+x+y\",\"marker\":{\"color\":[\"blue\"]},\"mode\":\"markers\",\"showlegend\":false,\"text\":[\"lose_yourself\"],\"x\":[5.555819988250732],\"y\":[4.647095680236816],\"type\":\"scatter\"},{\"line\":{\"color\":\"black\"},\"mode\":\"lines\",\"name\":\"Circle\",\"x\":[7.384658210551915,6.849003896933049,5.555819988250732,4.2626360795684155,3.72698176594955,4.2626360795684155,5.555819988250732,6.8490038969330485,7.384658210551915],\"y\":[4.647095680236816,5.940279588919133,6.475933902537999,5.940279588919133,4.647095680236816,3.3539117715544995,2.818257457935634,3.3539117715544995,4.6470956802368155],\"type\":\"scatter\"}],                        {\"template\":{\"data\":{\"histogram2dcontour\":[{\"type\":\"histogram2dcontour\",\"colorbar\":{\"outlinewidth\":0,\"ticks\":\"\"},\"colorscale\":[[0.0,\"#0d0887\"],[0.1111111111111111,\"#46039f\"],[0.2222222222222222,\"#7201a8\"],[0.3333333333333333,\"#9c179e\"],[0.4444444444444444,\"#bd3786\"],[0.5555555555555556,\"#d8576b\"],[0.6666666666666666,\"#ed7953\"],[0.7777777777777778,\"#fb9f3a\"],[0.8888888888888888,\"#fdca26\"],[1.0,\"#f0f921\"]]}],\"choropleth\":[{\"type\":\"choropleth\",\"colorbar\":{\"outlinewidth\":0,\"ticks\":\"\"}}],\"histogram2d\":[{\"type\":\"histogram2d\",\"colorbar\":{\"outlinewidth\":0,\"ticks\":\"\"},\"colorscale\":[[0.0,\"#0d0887\"],[0.1111111111111111,\"#46039f\"],[0.2222222222222222,\"#7201a8\"],[0.3333333333333333,\"#9c179e\"],[0.4444444444444444,\"#bd3786\"],[0.5555555555555556,\"#d8576b\"],[0.6666666666666666,\"#ed7953\"],[0.7777777777777778,\"#fb9f3a\"],[0.8888888888888888,\"#fdca26\"],[1.0,\"#f0f921\"]]}],\"heatmap\":[{\"type\":\"heatmap\",\"colorbar\":{\"outlinewidth\":0,\"ticks\":\"\"},\"colorscale\":[[0.0,\"#0d0887\"],[0.1111111111111111,\"#46039f\"],[0.2222222222222222,\"#7201a8\"],[0.3333333333333333,\"#9c179e\"],[0.4444444444444444,\"#bd3786\"],[0.5555555555555556,\"#d8576b\"],[0.6666666666666666,\"#ed7953\"],[0.7777777777777778,\"#fb9f3a\"],[0.8888888888888888,\"#fdca26\"],[1.0,\"#f0f921\"]]}],\"heatmapgl\":[{\"type\":\"heatmapgl\",\"colorbar\":{\"outlinewidth\":0,\"ticks\":\"\"},\"colorscale\":[[0.0,\"#0d0887\"],[0.1111111111111111,\"#46039f\"],[0.2222222222222222,\"#7201a8\"],[0.3333333333333333,\"#9c179e\"],[0.4444444444444444,\"#bd3786\"],[0.5555555555555556,\"#d8576b\"],[0.6666666666666666,\"#ed7953\"],[0.7777777777777778,\"#fb9f3a\"],[0.8888888888888888,\"#fdca26\"],[1.0,\"#f0f921\"]]}],\"contourcarpet\":[{\"type\":\"contourcarpet\",\"colorbar\":{\"outlinewidth\":0,\"ticks\":\"\"}}],\"contour\":[{\"type\":\"contour\",\"colorbar\":{\"outlinewidth\":0,\"ticks\":\"\"},\"colorscale\":[[0.0,\"#0d0887\"],[0.1111111111111111,\"#46039f\"],[0.2222222222222222,\"#7201a8\"],[0.3333333333333333,\"#9c179e\"],[0.4444444444444444,\"#bd3786\"],[0.5555555555555556,\"#d8576b\"],[0.6666666666666666,\"#ed7953\"],[0.7777777777777778,\"#fb9f3a\"],[0.8888888888888888,\"#fdca26\"],[1.0,\"#f0f921\"]]}],\"surface\":[{\"type\":\"surface\",\"colorbar\":{\"outlinewidth\":0,\"ticks\":\"\"},\"colorscale\":[[0.0,\"#0d0887\"],[0.1111111111111111,\"#46039f\"],[0.2222222222222222,\"#7201a8\"],[0.3333333333333333,\"#9c179e\"],[0.4444444444444444,\"#bd3786\"],[0.5555555555555556,\"#d8576b\"],[0.6666666666666666,\"#ed7953\"],[0.7777777777777778,\"#fb9f3a\"],[0.8888888888888888,\"#fdca26\"],[1.0,\"#f0f921\"]]}],\"mesh3d\":[{\"type\":\"mesh3d\",\"colorbar\":{\"outlinewidth\":0,\"ticks\":\"\"}}],\"scatter\":[{\"fillpattern\":{\"fillmode\":\"overlay\",\"size\":10,\"solidity\":0.2},\"type\":\"scatter\"}],\"parcoords\":[{\"type\":\"parcoords\",\"line\":{\"colorbar\":{\"outlinewidth\":0,\"ticks\":\"\"}}}],\"scatterpolargl\":[{\"type\":\"scatterpolargl\",\"marker\":{\"colorbar\":{\"outlinewidth\":0,\"ticks\":\"\"}}}],\"bar\":[{\"error_x\":{\"color\":\"#2a3f5f\"},\"error_y\":{\"color\":\"#2a3f5f\"},\"marker\":{\"line\":{\"color\":\"#E5ECF6\",\"width\":0.5},\"pattern\":{\"fillmode\":\"overlay\",\"size\":10,\"solidity\":0.2}},\"type\":\"bar\"}],\"scattergeo\":[{\"type\":\"scattergeo\",\"marker\":{\"colorbar\":{\"outlinewidth\":0,\"ticks\":\"\"}}}],\"scatterpolar\":[{\"type\":\"scatterpolar\",\"marker\":{\"colorbar\":{\"outlinewidth\":0,\"ticks\":\"\"}}}],\"histogram\":[{\"marker\":{\"pattern\":{\"fillmode\":\"overlay\",\"size\":10,\"solidity\":0.2}},\"type\":\"histogram\"}],\"scattergl\":[{\"type\":\"scattergl\",\"marker\":{\"colorbar\":{\"outlinewidth\":0,\"ticks\":\"\"}}}],\"scatter3d\":[{\"type\":\"scatter3d\",\"line\":{\"colorbar\":{\"outlinewidth\":0,\"ticks\":\"\"}},\"marker\":{\"colorbar\":{\"outlinewidth\":0,\"ticks\":\"\"}}}],\"scattermapbox\":[{\"type\":\"scattermapbox\",\"marker\":{\"colorbar\":{\"outlinewidth\":0,\"ticks\":\"\"}}}],\"scatterternary\":[{\"type\":\"scatterternary\",\"marker\":{\"colorbar\":{\"outlinewidth\":0,\"ticks\":\"\"}}}],\"scattercarpet\":[{\"type\":\"scattercarpet\",\"marker\":{\"colorbar\":{\"outlinewidth\":0,\"ticks\":\"\"}}}],\"carpet\":[{\"aaxis\":{\"endlinecolor\":\"#2a3f5f\",\"gridcolor\":\"white\",\"linecolor\":\"white\",\"minorgridcolor\":\"white\",\"startlinecolor\":\"#2a3f5f\"},\"baxis\":{\"endlinecolor\":\"#2a3f5f\",\"gridcolor\":\"white\",\"linecolor\":\"white\",\"minorgridcolor\":\"white\",\"startlinecolor\":\"#2a3f5f\"},\"type\":\"carpet\"}],\"table\":[{\"cells\":{\"fill\":{\"color\":\"#EBF0F8\"},\"line\":{\"color\":\"white\"}},\"header\":{\"fill\":{\"color\":\"#C8D4E3\"},\"line\":{\"color\":\"white\"}},\"type\":\"table\"}],\"barpolar\":[{\"marker\":{\"line\":{\"color\":\"#E5ECF6\",\"width\":0.5},\"pattern\":{\"fillmode\":\"overlay\",\"size\":10,\"solidity\":0.2}},\"type\":\"barpolar\"}],\"pie\":[{\"automargin\":true,\"type\":\"pie\"}]},\"layout\":{\"autotypenumbers\":\"strict\",\"colorway\":[\"#636efa\",\"#EF553B\",\"#00cc96\",\"#ab63fa\",\"#FFA15A\",\"#19d3f3\",\"#FF6692\",\"#B6E880\",\"#FF97FF\",\"#FECB52\"],\"font\":{\"color\":\"#2a3f5f\"},\"hovermode\":\"closest\",\"hoverlabel\":{\"align\":\"left\"},\"paper_bgcolor\":\"white\",\"plot_bgcolor\":\"#E5ECF6\",\"polar\":{\"bgcolor\":\"#E5ECF6\",\"angularaxis\":{\"gridcolor\":\"white\",\"linecolor\":\"white\",\"ticks\":\"\"},\"radialaxis\":{\"gridcolor\":\"white\",\"linecolor\":\"white\",\"ticks\":\"\"}},\"ternary\":{\"bgcolor\":\"#E5ECF6\",\"aaxis\":{\"gridcolor\":\"white\",\"linecolor\":\"white\",\"ticks\":\"\"},\"baxis\":{\"gridcolor\":\"white\",\"linecolor\":\"white\",\"ticks\":\"\"},\"caxis\":{\"gridcolor\":\"white\",\"linecolor\":\"white\",\"ticks\":\"\"}},\"coloraxis\":{\"colorbar\":{\"outlinewidth\":0,\"ticks\":\"\"}},\"colorscale\":{\"sequential\":[[0.0,\"#0d0887\"],[0.1111111111111111,\"#46039f\"],[0.2222222222222222,\"#7201a8\"],[0.3333333333333333,\"#9c179e\"],[0.4444444444444444,\"#bd3786\"],[0.5555555555555556,\"#d8576b\"],[0.6666666666666666,\"#ed7953\"],[0.7777777777777778,\"#fb9f3a\"],[0.8888888888888888,\"#fdca26\"],[1.0,\"#f0f921\"]],\"sequentialminus\":[[0.0,\"#0d0887\"],[0.1111111111111111,\"#46039f\"],[0.2222222222222222,\"#7201a8\"],[0.3333333333333333,\"#9c179e\"],[0.4444444444444444,\"#bd3786\"],[0.5555555555555556,\"#d8576b\"],[0.6666666666666666,\"#ed7953\"],[0.7777777777777778,\"#fb9f3a\"],[0.8888888888888888,\"#fdca26\"],[1.0,\"#f0f921\"]],\"diverging\":[[0,\"#8e0152\"],[0.1,\"#c51b7d\"],[0.2,\"#de77ae\"],[0.3,\"#f1b6da\"],[0.4,\"#fde0ef\"],[0.5,\"#f7f7f7\"],[0.6,\"#e6f5d0\"],[0.7,\"#b8e186\"],[0.8,\"#7fbc41\"],[0.9,\"#4d9221\"],[1,\"#276419\"]]},\"xaxis\":{\"gridcolor\":\"white\",\"linecolor\":\"white\",\"ticks\":\"\",\"title\":{\"standoff\":15},\"zerolinecolor\":\"white\",\"automargin\":true,\"zerolinewidth\":2},\"yaxis\":{\"gridcolor\":\"white\",\"linecolor\":\"white\",\"ticks\":\"\",\"title\":{\"standoff\":15},\"zerolinecolor\":\"white\",\"automargin\":true,\"zerolinewidth\":2},\"scene\":{\"xaxis\":{\"backgroundcolor\":\"#E5ECF6\",\"gridcolor\":\"white\",\"linecolor\":\"white\",\"showbackground\":true,\"ticks\":\"\",\"zerolinecolor\":\"white\",\"gridwidth\":2},\"yaxis\":{\"backgroundcolor\":\"#E5ECF6\",\"gridcolor\":\"white\",\"linecolor\":\"white\",\"showbackground\":true,\"ticks\":\"\",\"zerolinecolor\":\"white\",\"gridwidth\":2},\"zaxis\":{\"backgroundcolor\":\"#E5ECF6\",\"gridcolor\":\"white\",\"linecolor\":\"white\",\"showbackground\":true,\"ticks\":\"\",\"zerolinecolor\":\"white\",\"gridwidth\":2}},\"shapedefaults\":{\"line\":{\"color\":\"#2a3f5f\"}},\"annotationdefaults\":{\"arrowcolor\":\"#2a3f5f\",\"arrowhead\":0,\"arrowwidth\":1},\"geo\":{\"bgcolor\":\"white\",\"landcolor\":\"#E5ECF6\",\"subunitcolor\":\"white\",\"showland\":true,\"showlakes\":true,\"lakecolor\":\"white\"},\"title\":{\"x\":0.05},\"mapbox\":{\"style\":\"light\"}}},\"xaxis\":{\"title\":{\"text\":\"Valence\"}},\"yaxis\":{\"title\":{\"text\":\"Arousal\"}},\"title\":{\"text\":\"Valence-Arousal Graph\"}},                        {\"responsive\": true}                    ).then(function(){\n",
              "                            \n",
              "var gd = document.getElementById('5d179ac7-ea6b-4fc9-827d-4f3d912602f0');\n",
              "var x = new MutationObserver(function (mutations, observer) {{\n",
              "        var display = window.getComputedStyle(gd).display;\n",
              "        if (!display || display === 'none') {{\n",
              "            console.log([gd, 'removed!']);\n",
              "            Plotly.purge(gd);\n",
              "            observer.disconnect();\n",
              "        }}\n",
              "}});\n",
              "\n",
              "// Listen for the removal of the full notebook cells\n",
              "var notebookContainer = gd.closest('#notebook-container');\n",
              "if (notebookContainer) {{\n",
              "    x.observe(notebookContainer, {childList: true});\n",
              "}}\n",
              "\n",
              "// Listen for the clearing of the current output cell\n",
              "var outputEl = gd.closest('.output');\n",
              "if (outputEl) {{\n",
              "    x.observe(outputEl, {childList: true});\n",
              "}}\n",
              "\n",
              "                        })                };                            </script>        </div>\n",
              "</body>\n",
              "</html>"
            ]
          },
          "metadata": {}
        },
        {
          "output_type": "stream",
          "name": "stdout",
          "text": [
            "--- Closest tracks to trajectory ---\n",
            "1: lose_yourself\n",
            "2: Blondie\n",
            "3: DOWNSIDE\n",
            "4: Showtime\n",
            "5: Where Is My Mind? - Remastered\n",
            "6: Overcompensate (edit)\n",
            "7: Too Much\n",
            "8: Believer\n",
            "9: The Less I Know The Better\n",
            "10: I Forgot To Be Your Lover\n"
          ]
        }
      ],
      "source": [
        "c = Circle(point)\n",
        "t2 = MusicOnTrajectory(filtered_df, c)\n",
        "\n",
        "t2.run()"
      ]
    },
    {
      "cell_type": "markdown",
      "metadata": {
        "id": "OWDE65nTQsuI"
      },
      "source": [
        "## Triangle"
      ]
    },
    {
      "cell_type": "code",
      "execution_count": 92,
      "metadata": {
        "id": "IJvxx8aRQsuJ"
      },
      "outputs": [],
      "source": [
        "class Triangle:\n",
        "    def __init__(self, point):\n",
        "        self.x = point[0]\n",
        "        self.y = point[1]\n",
        "        self.points = self.generate_triangle_points()\n",
        "\n",
        "    def generate_triangle_points(self, num_points=3, length=6):\n",
        "      angles = np.linspace(0, 2*np.pi, num_points, endpoint=False)\n",
        "      return (self.x, self.y) + np.column_stack((length*np.cos(angles), length*np.sin(angles)))\n",
        "\n",
        "    def find_closest_songs(self, df):\n",
        "        other_x = df['valence'].values\n",
        "        other_y = df['arousal'].values\n",
        "\n",
        "        other_points = np.column_stack((other_x, other_y))\n",
        "\n",
        "        distances = cdist(other_points, self.points)\n",
        "        nearest_indexes = np.argsort(distances, axis=0)[:11].flatten()\n",
        "\n",
        "        nearest_indexes = [d for d in nearest_indexes if not np.array_equal(d, (self.x, self.y))]\n",
        "        random_indexes = np.random.choice(nearest_indexes, size=9, replace=False)\n",
        "        closest_songs = df.iloc[random_indexes]\n",
        "        return closest_songs\n",
        "\n",
        "    def plot_closest_points(self, closest_songs):\n",
        "        fig = go.Figure()\n",
        "\n",
        "        fig.add_trace(go.Scatter(\n",
        "            x=closest_songs['valence'],\n",
        "            y=closest_songs['arousal'],\n",
        "            mode='markers',\n",
        "            marker=dict(color=closest_songs['colour']),\n",
        "            text=closest_songs['track'],\n",
        "            hoverinfo='text+x+y',\n",
        "            showlegend=False\n",
        "        ))\n",
        "\n",
        "        input = df[(df['valence'] == self.x) & (df['arousal'] == self.y)]\n",
        "        fig.add_trace(go.Scatter(\n",
        "          x=[self.x],\n",
        "          y=[self.y],\n",
        "          mode='markers',\n",
        "          marker=dict(color=input['colour']),\n",
        "          text=input['track'],\n",
        "          hoverinfo='text+x+y',\n",
        "          showlegend=False\n",
        "      ))\n",
        "\n",
        "        fig.add_trace(go.Scatter(\n",
        "          x=np.append(self.points[:, 0], self.points[0, 0]),\n",
        "          y=np.append(self.points[:, 1], self.points[0, 1]),\n",
        "          mode='lines',\n",
        "          marker=dict(color='black'),\n",
        "          name='Triangle')\n",
        "        )\n",
        "\n",
        "        fig.update_layout(\n",
        "            xaxis_title='Valence',\n",
        "            yaxis_title='Arousal',\n",
        "            title='Valence-Arousal Graph')\n",
        "\n",
        "        fig.show()\n",
        "\n",
        "        print(\"--- Closest tracks to trajectory ---\")\n",
        "        print(f\"{1}: {input['track'].values[0]}\")\n",
        "        for i, track in enumerate(closest_songs['track'], start=2):\n",
        "            print(f\"{i}: {track}\")"
      ]
    },
    {
      "cell_type": "code",
      "execution_count": 93,
      "metadata": {
        "id": "YmWniUT6QsuJ",
        "colab": {
          "base_uri": "https://localhost:8080/",
          "height": 733
        },
        "outputId": "82da604f-0153-4014-fb9e-d1784788bf75"
      },
      "outputs": [
        {
          "output_type": "display_data",
          "data": {
            "text/html": [
              "<html>\n",
              "<head><meta charset=\"utf-8\" /></head>\n",
              "<body>\n",
              "    <div>            <script src=\"https://cdnjs.cloudflare.com/ajax/libs/mathjax/2.7.5/MathJax.js?config=TeX-AMS-MML_SVG\"></script><script type=\"text/javascript\">if (window.MathJax && window.MathJax.Hub && window.MathJax.Hub.Config) {window.MathJax.Hub.Config({SVG: {font: \"STIX-Web\"}});}</script>                <script type=\"text/javascript\">window.PlotlyConfig = {MathJaxConfig: 'local'};</script>\n",
              "        <script charset=\"utf-8\" src=\"https://cdn.plot.ly/plotly-2.24.1.min.js\"></script>                <div id=\"95eb4ccb-6290-4128-bfaf-7b4299424afd\" class=\"plotly-graph-div\" style=\"height:525px; width:100%;\"></div>            <script type=\"text/javascript\">                                    window.PLOTLYENV=window.PLOTLYENV || {};                                    if (document.getElementById(\"95eb4ccb-6290-4128-bfaf-7b4299424afd\")) {                    Plotly.newPlot(                        \"95eb4ccb-6290-4128-bfaf-7b4299424afd\",                        [{\"hoverinfo\":\"text+x+y\",\"marker\":{\"color\":[\"blue\",\"red\",\"blue\",\"blue\",\"green\",\"blue\",\"red\",\"blue\",\"red\"]},\"mode\":\"markers\",\"showlegend\":false,\"text\":[\"spite\",\"Tiny Moves\",\"Beggin'\",\"I Forgot To Be Your Lover\",\"Good Old Days\",\"Blondie\",\"Where Is My Mind? - Remastered\",\"The Less I Know The Better\",\"Home\"],\"x\":[6.524425983428955,4.48665714263916,5.240875720977783,6.0806498527526855,4.98043155670166,6.149303913116455,4.3170318603515625,6.169427871704102,4.082194805145264],\"y\":[7.139341831207275,4.036031246185303,6.280085563659668,5.11067008972168,6.861891269683838,4.836586952209473,5.759913921356201,5.063957691192627,3.7090227603912354],\"type\":\"scatter\"},{\"hoverinfo\":\"text+x+y\",\"marker\":{\"color\":[\"blue\"]},\"mode\":\"markers\",\"showlegend\":false,\"text\":[\"lose_yourself\"],\"x\":[5.555819988250732],\"y\":[4.647095680236816],\"type\":\"scatter\"},{\"marker\":{\"color\":\"black\"},\"mode\":\"lines\",\"name\":\"Triangle\",\"x\":[11.555819988250732,2.5558199882507338,2.5558199882507298,11.555819988250732],\"y\":[4.647095680236816,9.843248102943448,-0.5490567424698138,4.647095680236816],\"type\":\"scatter\"}],                        {\"template\":{\"data\":{\"histogram2dcontour\":[{\"type\":\"histogram2dcontour\",\"colorbar\":{\"outlinewidth\":0,\"ticks\":\"\"},\"colorscale\":[[0.0,\"#0d0887\"],[0.1111111111111111,\"#46039f\"],[0.2222222222222222,\"#7201a8\"],[0.3333333333333333,\"#9c179e\"],[0.4444444444444444,\"#bd3786\"],[0.5555555555555556,\"#d8576b\"],[0.6666666666666666,\"#ed7953\"],[0.7777777777777778,\"#fb9f3a\"],[0.8888888888888888,\"#fdca26\"],[1.0,\"#f0f921\"]]}],\"choropleth\":[{\"type\":\"choropleth\",\"colorbar\":{\"outlinewidth\":0,\"ticks\":\"\"}}],\"histogram2d\":[{\"type\":\"histogram2d\",\"colorbar\":{\"outlinewidth\":0,\"ticks\":\"\"},\"colorscale\":[[0.0,\"#0d0887\"],[0.1111111111111111,\"#46039f\"],[0.2222222222222222,\"#7201a8\"],[0.3333333333333333,\"#9c179e\"],[0.4444444444444444,\"#bd3786\"],[0.5555555555555556,\"#d8576b\"],[0.6666666666666666,\"#ed7953\"],[0.7777777777777778,\"#fb9f3a\"],[0.8888888888888888,\"#fdca26\"],[1.0,\"#f0f921\"]]}],\"heatmap\":[{\"type\":\"heatmap\",\"colorbar\":{\"outlinewidth\":0,\"ticks\":\"\"},\"colorscale\":[[0.0,\"#0d0887\"],[0.1111111111111111,\"#46039f\"],[0.2222222222222222,\"#7201a8\"],[0.3333333333333333,\"#9c179e\"],[0.4444444444444444,\"#bd3786\"],[0.5555555555555556,\"#d8576b\"],[0.6666666666666666,\"#ed7953\"],[0.7777777777777778,\"#fb9f3a\"],[0.8888888888888888,\"#fdca26\"],[1.0,\"#f0f921\"]]}],\"heatmapgl\":[{\"type\":\"heatmapgl\",\"colorbar\":{\"outlinewidth\":0,\"ticks\":\"\"},\"colorscale\":[[0.0,\"#0d0887\"],[0.1111111111111111,\"#46039f\"],[0.2222222222222222,\"#7201a8\"],[0.3333333333333333,\"#9c179e\"],[0.4444444444444444,\"#bd3786\"],[0.5555555555555556,\"#d8576b\"],[0.6666666666666666,\"#ed7953\"],[0.7777777777777778,\"#fb9f3a\"],[0.8888888888888888,\"#fdca26\"],[1.0,\"#f0f921\"]]}],\"contourcarpet\":[{\"type\":\"contourcarpet\",\"colorbar\":{\"outlinewidth\":0,\"ticks\":\"\"}}],\"contour\":[{\"type\":\"contour\",\"colorbar\":{\"outlinewidth\":0,\"ticks\":\"\"},\"colorscale\":[[0.0,\"#0d0887\"],[0.1111111111111111,\"#46039f\"],[0.2222222222222222,\"#7201a8\"],[0.3333333333333333,\"#9c179e\"],[0.4444444444444444,\"#bd3786\"],[0.5555555555555556,\"#d8576b\"],[0.6666666666666666,\"#ed7953\"],[0.7777777777777778,\"#fb9f3a\"],[0.8888888888888888,\"#fdca26\"],[1.0,\"#f0f921\"]]}],\"surface\":[{\"type\":\"surface\",\"colorbar\":{\"outlinewidth\":0,\"ticks\":\"\"},\"colorscale\":[[0.0,\"#0d0887\"],[0.1111111111111111,\"#46039f\"],[0.2222222222222222,\"#7201a8\"],[0.3333333333333333,\"#9c179e\"],[0.4444444444444444,\"#bd3786\"],[0.5555555555555556,\"#d8576b\"],[0.6666666666666666,\"#ed7953\"],[0.7777777777777778,\"#fb9f3a\"],[0.8888888888888888,\"#fdca26\"],[1.0,\"#f0f921\"]]}],\"mesh3d\":[{\"type\":\"mesh3d\",\"colorbar\":{\"outlinewidth\":0,\"ticks\":\"\"}}],\"scatter\":[{\"fillpattern\":{\"fillmode\":\"overlay\",\"size\":10,\"solidity\":0.2},\"type\":\"scatter\"}],\"parcoords\":[{\"type\":\"parcoords\",\"line\":{\"colorbar\":{\"outlinewidth\":0,\"ticks\":\"\"}}}],\"scatterpolargl\":[{\"type\":\"scatterpolargl\",\"marker\":{\"colorbar\":{\"outlinewidth\":0,\"ticks\":\"\"}}}],\"bar\":[{\"error_x\":{\"color\":\"#2a3f5f\"},\"error_y\":{\"color\":\"#2a3f5f\"},\"marker\":{\"line\":{\"color\":\"#E5ECF6\",\"width\":0.5},\"pattern\":{\"fillmode\":\"overlay\",\"size\":10,\"solidity\":0.2}},\"type\":\"bar\"}],\"scattergeo\":[{\"type\":\"scattergeo\",\"marker\":{\"colorbar\":{\"outlinewidth\":0,\"ticks\":\"\"}}}],\"scatterpolar\":[{\"type\":\"scatterpolar\",\"marker\":{\"colorbar\":{\"outlinewidth\":0,\"ticks\":\"\"}}}],\"histogram\":[{\"marker\":{\"pattern\":{\"fillmode\":\"overlay\",\"size\":10,\"solidity\":0.2}},\"type\":\"histogram\"}],\"scattergl\":[{\"type\":\"scattergl\",\"marker\":{\"colorbar\":{\"outlinewidth\":0,\"ticks\":\"\"}}}],\"scatter3d\":[{\"type\":\"scatter3d\",\"line\":{\"colorbar\":{\"outlinewidth\":0,\"ticks\":\"\"}},\"marker\":{\"colorbar\":{\"outlinewidth\":0,\"ticks\":\"\"}}}],\"scattermapbox\":[{\"type\":\"scattermapbox\",\"marker\":{\"colorbar\":{\"outlinewidth\":0,\"ticks\":\"\"}}}],\"scatterternary\":[{\"type\":\"scatterternary\",\"marker\":{\"colorbar\":{\"outlinewidth\":0,\"ticks\":\"\"}}}],\"scattercarpet\":[{\"type\":\"scattercarpet\",\"marker\":{\"colorbar\":{\"outlinewidth\":0,\"ticks\":\"\"}}}],\"carpet\":[{\"aaxis\":{\"endlinecolor\":\"#2a3f5f\",\"gridcolor\":\"white\",\"linecolor\":\"white\",\"minorgridcolor\":\"white\",\"startlinecolor\":\"#2a3f5f\"},\"baxis\":{\"endlinecolor\":\"#2a3f5f\",\"gridcolor\":\"white\",\"linecolor\":\"white\",\"minorgridcolor\":\"white\",\"startlinecolor\":\"#2a3f5f\"},\"type\":\"carpet\"}],\"table\":[{\"cells\":{\"fill\":{\"color\":\"#EBF0F8\"},\"line\":{\"color\":\"white\"}},\"header\":{\"fill\":{\"color\":\"#C8D4E3\"},\"line\":{\"color\":\"white\"}},\"type\":\"table\"}],\"barpolar\":[{\"marker\":{\"line\":{\"color\":\"#E5ECF6\",\"width\":0.5},\"pattern\":{\"fillmode\":\"overlay\",\"size\":10,\"solidity\":0.2}},\"type\":\"barpolar\"}],\"pie\":[{\"automargin\":true,\"type\":\"pie\"}]},\"layout\":{\"autotypenumbers\":\"strict\",\"colorway\":[\"#636efa\",\"#EF553B\",\"#00cc96\",\"#ab63fa\",\"#FFA15A\",\"#19d3f3\",\"#FF6692\",\"#B6E880\",\"#FF97FF\",\"#FECB52\"],\"font\":{\"color\":\"#2a3f5f\"},\"hovermode\":\"closest\",\"hoverlabel\":{\"align\":\"left\"},\"paper_bgcolor\":\"white\",\"plot_bgcolor\":\"#E5ECF6\",\"polar\":{\"bgcolor\":\"#E5ECF6\",\"angularaxis\":{\"gridcolor\":\"white\",\"linecolor\":\"white\",\"ticks\":\"\"},\"radialaxis\":{\"gridcolor\":\"white\",\"linecolor\":\"white\",\"ticks\":\"\"}},\"ternary\":{\"bgcolor\":\"#E5ECF6\",\"aaxis\":{\"gridcolor\":\"white\",\"linecolor\":\"white\",\"ticks\":\"\"},\"baxis\":{\"gridcolor\":\"white\",\"linecolor\":\"white\",\"ticks\":\"\"},\"caxis\":{\"gridcolor\":\"white\",\"linecolor\":\"white\",\"ticks\":\"\"}},\"coloraxis\":{\"colorbar\":{\"outlinewidth\":0,\"ticks\":\"\"}},\"colorscale\":{\"sequential\":[[0.0,\"#0d0887\"],[0.1111111111111111,\"#46039f\"],[0.2222222222222222,\"#7201a8\"],[0.3333333333333333,\"#9c179e\"],[0.4444444444444444,\"#bd3786\"],[0.5555555555555556,\"#d8576b\"],[0.6666666666666666,\"#ed7953\"],[0.7777777777777778,\"#fb9f3a\"],[0.8888888888888888,\"#fdca26\"],[1.0,\"#f0f921\"]],\"sequentialminus\":[[0.0,\"#0d0887\"],[0.1111111111111111,\"#46039f\"],[0.2222222222222222,\"#7201a8\"],[0.3333333333333333,\"#9c179e\"],[0.4444444444444444,\"#bd3786\"],[0.5555555555555556,\"#d8576b\"],[0.6666666666666666,\"#ed7953\"],[0.7777777777777778,\"#fb9f3a\"],[0.8888888888888888,\"#fdca26\"],[1.0,\"#f0f921\"]],\"diverging\":[[0,\"#8e0152\"],[0.1,\"#c51b7d\"],[0.2,\"#de77ae\"],[0.3,\"#f1b6da\"],[0.4,\"#fde0ef\"],[0.5,\"#f7f7f7\"],[0.6,\"#e6f5d0\"],[0.7,\"#b8e186\"],[0.8,\"#7fbc41\"],[0.9,\"#4d9221\"],[1,\"#276419\"]]},\"xaxis\":{\"gridcolor\":\"white\",\"linecolor\":\"white\",\"ticks\":\"\",\"title\":{\"standoff\":15},\"zerolinecolor\":\"white\",\"automargin\":true,\"zerolinewidth\":2},\"yaxis\":{\"gridcolor\":\"white\",\"linecolor\":\"white\",\"ticks\":\"\",\"title\":{\"standoff\":15},\"zerolinecolor\":\"white\",\"automargin\":true,\"zerolinewidth\":2},\"scene\":{\"xaxis\":{\"backgroundcolor\":\"#E5ECF6\",\"gridcolor\":\"white\",\"linecolor\":\"white\",\"showbackground\":true,\"ticks\":\"\",\"zerolinecolor\":\"white\",\"gridwidth\":2},\"yaxis\":{\"backgroundcolor\":\"#E5ECF6\",\"gridcolor\":\"white\",\"linecolor\":\"white\",\"showbackground\":true,\"ticks\":\"\",\"zerolinecolor\":\"white\",\"gridwidth\":2},\"zaxis\":{\"backgroundcolor\":\"#E5ECF6\",\"gridcolor\":\"white\",\"linecolor\":\"white\",\"showbackground\":true,\"ticks\":\"\",\"zerolinecolor\":\"white\",\"gridwidth\":2}},\"shapedefaults\":{\"line\":{\"color\":\"#2a3f5f\"}},\"annotationdefaults\":{\"arrowcolor\":\"#2a3f5f\",\"arrowhead\":0,\"arrowwidth\":1},\"geo\":{\"bgcolor\":\"white\",\"landcolor\":\"#E5ECF6\",\"subunitcolor\":\"white\",\"showland\":true,\"showlakes\":true,\"lakecolor\":\"white\"},\"title\":{\"x\":0.05},\"mapbox\":{\"style\":\"light\"}}},\"xaxis\":{\"title\":{\"text\":\"Valence\"}},\"yaxis\":{\"title\":{\"text\":\"Arousal\"}},\"title\":{\"text\":\"Valence-Arousal Graph\"}},                        {\"responsive\": true}                    ).then(function(){\n",
              "                            \n",
              "var gd = document.getElementById('95eb4ccb-6290-4128-bfaf-7b4299424afd');\n",
              "var x = new MutationObserver(function (mutations, observer) {{\n",
              "        var display = window.getComputedStyle(gd).display;\n",
              "        if (!display || display === 'none') {{\n",
              "            console.log([gd, 'removed!']);\n",
              "            Plotly.purge(gd);\n",
              "            observer.disconnect();\n",
              "        }}\n",
              "}});\n",
              "\n",
              "// Listen for the removal of the full notebook cells\n",
              "var notebookContainer = gd.closest('#notebook-container');\n",
              "if (notebookContainer) {{\n",
              "    x.observe(notebookContainer, {childList: true});\n",
              "}}\n",
              "\n",
              "// Listen for the clearing of the current output cell\n",
              "var outputEl = gd.closest('.output');\n",
              "if (outputEl) {{\n",
              "    x.observe(outputEl, {childList: true});\n",
              "}}\n",
              "\n",
              "                        })                };                            </script>        </div>\n",
              "</body>\n",
              "</html>"
            ]
          },
          "metadata": {}
        },
        {
          "output_type": "stream",
          "name": "stdout",
          "text": [
            "--- Closest tracks to trajectory ---\n",
            "1: lose_yourself\n",
            "2: spite\n",
            "3: Tiny Moves\n",
            "4: Beggin'\n",
            "5: I Forgot To Be Your Lover\n",
            "6: Good Old Days\n",
            "7: Blondie\n",
            "8: Where Is My Mind? - Remastered\n",
            "9: The Less I Know The Better\n",
            "10: Home\n"
          ]
        }
      ],
      "source": [
        "t = Triangle(point)\n",
        "t3 = MusicOnTrajectory(filtered_df, t)\n",
        "\n",
        "t3.run()"
      ]
    },
    {
      "cell_type": "markdown",
      "metadata": {
        "id": "fGzJEPJmQsuJ"
      },
      "source": [
        "## Parabola"
      ]
    },
    {
      "cell_type": "code",
      "execution_count": 94,
      "metadata": {
        "id": "KhQilISJQsuJ"
      },
      "outputs": [],
      "source": [
        "class Parabola:\n",
        "    def __init__(self, point):\n",
        "        self.x = point[0]\n",
        "        self.y = point[1]\n",
        "        self.points = self.parabola_points()\n",
        "\n",
        "    def parabola_points(self, num_points=10, a=1, b=0, c=0, shift=5, scale=0.4):\n",
        "        x = np.linspace(-5 + shift, 5 + shift, num_points)\n",
        "        y = (a * (x - shift)**2 + b * (x - shift) + c) * scale\n",
        "        return np.column_stack((x, y))\n",
        "\n",
        "    def find_closest_songs(self, df):\n",
        "        closest_indices = []\n",
        "        visited_indices = set()\n",
        "\n",
        "        for i in range(len(self.points)):\n",
        "            distances = np.sqrt((df['valence'] - self.points[i][0])**2 + (df['arousal'] - self.points[i][1])**2)\n",
        "            sorted_indices = np.argsort(distances)\n",
        "\n",
        "            for index in sorted_indices:\n",
        "                if index not in visited_indices:\n",
        "                    closest_indices.append(index)\n",
        "                    visited_indices.add(index)\n",
        "                    break\n",
        "\n",
        "        closest_songs = df.iloc[closest_indices]\n",
        "        return closest_songs\n",
        "\n",
        "    def plot_closest_points(self, closest_songs):\n",
        "        fig = go.Figure()\n",
        "        fig.add_trace(go.Scatter(\n",
        "            x=closest_songs['valence'],\n",
        "            y=closest_songs['arousal'],\n",
        "            mode='markers',\n",
        "            marker=dict(color=closest_songs['colour']),\n",
        "            text=closest_songs['track'],\n",
        "            hoverinfo='text+x+y',\n",
        "            showlegend=False\n",
        "        ))\n",
        "\n",
        "        input_point = df[(df['valence'] == self.x) & (df['arousal'] == self.y)]\n",
        "        fig.add_trace(go.Scatter(\n",
        "            x=[self.x],\n",
        "            y=[self.y],\n",
        "            mode='markers',\n",
        "            marker=dict(color=input_point['colour']),\n",
        "            text=input_point['track'],\n",
        "            hoverinfo='text+x+y',\n",
        "            showlegend=False\n",
        "        ))\n",
        "\n",
        "        fig.add_trace(go.Scatter(x=self.points[:, 0], y=self.points[:, 1], mode='lines', line=dict(color='black'), name='Parabola'))\n",
        "\n",
        "        fig.update_layout(\n",
        "            xaxis_title='Valence',\n",
        "            yaxis_title='Arousal',\n",
        "            title='Valence-Arousal Graph')\n",
        "\n",
        "        fig.show()\n",
        "\n",
        "        print(\"--- Closest tracks to trajectory ---\")\n",
        "        print(f\"{1}: {input_point['track'].values[0]}\")\n",
        "        for i, track in enumerate(closest_songs['track'], start=2):\n",
        "            print(f\"{i}: {track}\")"
      ]
    },
    {
      "cell_type": "code",
      "execution_count": 95,
      "metadata": {
        "id": "PdAbkUvlQsuK",
        "colab": {
          "base_uri": "https://localhost:8080/",
          "height": 750
        },
        "outputId": "be8c8ed6-d479-48dc-c0e1-300e1955810e"
      },
      "outputs": [
        {
          "output_type": "display_data",
          "data": {
            "text/html": [
              "<html>\n",
              "<head><meta charset=\"utf-8\" /></head>\n",
              "<body>\n",
              "    <div>            <script src=\"https://cdnjs.cloudflare.com/ajax/libs/mathjax/2.7.5/MathJax.js?config=TeX-AMS-MML_SVG\"></script><script type=\"text/javascript\">if (window.MathJax && window.MathJax.Hub && window.MathJax.Hub.Config) {window.MathJax.Hub.Config({SVG: {font: \"STIX-Web\"}});}</script>                <script type=\"text/javascript\">window.PlotlyConfig = {MathJaxConfig: 'local'};</script>\n",
              "        <script charset=\"utf-8\" src=\"https://cdn.plot.ly/plotly-2.24.1.min.js\"></script>                <div id=\"b231b828-8ec0-4075-93b9-2e554c77acba\" class=\"plotly-graph-div\" style=\"height:525px; width:100%;\"></div>            <script type=\"text/javascript\">                                    window.PLOTLYENV=window.PLOTLYENV || {};                                    if (document.getElementById(\"b231b828-8ec0-4075-93b9-2e554c77acba\")) {                    Plotly.newPlot(                        \"b231b828-8ec0-4075-93b9-2e554c77acba\",                        [{\"hoverinfo\":\"text+x+y\",\"marker\":{\"color\":[\"green\",\"red\",\"red\",\"red\",\"red\",\"red\",\"red\",\"blue\",\"blue\",\"blue\"]},\"mode\":\"markers\",\"showlegend\":false,\"text\":[\"Tejano Blue\",\"Broken Man\",\"Tongue Tied\",\"Too Much\",\"Heart To Heart\",\"You Know What You\\u2019ve Done\",\"Believer\",\"Blondie\",\"DOWNSIDE\",\"kinda smacks\"],\"x\":[4.166854381561279,3.9008710384368896,3.755285263061523,4.2114763259887695,4.111682891845703,4.76554012298584,5.33860969543457,6.149303913116455,7.06795072555542,6.672296047210693],\"y\":[6.2459893226623535,5.097156524658203,3.8431458473205566,3.594754695892334,3.680450677871704,3.747873783111572,4.006206512451172,4.836586952209473,5.869370937347412,8.130208969116211],\"type\":\"scatter\"},{\"hoverinfo\":\"text+x+y\",\"marker\":{\"color\":[\"blue\"]},\"mode\":\"markers\",\"showlegend\":false,\"text\":[\"lose_yourself\"],\"x\":[5.555819988250732],\"y\":[4.647095680236816],\"type\":\"scatter\"},{\"line\":{\"color\":\"black\"},\"mode\":\"lines\",\"name\":\"Parabola\",\"x\":[0.0,1.1111111111111112,2.2222222222222223,3.3333333333333335,4.444444444444445,5.555555555555555,6.666666666666667,7.777777777777779,8.88888888888889,10.0],\"y\":[10.0,6.049382716049383,3.0864197530864197,1.111111111111111,0.1234567901234567,0.1234567901234567,1.1111111111111114,3.0864197530864215,6.049382716049384,10.0],\"type\":\"scatter\"}],                        {\"template\":{\"data\":{\"histogram2dcontour\":[{\"type\":\"histogram2dcontour\",\"colorbar\":{\"outlinewidth\":0,\"ticks\":\"\"},\"colorscale\":[[0.0,\"#0d0887\"],[0.1111111111111111,\"#46039f\"],[0.2222222222222222,\"#7201a8\"],[0.3333333333333333,\"#9c179e\"],[0.4444444444444444,\"#bd3786\"],[0.5555555555555556,\"#d8576b\"],[0.6666666666666666,\"#ed7953\"],[0.7777777777777778,\"#fb9f3a\"],[0.8888888888888888,\"#fdca26\"],[1.0,\"#f0f921\"]]}],\"choropleth\":[{\"type\":\"choropleth\",\"colorbar\":{\"outlinewidth\":0,\"ticks\":\"\"}}],\"histogram2d\":[{\"type\":\"histogram2d\",\"colorbar\":{\"outlinewidth\":0,\"ticks\":\"\"},\"colorscale\":[[0.0,\"#0d0887\"],[0.1111111111111111,\"#46039f\"],[0.2222222222222222,\"#7201a8\"],[0.3333333333333333,\"#9c179e\"],[0.4444444444444444,\"#bd3786\"],[0.5555555555555556,\"#d8576b\"],[0.6666666666666666,\"#ed7953\"],[0.7777777777777778,\"#fb9f3a\"],[0.8888888888888888,\"#fdca26\"],[1.0,\"#f0f921\"]]}],\"heatmap\":[{\"type\":\"heatmap\",\"colorbar\":{\"outlinewidth\":0,\"ticks\":\"\"},\"colorscale\":[[0.0,\"#0d0887\"],[0.1111111111111111,\"#46039f\"],[0.2222222222222222,\"#7201a8\"],[0.3333333333333333,\"#9c179e\"],[0.4444444444444444,\"#bd3786\"],[0.5555555555555556,\"#d8576b\"],[0.6666666666666666,\"#ed7953\"],[0.7777777777777778,\"#fb9f3a\"],[0.8888888888888888,\"#fdca26\"],[1.0,\"#f0f921\"]]}],\"heatmapgl\":[{\"type\":\"heatmapgl\",\"colorbar\":{\"outlinewidth\":0,\"ticks\":\"\"},\"colorscale\":[[0.0,\"#0d0887\"],[0.1111111111111111,\"#46039f\"],[0.2222222222222222,\"#7201a8\"],[0.3333333333333333,\"#9c179e\"],[0.4444444444444444,\"#bd3786\"],[0.5555555555555556,\"#d8576b\"],[0.6666666666666666,\"#ed7953\"],[0.7777777777777778,\"#fb9f3a\"],[0.8888888888888888,\"#fdca26\"],[1.0,\"#f0f921\"]]}],\"contourcarpet\":[{\"type\":\"contourcarpet\",\"colorbar\":{\"outlinewidth\":0,\"ticks\":\"\"}}],\"contour\":[{\"type\":\"contour\",\"colorbar\":{\"outlinewidth\":0,\"ticks\":\"\"},\"colorscale\":[[0.0,\"#0d0887\"],[0.1111111111111111,\"#46039f\"],[0.2222222222222222,\"#7201a8\"],[0.3333333333333333,\"#9c179e\"],[0.4444444444444444,\"#bd3786\"],[0.5555555555555556,\"#d8576b\"],[0.6666666666666666,\"#ed7953\"],[0.7777777777777778,\"#fb9f3a\"],[0.8888888888888888,\"#fdca26\"],[1.0,\"#f0f921\"]]}],\"surface\":[{\"type\":\"surface\",\"colorbar\":{\"outlinewidth\":0,\"ticks\":\"\"},\"colorscale\":[[0.0,\"#0d0887\"],[0.1111111111111111,\"#46039f\"],[0.2222222222222222,\"#7201a8\"],[0.3333333333333333,\"#9c179e\"],[0.4444444444444444,\"#bd3786\"],[0.5555555555555556,\"#d8576b\"],[0.6666666666666666,\"#ed7953\"],[0.7777777777777778,\"#fb9f3a\"],[0.8888888888888888,\"#fdca26\"],[1.0,\"#f0f921\"]]}],\"mesh3d\":[{\"type\":\"mesh3d\",\"colorbar\":{\"outlinewidth\":0,\"ticks\":\"\"}}],\"scatter\":[{\"fillpattern\":{\"fillmode\":\"overlay\",\"size\":10,\"solidity\":0.2},\"type\":\"scatter\"}],\"parcoords\":[{\"type\":\"parcoords\",\"line\":{\"colorbar\":{\"outlinewidth\":0,\"ticks\":\"\"}}}],\"scatterpolargl\":[{\"type\":\"scatterpolargl\",\"marker\":{\"colorbar\":{\"outlinewidth\":0,\"ticks\":\"\"}}}],\"bar\":[{\"error_x\":{\"color\":\"#2a3f5f\"},\"error_y\":{\"color\":\"#2a3f5f\"},\"marker\":{\"line\":{\"color\":\"#E5ECF6\",\"width\":0.5},\"pattern\":{\"fillmode\":\"overlay\",\"size\":10,\"solidity\":0.2}},\"type\":\"bar\"}],\"scattergeo\":[{\"type\":\"scattergeo\",\"marker\":{\"colorbar\":{\"outlinewidth\":0,\"ticks\":\"\"}}}],\"scatterpolar\":[{\"type\":\"scatterpolar\",\"marker\":{\"colorbar\":{\"outlinewidth\":0,\"ticks\":\"\"}}}],\"histogram\":[{\"marker\":{\"pattern\":{\"fillmode\":\"overlay\",\"size\":10,\"solidity\":0.2}},\"type\":\"histogram\"}],\"scattergl\":[{\"type\":\"scattergl\",\"marker\":{\"colorbar\":{\"outlinewidth\":0,\"ticks\":\"\"}}}],\"scatter3d\":[{\"type\":\"scatter3d\",\"line\":{\"colorbar\":{\"outlinewidth\":0,\"ticks\":\"\"}},\"marker\":{\"colorbar\":{\"outlinewidth\":0,\"ticks\":\"\"}}}],\"scattermapbox\":[{\"type\":\"scattermapbox\",\"marker\":{\"colorbar\":{\"outlinewidth\":0,\"ticks\":\"\"}}}],\"scatterternary\":[{\"type\":\"scatterternary\",\"marker\":{\"colorbar\":{\"outlinewidth\":0,\"ticks\":\"\"}}}],\"scattercarpet\":[{\"type\":\"scattercarpet\",\"marker\":{\"colorbar\":{\"outlinewidth\":0,\"ticks\":\"\"}}}],\"carpet\":[{\"aaxis\":{\"endlinecolor\":\"#2a3f5f\",\"gridcolor\":\"white\",\"linecolor\":\"white\",\"minorgridcolor\":\"white\",\"startlinecolor\":\"#2a3f5f\"},\"baxis\":{\"endlinecolor\":\"#2a3f5f\",\"gridcolor\":\"white\",\"linecolor\":\"white\",\"minorgridcolor\":\"white\",\"startlinecolor\":\"#2a3f5f\"},\"type\":\"carpet\"}],\"table\":[{\"cells\":{\"fill\":{\"color\":\"#EBF0F8\"},\"line\":{\"color\":\"white\"}},\"header\":{\"fill\":{\"color\":\"#C8D4E3\"},\"line\":{\"color\":\"white\"}},\"type\":\"table\"}],\"barpolar\":[{\"marker\":{\"line\":{\"color\":\"#E5ECF6\",\"width\":0.5},\"pattern\":{\"fillmode\":\"overlay\",\"size\":10,\"solidity\":0.2}},\"type\":\"barpolar\"}],\"pie\":[{\"automargin\":true,\"type\":\"pie\"}]},\"layout\":{\"autotypenumbers\":\"strict\",\"colorway\":[\"#636efa\",\"#EF553B\",\"#00cc96\",\"#ab63fa\",\"#FFA15A\",\"#19d3f3\",\"#FF6692\",\"#B6E880\",\"#FF97FF\",\"#FECB52\"],\"font\":{\"color\":\"#2a3f5f\"},\"hovermode\":\"closest\",\"hoverlabel\":{\"align\":\"left\"},\"paper_bgcolor\":\"white\",\"plot_bgcolor\":\"#E5ECF6\",\"polar\":{\"bgcolor\":\"#E5ECF6\",\"angularaxis\":{\"gridcolor\":\"white\",\"linecolor\":\"white\",\"ticks\":\"\"},\"radialaxis\":{\"gridcolor\":\"white\",\"linecolor\":\"white\",\"ticks\":\"\"}},\"ternary\":{\"bgcolor\":\"#E5ECF6\",\"aaxis\":{\"gridcolor\":\"white\",\"linecolor\":\"white\",\"ticks\":\"\"},\"baxis\":{\"gridcolor\":\"white\",\"linecolor\":\"white\",\"ticks\":\"\"},\"caxis\":{\"gridcolor\":\"white\",\"linecolor\":\"white\",\"ticks\":\"\"}},\"coloraxis\":{\"colorbar\":{\"outlinewidth\":0,\"ticks\":\"\"}},\"colorscale\":{\"sequential\":[[0.0,\"#0d0887\"],[0.1111111111111111,\"#46039f\"],[0.2222222222222222,\"#7201a8\"],[0.3333333333333333,\"#9c179e\"],[0.4444444444444444,\"#bd3786\"],[0.5555555555555556,\"#d8576b\"],[0.6666666666666666,\"#ed7953\"],[0.7777777777777778,\"#fb9f3a\"],[0.8888888888888888,\"#fdca26\"],[1.0,\"#f0f921\"]],\"sequentialminus\":[[0.0,\"#0d0887\"],[0.1111111111111111,\"#46039f\"],[0.2222222222222222,\"#7201a8\"],[0.3333333333333333,\"#9c179e\"],[0.4444444444444444,\"#bd3786\"],[0.5555555555555556,\"#d8576b\"],[0.6666666666666666,\"#ed7953\"],[0.7777777777777778,\"#fb9f3a\"],[0.8888888888888888,\"#fdca26\"],[1.0,\"#f0f921\"]],\"diverging\":[[0,\"#8e0152\"],[0.1,\"#c51b7d\"],[0.2,\"#de77ae\"],[0.3,\"#f1b6da\"],[0.4,\"#fde0ef\"],[0.5,\"#f7f7f7\"],[0.6,\"#e6f5d0\"],[0.7,\"#b8e186\"],[0.8,\"#7fbc41\"],[0.9,\"#4d9221\"],[1,\"#276419\"]]},\"xaxis\":{\"gridcolor\":\"white\",\"linecolor\":\"white\",\"ticks\":\"\",\"title\":{\"standoff\":15},\"zerolinecolor\":\"white\",\"automargin\":true,\"zerolinewidth\":2},\"yaxis\":{\"gridcolor\":\"white\",\"linecolor\":\"white\",\"ticks\":\"\",\"title\":{\"standoff\":15},\"zerolinecolor\":\"white\",\"automargin\":true,\"zerolinewidth\":2},\"scene\":{\"xaxis\":{\"backgroundcolor\":\"#E5ECF6\",\"gridcolor\":\"white\",\"linecolor\":\"white\",\"showbackground\":true,\"ticks\":\"\",\"zerolinecolor\":\"white\",\"gridwidth\":2},\"yaxis\":{\"backgroundcolor\":\"#E5ECF6\",\"gridcolor\":\"white\",\"linecolor\":\"white\",\"showbackground\":true,\"ticks\":\"\",\"zerolinecolor\":\"white\",\"gridwidth\":2},\"zaxis\":{\"backgroundcolor\":\"#E5ECF6\",\"gridcolor\":\"white\",\"linecolor\":\"white\",\"showbackground\":true,\"ticks\":\"\",\"zerolinecolor\":\"white\",\"gridwidth\":2}},\"shapedefaults\":{\"line\":{\"color\":\"#2a3f5f\"}},\"annotationdefaults\":{\"arrowcolor\":\"#2a3f5f\",\"arrowhead\":0,\"arrowwidth\":1},\"geo\":{\"bgcolor\":\"white\",\"landcolor\":\"#E5ECF6\",\"subunitcolor\":\"white\",\"showland\":true,\"showlakes\":true,\"lakecolor\":\"white\"},\"title\":{\"x\":0.05},\"mapbox\":{\"style\":\"light\"}}},\"xaxis\":{\"title\":{\"text\":\"Valence\"}},\"yaxis\":{\"title\":{\"text\":\"Arousal\"}},\"title\":{\"text\":\"Valence-Arousal Graph\"}},                        {\"responsive\": true}                    ).then(function(){\n",
              "                            \n",
              "var gd = document.getElementById('b231b828-8ec0-4075-93b9-2e554c77acba');\n",
              "var x = new MutationObserver(function (mutations, observer) {{\n",
              "        var display = window.getComputedStyle(gd).display;\n",
              "        if (!display || display === 'none') {{\n",
              "            console.log([gd, 'removed!']);\n",
              "            Plotly.purge(gd);\n",
              "            observer.disconnect();\n",
              "        }}\n",
              "}});\n",
              "\n",
              "// Listen for the removal of the full notebook cells\n",
              "var notebookContainer = gd.closest('#notebook-container');\n",
              "if (notebookContainer) {{\n",
              "    x.observe(notebookContainer, {childList: true});\n",
              "}}\n",
              "\n",
              "// Listen for the clearing of the current output cell\n",
              "var outputEl = gd.closest('.output');\n",
              "if (outputEl) {{\n",
              "    x.observe(outputEl, {childList: true});\n",
              "}}\n",
              "\n",
              "                        })                };                            </script>        </div>\n",
              "</body>\n",
              "</html>"
            ]
          },
          "metadata": {}
        },
        {
          "output_type": "stream",
          "name": "stdout",
          "text": [
            "--- Closest tracks to trajectory ---\n",
            "1: lose_yourself\n",
            "2: Tejano Blue\n",
            "3: Broken Man\n",
            "4: Tongue Tied\n",
            "5: Too Much\n",
            "6: Heart To Heart\n",
            "7: You Know What You’ve Done\n",
            "8: Believer\n",
            "9: Blondie\n",
            "10: DOWNSIDE\n",
            "11: kinda smacks\n"
          ]
        }
      ],
      "source": [
        "p = Parabola(point)\n",
        "t4 = MusicOnTrajectory(filtered_df, p)\n",
        "\n",
        "t4.run()"
      ]
    }
  ],
  "metadata": {
    "kernelspec": {
      "display_name": "Python 3",
      "language": "python",
      "name": "python3"
    },
    "language_info": {
      "name": "python",
      "version": "3.11.8"
    },
    "colab": {
      "provenance": []
    }
  },
  "nbformat": 4,
  "nbformat_minor": 0
}