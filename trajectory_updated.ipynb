{
  "cells": [
    {
      "cell_type": "markdown",
      "metadata": {
        "id": "xLdYelj7q2QM"
      },
      "source": [
        "# Download Music"
      ]
    },
    {
      "cell_type": "code",
      "execution_count": 2,
      "metadata": {
        "colab": {
          "base_uri": "https://localhost:8080/"
        },
        "id": "gmrjqMNMrnlq",
        "outputId": "686b18eb-335e-4b0e-d094-6b2af905d8d5"
      },
      "outputs": [
        {
          "name": "stdout",
          "output_type": "stream",
          "text": [
            "Collecting yt-dlp\n",
            "  Downloading yt_dlp-2024.4.9-py3-none-any.whl (3.1 MB)\n",
            "\u001b[2K     \u001b[90m━━━━━━━━━━━━━━━━━━━━━━━━━━━━━━━━━━━━━━━━\u001b[0m \u001b[32m3.1/3.1 MB\u001b[0m \u001b[31m8.4 MB/s\u001b[0m eta \u001b[36m0:00:00\u001b[0m\n",
            "\u001b[?25hCollecting brotli (from yt-dlp)\n",
            "  Downloading Brotli-1.1.0-cp310-cp310-manylinux_2_5_x86_64.manylinux1_x86_64.manylinux_2_12_x86_64.manylinux2010_x86_64.whl (3.0 MB)\n",
            "\u001b[2K     \u001b[90m━━━━━━━━━━━━━━━━━━━━━━━━━━━━━━━━━━━━━━━━\u001b[0m \u001b[32m3.0/3.0 MB\u001b[0m \u001b[31m15.1 MB/s\u001b[0m eta \u001b[36m0:00:00\u001b[0m\n",
            "\u001b[?25hRequirement already satisfied: certifi in /usr/local/lib/python3.10/dist-packages (from yt-dlp) (2024.2.2)\n",
            "Collecting mutagen (from yt-dlp)\n",
            "  Downloading mutagen-1.47.0-py3-none-any.whl (194 kB)\n",
            "\u001b[2K     \u001b[90m━━━━━━━━━━━━━━━━━━━━━━━━━━━━━━━━━━━━━━━━\u001b[0m \u001b[32m194.4/194.4 kB\u001b[0m \u001b[31m21.7 MB/s\u001b[0m eta \u001b[36m0:00:00\u001b[0m\n",
            "\u001b[?25hCollecting pycryptodomex (from yt-dlp)\n",
            "  Downloading pycryptodomex-3.20.0-cp35-abi3-manylinux_2_17_x86_64.manylinux2014_x86_64.whl (2.1 MB)\n",
            "\u001b[2K     \u001b[90m━━━━━━━━━━━━━━━━━━━━━━━━━━━━━━━━━━━━━━━━\u001b[0m \u001b[32m2.1/2.1 MB\u001b[0m \u001b[31m24.9 MB/s\u001b[0m eta \u001b[36m0:00:00\u001b[0m\n",
            "\u001b[?25hRequirement already satisfied: requests<3,>=2.31.0 in /usr/local/lib/python3.10/dist-packages (from yt-dlp) (2.31.0)\n",
            "Requirement already satisfied: urllib3<3,>=1.26.17 in /usr/local/lib/python3.10/dist-packages (from yt-dlp) (2.0.7)\n",
            "Collecting websockets>=12.0 (from yt-dlp)\n",
            "  Downloading websockets-12.0-cp310-cp310-manylinux_2_5_x86_64.manylinux1_x86_64.manylinux_2_17_x86_64.manylinux2014_x86_64.whl (130 kB)\n",
            "\u001b[2K     \u001b[90m━━━━━━━━━━━━━━━━━━━━━━━━━━━━━━━━━━━━━━━━\u001b[0m \u001b[32m130.2/130.2 kB\u001b[0m \u001b[31m19.5 MB/s\u001b[0m eta \u001b[36m0:00:00\u001b[0m\n",
            "\u001b[?25hRequirement already satisfied: charset-normalizer<4,>=2 in /usr/local/lib/python3.10/dist-packages (from requests<3,>=2.31.0->yt-dlp) (3.3.2)\n",
            "Requirement already satisfied: idna<4,>=2.5 in /usr/local/lib/python3.10/dist-packages (from requests<3,>=2.31.0->yt-dlp) (3.6)\n",
            "Installing collected packages: brotli, websockets, pycryptodomex, mutagen, yt-dlp\n",
            "Successfully installed brotli-1.1.0 mutagen-1.47.0 pycryptodomex-3.20.0 websockets-12.0 yt-dlp-2024.4.9\n"
          ]
        }
      ],
      "source": [
        "!pip install yt-dlp"
      ]
    },
    {
      "cell_type": "code",
      "execution_count": 3,
      "metadata": {
        "id": "gC5uAB1SrXu3"
      },
      "outputs": [],
      "source": [
        "from yt_dlp import YoutubeDL"
      ]
    },
    {
      "cell_type": "code",
      "execution_count": 22,
      "metadata": {
        "colab": {
          "base_uri": "https://localhost:8080/"
        },
        "id": "lBLbv4B3q2bz",
        "outputId": "24cd6783-71e8-41fa-afc1-aba231c4cc6c"
      },
      "outputs": [
        {
          "name": "stdout",
          "output_type": "stream",
          "text": [
            "[youtube] Extracting URL: https://www.youtube.com/watch?v=kXYiU_JCYtU\n",
            "[youtube] kXYiU_JCYtU: Downloading webpage\n",
            "[youtube] kXYiU_JCYtU: Downloading ios player API JSON\n",
            "[youtube] kXYiU_JCYtU: Downloading android player API JSON\n",
            "[youtube] kXYiU_JCYtU: Downloading m3u8 information\n",
            "[info] kXYiU_JCYtU: Downloading 1 format(s): 251\n",
            "[download] Destination: Numb (Official Music Video) [4K UPGRADE] – Linkin Park [kXYiU_JCYtU].webm\n",
            "[download] 100% of    2.76MiB in 00:00:00 at 24.94MiB/s  \n",
            "[ExtractAudio] Destination: Numb (Official Music Video) [4K UPGRADE] – Linkin Park [kXYiU_JCYtU].mp3\n",
            "Deleting original file Numb (Official Music Video) [4K UPGRADE] – Linkin Park [kXYiU_JCYtU].webm (pass -k to keep)\n"
          ]
        }
      ],
      "source": [
        "opts = {\n",
        "    'format': 'bestaudio/best',\n",
        "    'extract_audio': True,\n",
        "    'audio_format': 'mp3',\n",
        "    'audio_quality': 0,  # Best quality\n",
        "    'postprocessors': [{\n",
        "        'key': 'FFmpegExtractAudio',\n",
        "        'preferredcodec': 'mp3',\n",
        "    }],\n",
        "    'postprocessor_args': [\n",
        "        '-ss', '00:00:00',  # Start time (00:00:00)\n",
        "        '-t', '00:00:45'    # Duration (45 seconds)\n",
        "    ],\n",
        "}\n",
        "\n",
        "url = 'https://www.youtube.com/watch?v=kXYiU_JCYtU'\n",
        "\n",
        "with YoutubeDL(opts) as ydl:\n",
        "    ydl.download([url])"
      ]
    },
    {
      "cell_type": "markdown",
      "metadata": {
        "id": "60Nj5PLyQsuD"
      },
      "source": [
        "# Load Modules"
      ]
    },
    {
      "cell_type": "code",
      "execution_count": 5,
      "metadata": {
        "id": "ppFCOq-5QsuD"
      },
      "outputs": [],
      "source": [
        "import pandas as pd\n",
        "\n",
        "import plotly.graph_objects as go\n",
        "\n",
        "import numpy as np\n",
        "\n",
        "from sklearn.metrics.pairwise import cosine_similarity\n",
        "\n",
        "from scipy.spatial.distance import cdist\n",
        "\n",
        "import ast"
      ]
    },
    {
      "cell_type": "markdown",
      "metadata": {
        "id": "WMXsbpHz9UBn"
      },
      "source": [
        "# Load Model"
      ]
    },
    {
      "cell_type": "markdown",
      "metadata": {
        "id": "p2zykcze_vME"
      },
      "source": [
        "## Load VA Generation"
      ]
    },
    {
      "cell_type": "code",
      "execution_count": 13,
      "metadata": {
        "id": "vDG60UPN9PoI"
      },
      "outputs": [],
      "source": [
        "import torch\n",
        "import torch.nn as nn\n",
        "import torch.nn.functional as F\n",
        "\n",
        "class Attention(nn.Module):\n",
        "    def __init__(self, feature_dim):\n",
        "        super(Attention, self).__init__()\n",
        "        self.feature_dim = feature_dim\n",
        "        self.attention = nn.Sequential(\n",
        "            nn.Linear(feature_dim, 64),\n",
        "            nn.ReLU(inplace=True),\n",
        "            nn.Linear(64, 1)\n",
        "        )\n",
        "\n",
        "    def forward(self, x):\n",
        "        scores = self.attention(x)\n",
        "        alpha = F.softmax(scores, dim=1)\n",
        "        attended_features = x * alpha\n",
        "        return attended_features.view(-1, self.feature_dim)\n",
        "\n",
        "class AudioNet(nn.Module):\n",
        "    def __init__(self, params_dict):\n",
        "        super(AudioNet, self).__init__()\n",
        "        self.in_ch = params_dict.get('in_ch', 1)\n",
        "        self.num_filters1 = params_dict.get('num_filters1', 32)\n",
        "        self.num_filters2 = params_dict.get('num_filters2', 64)\n",
        "        self.num_hidden = params_dict.get('num_hidden', 128)\n",
        "        self.out_size = params_dict.get('out_size', 1)\n",
        "\n",
        "        self.conv1 = nn.Sequential(\n",
        "            nn.Conv1d(self.in_ch, self.num_filters1, kernel_size=10, stride=1),\n",
        "            nn.BatchNorm1d(self.num_filters1),\n",
        "            nn.ReLU(inplace=True),\n",
        "            nn.AvgPool1d(kernel_size=2, stride=2)\n",
        "        )\n",
        "        self.conv2 = nn.Sequential(\n",
        "            nn.Conv1d(self.num_filters1, self.num_filters2, kernel_size=10, stride=1),\n",
        "            nn.BatchNorm1d(self.num_filters2),\n",
        "            nn.ReLU(inplace=True),\n",
        "            nn.AvgPool1d(kernel_size=2, stride=2)\n",
        "        )\n",
        "        self.pool = nn.AvgPool1d(kernel_size=10, stride=10)\n",
        "\n",
        "        self._to_linear = None\n",
        "        self.attention = Attention(self._get_to_linear())\n",
        "\n",
        "        self.fc1 = nn.Linear(self._get_to_linear(), self.num_hidden)\n",
        "        self.fc2 = nn.Linear(self.num_hidden, self.out_size)\n",
        "        self.drop = nn.Dropout(p=0.5)\n",
        "        self.act = nn.ReLU(inplace=True)\n",
        "\n",
        "    def _get_to_linear(self):\n",
        "        if self._to_linear is None:\n",
        "            x = torch.randn(1, self.in_ch, 4501)\n",
        "            with torch.no_grad():\n",
        "                x = self.conv1(x)\n",
        "                x = self.conv2(x)\n",
        "                x = self.pool(x)\n",
        "                self._to_linear = x.numel() // x.shape[0]\n",
        "        return self._to_linear\n",
        "\n",
        "    def forward(self, x):\n",
        "        x = self.conv1(x)\n",
        "        x = self.conv2(x)\n",
        "        x = self.pool(x)\n",
        "        x = x.view(-1, self._get_to_linear())\n",
        "        x = self.attention(x)\n",
        "        x = self.fc1(x)\n",
        "        x = self.drop(x)\n",
        "        x = self.act(x)\n",
        "        x = self.fc2(x)\n",
        "        return x.to(x.device)"
      ]
    },
    {
      "cell_type": "code",
      "execution_count": 14,
      "metadata": {
        "id": "m8vzttSJ9aPy"
      },
      "outputs": [],
      "source": [
        "import librosa\n",
        "import numpy as np\n",
        "\n",
        "def extract_features(audio_path, sample_rate=44100):\n",
        "    wave, sr = librosa.load(audio_path, sr=sample_rate)\n",
        "    if len(wave) < sr * 45:\n",
        "        wave = np.pad(wave, (0, sr * 45 - len(wave)), 'constant')\n",
        "    wave = wave[:sr * 45]\n",
        "\n",
        "    hop_length = int(sr * 0.01)\n",
        "    win_length = int(sr * 0.025)\n",
        "\n",
        "    mfcc = librosa.feature.mfcc(y=wave, sr=sr, n_mfcc=20, n_fft=2048, hop_length=hop_length, win_length=win_length)\n",
        "    chroma = librosa.feature.chroma_stft(y=wave, sr=sr, n_fft=2048, hop_length=hop_length)\n",
        "    contrast = librosa.feature.spectral_contrast(y=wave, sr=sr, n_fft=2048, hop_length=hop_length)\n",
        "\n",
        "    return np.concatenate((mfcc, chroma, contrast), axis=0)\n",
        "\n",
        "\n",
        "def predict(model, features):\n",
        "    device = torch.device('cuda' if torch.cuda.is_available() else 'cpu')\n",
        "    model.to(device)\n",
        "    model.eval()\n",
        "    features = torch.tensor(features, dtype=torch.float32).unsqueeze(0).to(device)\n",
        "    with torch.no_grad():\n",
        "        output = model(features)\n",
        "    return output.cpu().numpy()"
      ]
    },
    {
      "cell_type": "code",
      "execution_count": 15,
      "metadata": {
        "id": "FbM26nJp9aFS"
      },
      "outputs": [],
      "source": [
        "class Predictor:\n",
        "    def __init__(self, model_path_valence, model_path_arousal):\n",
        "        self.model_path_valence = model_path_valence\n",
        "        self.model_path_arousal = model_path_arousal\n",
        "        self.device = torch.device('cuda' if torch.cuda.is_available() else 'cpu')\n",
        "\n",
        "        valence_params = {\n",
        "            \"in_ch\": 39, \"num_filters1\": 32, \"num_filters2\": 64, \"num_hidden\": 64, \"out_size\": 1\n",
        "        }\n",
        "        arousal_params = {\n",
        "            \"in_ch\": 39, \"num_filters1\": 32, \"num_filters2\": 32, \"num_hidden\": 128, \"out_size\": 1\n",
        "        }\n",
        "\n",
        "        self.valence_model = self.load_model(model_path_valence, valence_params)\n",
        "        self.arousal_model = self.load_model(model_path_arousal, arousal_params)\n",
        "\n",
        "    def load_model(self, model_path, params):\n",
        "        model = AudioNet(params)\n",
        "        model.load_state_dict(torch.load(model_path, map_location=self.device))\n",
        "        model.to(self.device)\n",
        "        model.eval()\n",
        "        return model\n",
        "\n",
        "    def extract_features(self, audio_path):\n",
        "        sample_rate = 44100\n",
        "        wave, sr = librosa.load(audio_path, sr=sample_rate)\n",
        "        if len(wave) < sr * 45:\n",
        "            wave = np.pad(wave, (0, sr * 45 - len(wave)), 'constant')\n",
        "        wave = wave[:sr * 45]\n",
        "\n",
        "        hop_length = int(sr * 0.01)\n",
        "        win_length = int(sr * 0.025)\n",
        "\n",
        "        mfcc = librosa.feature.mfcc(y=wave, sr=sr, n_mfcc=20, n_fft=2048, hop_length=hop_length, win_length=win_length)\n",
        "        chroma = librosa.feature.chroma_stft(y=wave, sr=sr, n_fft=2048, hop_length=hop_length)\n",
        "        contrast = librosa.feature.spectral_contrast(y=wave, sr=sr, n_fft=2048, hop_length=hop_length)\n",
        "\n",
        "        features = np.concatenate((mfcc, chroma, contrast), axis=0)\n",
        "        features_tensor = torch.tensor(features, dtype=torch.float32).unsqueeze(0)\n",
        "        return features_tensor.to(self.device)\n",
        "\n",
        "    def predict(self, audio_path):\n",
        "        features = self.extract_features(audio_path)\n",
        "        with torch.no_grad():\n",
        "            valence_prediction = self.valence_model(features)\n",
        "            arousal_prediction = self.arousal_model(features)\n",
        "        return valence_prediction.item(), arousal_prediction.item()"
      ]
    },
    {
      "cell_type": "code",
      "execution_count": 16,
      "metadata": {
        "id": "wTAGD1mr9fQq"
      },
      "outputs": [],
      "source": [
        "import math\n",
        "\n",
        "emotions = {\n",
        "    \"Sleepy\": {\"valence\": 0.01, \"arousal\": -1.00},\n",
        "    \"Tired\": {\"valence\": -0.01, \"arousal\": -1.00},\n",
        "    \"Afraid\": {\"valence\": -0.12, \"arousal\": 0.79},\n",
        "    \"Angry\":{\"valence\": -0.40, \"arousal\": 0.79},\n",
        "    \"Calm\":{\"valence\": 0.78, \"arousal\": -0.68},\n",
        "    \"Relaxed\":{\"valence\": 0.71, \"arousal\": -0.65},\n",
        "    \"Content\":{\"valence\": 0.81, \"arousal\": -0.55},\n",
        "    \"Depressed\":{\"valence\": -0.81, \"arousal\": -0.48},\n",
        "    \"Discontent\":{\"valence\": -0.68, \"arousal\": -0.32},\n",
        "    \"Determined\":{\"valence\": 0.73, \"arousal\": 0.26},\n",
        "    \"Happy\":{\"valence\": 0.89, \"arousal\": 0.17},\n",
        "    \"Anxious\":{\"valence\": -0.72, \"arousal\": -0.80},\n",
        "    \"Good\":{\"valence\": 0.90, \"arousal\": -0.08},\n",
        "    \"Pensive\":{\"valence\": 0.03, \"arousal\": -0.60},\n",
        "    \"Impressed\":{\"valence\": 0.39, \"arousal\": -0.06},\n",
        "    \"Frustrated\":{\"valence\": -0.60, \"arousal\": 0.40},\n",
        "    \"Disappointed\":{\"valence\": -0.80, \"arousal\": -0.03},\n",
        "    \"Bored\":{\"valence\": -0.35, \"arousal\": -0.78},\n",
        "    \"Annoyed\":{\"valence\": -0.44, \"arousal\": 0.76},\n",
        "    \"Enraged\":{\"valence\": -0.18, \"arousal\": 0.83},\n",
        "    \"Excited\":{\"valence\": 0.70, \"arousal\": 0.71},\n",
        "    \"Melancholy\":{\"valence\": -0.05, \"arousal\": -0.65},\n",
        "    \"Satisfied\":{\"valence\": 0.77, \"arousal\": -0.63},\n",
        "    \"Distressed\":{\"valence\": -0.71, \"arousal\": 0.55},\n",
        "    \"Uncomfortable\":{\"valence\": -0.68, \"arousal\": -0.37},\n",
        "    \"Worried\":{\"valence\": -0.07, \"arousal\": -0.32},\n",
        "    \"Amused\":{\"valence\": 0.55, \"arousal\": 0.19},\n",
        "    \"Apathetic\":{\"valence\": -0.20, \"arousal\": -0.12},\n",
        "    \"Peaceful\":{\"valence\": 0.55, \"arousal\": -0.80},\n",
        "    \"Contemplative\":{\"valence\": 0.58, \"arousal\": -0.60},\n",
        "    \"Embarrassed\":{\"valence\": -0.31, \"arousal\": -0.60},\n",
        "    \"Sad\":{\"valence\": -0.81, \"arousal\": -0.40},\n",
        "    \"Hopeful\":{\"valence\": 0.61, \"arousal\": -0.30},\n",
        "    \"Pleased\":{\"valence\": 0.89, \"arousal\": -0.10},\n",
        "}\n",
        "\n",
        "def find_emotion(valence, arousal):\n",
        "    closest_emotion = None\n",
        "    min_distance = math.inf\n",
        "\n",
        "    for emotion, scores in emotions.items():\n",
        "        distance = math.sqrt((valence - scores[\"valence\"])**2 + (arousal - scores[\"arousal\"])**2)\n",
        "\n",
        "        if distance < min_distance:\n",
        "            min_distance = distance\n",
        "            closest_emotion = emotion\n",
        "\n",
        "    return closest_emotion\n",
        "\n",
        "clustered_emotions = {'blue': ['Determined',\n",
        "  'Happy',\n",
        "  'Good',\n",
        "  'Impressed',\n",
        "  'Excited',\n",
        "  'Amused',\n",
        "  'Hopeful',\n",
        "  'Pleased'],\n",
        " 'red': ['Depressed',\n",
        "  'Discontent',\n",
        "  'Anxious',\n",
        "  'Disappointed',\n",
        "  'Bored',\n",
        "  'Uncomfortable',\n",
        "  'Worried',\n",
        "  'Apathetic',\n",
        "  'Embarrassed',\n",
        "  'Sad'],\n",
        " 'green': ['Afraid', 'Angry', 'Frustrated', 'Annoyed', 'Enraged', 'Distressed'],\n",
        " 'purple': ['Sleepy',\n",
        "  'Tired',\n",
        "  'Calm',\n",
        "  'Relaxed',\n",
        "  'Content',\n",
        "  'Pensive',\n",
        "  'Melancholy',\n",
        "  'Satisfied',\n",
        "  'Peaceful',\n",
        "  'Contemplative']}\n",
        "\n",
        "\n",
        "def get_colormap(valence, arousal):\n",
        "    valence, arousal = normalize_value(valence), normalize_value(arousal)\n",
        "    emotion = find_emotion(valence, arousal)\n",
        "    for color, emotion_list in clustered_emotions.items():\n",
        "        if emotion in emotion_list:\n",
        "            return color\n",
        "    return None\n",
        "\n",
        "def normalize_value(value):\n",
        "    return (value - 1) / 4 - 1"
      ]
    },
    {
      "cell_type": "markdown",
      "metadata": {
        "id": "qI1sBGtN_yRQ"
      },
      "source": [
        "## Load Genre prediction"
      ]
    },
    {
      "cell_type": "code",
      "execution_count": 17,
      "metadata": {
        "colab": {
          "base_uri": "https://localhost:8080/"
        },
        "id": "MBP6Ef6R_4TQ",
        "outputId": "5ae190c4-bfe7-44c6-a23a-f36536908f81"
      },
      "outputs": [
        {
          "data": {
            "text/plain": [
              "MusicGenreClassifier(\n",
              "  (network): Sequential(\n",
              "    (0): Linear(in_features=57, out_features=1024, bias=True)\n",
              "    (1): ReLU()\n",
              "    (2): Dropout(p=0.3, inplace=False)\n",
              "    (3): Linear(in_features=1024, out_features=512, bias=True)\n",
              "    (4): ReLU()\n",
              "    (5): Dropout(p=0.3, inplace=False)\n",
              "    (6): Linear(in_features=512, out_features=256, bias=True)\n",
              "    (7): ReLU()\n",
              "    (8): Dropout(p=0.3, inplace=False)\n",
              "    (9): Linear(in_features=256, out_features=128, bias=True)\n",
              "    (10): ReLU()\n",
              "    (11): Dropout(p=0.3, inplace=False)\n",
              "    (12): Linear(in_features=128, out_features=64, bias=True)\n",
              "    (13): ReLU()\n",
              "    (14): Dropout(p=0.3, inplace=False)\n",
              "    (15): Linear(in_features=64, out_features=10, bias=True)\n",
              "    (16): Softmax(dim=1)\n",
              "  )\n",
              ")"
            ]
          },
          "execution_count": 17,
          "metadata": {},
          "output_type": "execute_result"
        }
      ],
      "source": [
        "import torch\n",
        "import torch.nn as nn\n",
        "\n",
        "class MusicGenreClassifier(nn.Module):\n",
        "    def __init__(self, input_size, num_classes):\n",
        "        super(MusicGenreClassifier, self).__init__()\n",
        "        self.network = nn.Sequential(\n",
        "            nn.Linear(input_size, 1024),\n",
        "            nn.ReLU(),\n",
        "            nn.Dropout(0.3),\n",
        "            nn.Linear(1024, 512),\n",
        "            nn.ReLU(),\n",
        "            nn.Dropout(0.3),\n",
        "            nn.Linear(512, 256),\n",
        "            nn.ReLU(),\n",
        "            nn.Dropout(0.3),\n",
        "            nn.Linear(256, 128),\n",
        "            nn.ReLU(),\n",
        "            nn.Dropout(0.3),\n",
        "            nn.Linear(128, 64),\n",
        "            nn.ReLU(),\n",
        "            nn.Dropout(0.3),\n",
        "            nn.Linear(64, num_classes),\n",
        "            nn.Softmax(dim=1)\n",
        "        )\n",
        "\n",
        "    def forward(self, x):\n",
        "        return self.network(x)\n",
        "\n",
        "model = MusicGenreClassifier(input_size=57, num_classes=10)\n",
        "model.load_state_dict(torch.load('genre_classifier_model.pth'))\n",
        "model.eval()"
      ]
    },
    {
      "cell_type": "code",
      "execution_count": 18,
      "metadata": {
        "id": "h3NAIS_X_0Wo"
      },
      "outputs": [],
      "source": [
        "import librosa\n",
        "import numpy as np\n",
        "\n",
        "def extract_features(audio_path):\n",
        "    y, sr = librosa.load(audio_path, sr=None)\n",
        "    features = []\n",
        "    chroma_stft = librosa.feature.chroma_stft(y=y, sr=sr)\n",
        "    features.extend([np.mean(chroma_stft), np.var(chroma_stft)])\n",
        "    rms = librosa.feature.rms(y=y)\n",
        "    features.extend([np.mean(rms), np.var(rms)])\n",
        "    spec_centroid = librosa.feature.spectral_centroid(y=y, sr=sr)\n",
        "    features.extend([np.mean(spec_centroid), np.var(spec_centroid)])\n",
        "    spec_bandwidth = librosa.feature.spectral_bandwidth(y=y, sr=sr)\n",
        "    features.extend([np.mean(spec_bandwidth), np.var(spec_bandwidth)])\n",
        "    rolloff = librosa.feature.spectral_rolloff(y=y, sr=sr)\n",
        "    features.extend([np.mean(rolloff), np.var(rolloff)])\n",
        "    zero_cross_rate = librosa.feature.zero_crossing_rate(y)\n",
        "    features.extend([np.mean(zero_cross_rate), np.var(zero_cross_rate)])\n",
        "    harmony = librosa.effects.harmonic(y)\n",
        "    features.extend([np.mean(harmony), np.var(harmony)])\n",
        "    percussive = librosa.effects.percussive(y)\n",
        "    features.extend([np.mean(percussive), np.var(percussive)])\n",
        "    tempo = librosa.beat.tempo(y=y, sr=sr, aggregate=None)\n",
        "    features.append(np.mean(tempo))\n",
        "    mfccs = librosa.feature.mfcc(y=y, sr=sr, n_mfcc=20)\n",
        "    for mfcc in mfccs:\n",
        "        features.extend([np.mean(mfcc), np.var(mfcc)])\n",
        "\n",
        "    return np.array(features)"
      ]
    },
    {
      "cell_type": "markdown",
      "metadata": {
        "id": "eRjpiZieQsuE"
      },
      "source": [
        "# Load Dataset"
      ]
    },
    {
      "cell_type": "code",
      "execution_count": 34,
      "metadata": {
        "id": "ADS-tLjcQsuE"
      },
      "outputs": [],
      "source": [
        "df = pd.read_csv(\"spotify_va.csv\")"
      ]
    },
    {
      "cell_type": "markdown",
      "metadata": {
        "id": "DT4zRyNCQsuF"
      },
      "source": [
        "## Extract Features from Music\n",
        "Predictions include: valence, arousal, genre and colour"
      ]
    },
    {
      "cell_type": "code",
      "execution_count": 30,
      "metadata": {
        "colab": {
          "base_uri": "https://localhost:8080/"
        },
        "id": "0JYNM9K7QsuF",
        "outputId": "190a6cfe-5cf9-4b41-85f9-99ccf30288c8"
      },
      "outputs": [
        {
          "name": "stdout",
          "output_type": "stream",
          "text": [
            "Valence: 4.940221309661865, Arousal: 5.504947662353516\n",
            "Emotion Detected: red\n"
          ]
        },
        {
          "name": "stderr",
          "output_type": "stream",
          "text": [
            "<ipython-input-18-0bbf0ff63273>:23: FutureWarning:\n",
            "\n",
            "librosa.beat.tempo\n",
            "\tThis function was moved to 'librosa.feature.rhythm.tempo' in librosa version 0.10.0.\n",
            "\tThis alias will be removed in librosa version 1.0.\n",
            "\n"
          ]
        },
        {
          "name": "stdout",
          "output_type": "stream",
          "text": [
            "The predicted genre of the song is: rock\n"
          ]
        }
      ],
      "source": [
        "audio_path = 'Numb.mp3'\n",
        "model_path_valence = 'model_valence.pth'\n",
        "model_path_arousal = 'model_arousal.pth'\n",
        "\n",
        "predictor = Predictor(model_path_valence, model_path_arousal)\n",
        "valence, arousal = predictor.predict(audio_path)\n",
        "print(f\"Valence: {valence}, Arousal: {arousal}\")\n",
        "color = get_colormap(valence, arousal)\n",
        "print(f'Emotion Detected: {color}')\n",
        "\n",
        "features = extract_features(audio_path)\n",
        "feature_values = torch.tensor(features, dtype=torch.float32).unsqueeze(0)\n",
        "\n",
        "model.eval()\n",
        "with torch.no_grad():\n",
        "    outputs = model(feature_values)\n",
        "    predicted_genre_index = outputs.argmax(dim=1).item()\n",
        "\n",
        "genre_mapping = {0: 'blues', 1: 'classical', 2: 'country', 3: 'disco', 4: 'hiphop',\n",
        "                 5: 'jazz', 6: 'metal', 7: 'pop', 8: 'reggae', 9: 'rock'}\n",
        "\n",
        "genre = genre_mapping[predicted_genre_index]\n",
        "print(f\"The predicted genre of the song is: {genre}\")"
      ]
    },
    {
      "cell_type": "markdown",
      "metadata": {
        "id": "qku14FaBwaOx"
      },
      "source": [
        "Valence: 4.940221309661865, Arousal: 5.504947662353516\n",
        "Emotion Detected: red\n",
        "<ipython-input-18-0bbf0ff63273>:23: FutureWarning:\n",
        "\n",
        "librosa.beat.tempo\n",
        "\tThis function was moved to 'librosa.feature.rhythm.tempo' in librosa version 0.10.0.\n",
        "\tThis alias will be removed in librosa version 1.0.\n",
        "\n",
        "The predicted genre of the song is: rock"
      ]
    },
    {
      "cell_type": "code",
      "execution_count": 35,
      "metadata": {
        "id": "wAWP3XhPBVzO"
      },
      "outputs": [],
      "source": [
        "new_row = {\n",
        "    'spotify_id': 'new_id',\n",
        "    'artist': 'New Artist',\n",
        "    'track': audio_path.split(\".\")[0],\n",
        "    'file_path': audio_path,\n",
        "    'genre': genre,\n",
        "    'valence': valence,\n",
        "    'arousal': arousal,\n",
        "    'colour': color\n",
        "}\n",
        "\n",
        "# Add the new row to the DataFrame\n",
        "df = df._append(new_row, ignore_index=True)"
      ]
    },
    {
      "cell_type": "code",
      "execution_count": 36,
      "metadata": {
        "id": "8ACwwra8IJeI"
      },
      "outputs": [],
      "source": [
        "def filter_genre(df, genre):\n",
        "  if genre == \"blues\" or genre == \"jazz\":\n",
        "    filtered_df = df[df[\"genre\"] == \"blues\"]\n",
        "  elif genre == \"raggae\" or genre == \"classical\":\n",
        "    filtered_df = df\n",
        "  else:\n",
        "    filtered_df = df[df[\"genre\"] == genre]\n",
        "  return filtered_df\n",
        "\n",
        "filtered_df = filter_genre(df, genre)"
      ]
    },
    {
      "cell_type": "markdown",
      "metadata": {
        "id": "jArv1flLQsuG"
      },
      "source": [
        "# Build class\n",
        "\n",
        "Might have to change the params for each shape when we settle on the spotify dataset"
      ]
    },
    {
      "cell_type": "code",
      "execution_count": 37,
      "metadata": {
        "id": "2x6vCfNpQsuG"
      },
      "outputs": [],
      "source": [
        "class MusicOnTrajectory:\n",
        "    def __init__(self, df, shape):\n",
        "        self.df = df\n",
        "        self.shape = shape\n",
        "\n",
        "    def run(self):\n",
        "      closest_songs = self.shape.find_closest_songs(self.df)\n",
        "      self.shape.plot_closest_points(closest_songs)"
      ]
    },
    {
      "cell_type": "code",
      "execution_count": 38,
      "metadata": {
        "colab": {
          "base_uri": "https://localhost:8080/"
        },
        "id": "0-8O7qbpQsuG",
        "outputId": "842e79f9-9648-4646-ad74-803d4a7042db"
      },
      "outputs": [
        {
          "data": {
            "text/plain": [
              "(4.940221309661865, 5.504947662353516)"
            ]
          },
          "execution_count": 38,
          "metadata": {},
          "output_type": "execute_result"
        }
      ],
      "source": [
        "point = (valence, arousal)\n",
        "point"
      ]
    },
    {
      "cell_type": "markdown",
      "metadata": {
        "id": "MwqPVzY8QsuH"
      },
      "source": [
        "## Line"
      ]
    },
    {
      "cell_type": "code",
      "execution_count": 39,
      "metadata": {
        "id": "ptekfXaPQsuH"
      },
      "outputs": [],
      "source": [
        "class Line:\n",
        "    def __init__(self, point):\n",
        "        self.x = point[0]\n",
        "        self.y = point[1]\n",
        "        self.m = None\n",
        "        self.c = None\n",
        "\n",
        "    def set_slope(self, m):\n",
        "      self.m = m\n",
        "\n",
        "    def set_intercept(self, c):\n",
        "      self.c = c\n",
        "\n",
        "    def equation(self, x):\n",
        "        return self.m * x + self.c\n",
        "\n",
        "    def perpendicular_distance(self, x, y):\n",
        "        y_line = self.equation(x)\n",
        "        return np.abs(y - y_line) / np.sqrt(self.m**2 + 1)\n",
        "\n",
        "    def set_m_c(self, df):\n",
        "      other_x = df.loc[:, 'valence'].values\n",
        "      other_y = df.loc[:, 'arousal'].values\n",
        "      # Calculate the slope of the line passing through the specific point\n",
        "      # and minimize the error with the other points\n",
        "      m = np.sum((other_x - self.x) * (other_y - self.y)) / np.sum((other_x - self.x)**2)\n",
        "      c = self.y - m * self.x\n",
        "      self.set_slope(m)\n",
        "      self.set_intercept(c)\n",
        "\n",
        "    def find_closest_songs(self, df):\n",
        "        self.set_m_c(df)\n",
        "        df['distance_to_line'] = self.perpendicular_distance(df['valence'], df['arousal'])\n",
        "        closest_songs = df.sort_values(by='distance_to_line').head(10)\n",
        "        return closest_songs\n",
        "\n",
        "    def plot_closest_points(self, closest_songs):\n",
        "        fig = go.Figure()\n",
        "\n",
        "        fig.add_trace(go.Scatter(\n",
        "            x=closest_songs['valence'],\n",
        "            y=closest_songs['arousal'],\n",
        "            mode='markers',\n",
        "            marker=dict(color=closest_songs['colour']),\n",
        "            text=closest_songs['track'],\n",
        "            hoverinfo='text+x+y',  # Display track and artist information on hover\n",
        "            showlegend=False\n",
        "        ))\n",
        "\n",
        "        x_values = np.linspace(min(closest_songs['valence']), max(closest_songs['valence']), 100)\n",
        "        y_values = self.equation(x_values)\n",
        "        fig.add_trace(go.Scatter(\n",
        "            x=x_values,\n",
        "            y=y_values,\n",
        "            mode='lines',\n",
        "            line=dict(color='black'),\n",
        "            name='Best-Fit Line'\n",
        "        ))\n",
        "\n",
        "        fig.update_layout(\n",
        "            xaxis_title='Valence',\n",
        "            yaxis_title='Arousal',\n",
        "            title='Valence-Arousal Graph'\n",
        "        )\n",
        "        fig.show()\n",
        "\n",
        "        print(\"--- Closest tracks to trajectory ---\")\n",
        "        for i, track in enumerate(closest_songs['track'], start=1):\n",
        "            print(f\"{i}: {track}\")"
      ]
    },
    {
      "cell_type": "code",
      "execution_count": 40,
      "metadata": {
        "colab": {
          "base_uri": "https://localhost:8080/",
          "height": 872
        },
        "id": "Vmf7RkRgQsuH",
        "outputId": "1c8cb5ff-6900-4ab1-b353-a363f0be3270"
      },
      "outputs": [
        {
          "name": "stderr",
          "output_type": "stream",
          "text": [
            "<ipython-input-39-366363c010cd>:33: SettingWithCopyWarning:\n",
            "\n",
            "\n",
            "A value is trying to be set on a copy of a slice from a DataFrame.\n",
            "Try using .loc[row_indexer,col_indexer] = value instead\n",
            "\n",
            "See the caveats in the documentation: https://pandas.pydata.org/pandas-docs/stable/user_guide/indexing.html#returning-a-view-versus-a-copy\n",
            "\n"
          ]
        },
        {
          "data": {
            "text/html": [
              "<html>\n",
              "<head><meta charset=\"utf-8\" /></head>\n",
              "<body>\n",
              "    <div>            <script src=\"https://cdnjs.cloudflare.com/ajax/libs/mathjax/2.7.5/MathJax.js?config=TeX-AMS-MML_SVG\"></script><script type=\"text/javascript\">if (window.MathJax && window.MathJax.Hub && window.MathJax.Hub.Config) {window.MathJax.Hub.Config({SVG: {font: \"STIX-Web\"}});}</script>                <script type=\"text/javascript\">window.PlotlyConfig = {MathJaxConfig: 'local'};</script>\n",
              "        <script charset=\"utf-8\" src=\"https://cdn.plot.ly/plotly-2.24.1.min.js\"></script>                <div id=\"60346435-41c5-4926-a41c-37d6f01865dd\" class=\"plotly-graph-div\" style=\"height:525px; width:100%;\"></div>            <script type=\"text/javascript\">                                    window.PLOTLYENV=window.PLOTLYENV || {};                                    if (document.getElementById(\"60346435-41c5-4926-a41c-37d6f01865dd\")) {                    Plotly.newPlot(                        \"60346435-41c5-4926-a41c-37d6f01865dd\",                        [{\"hoverinfo\":\"text+x+y\",\"marker\":{\"color\":[\"red\",\"blue\",\"red\",\"red\",\"red\",\"red\",\"blue\",\"red\",\"red\",\"red\"]},\"mode\":\"markers\",\"showlegend\":false,\"text\":[\"Numb\",\"Capricorn\",\"Vampire Empire\",\"Pink Skies\",\"Revival\",\"Lil Tune\",\"Vampire Disco\",\"Mustang\",\"Overcompensate (edit)\",\"No Surprises\"],\"x\":[4.940221309661865,6.551464557647705,4.976219654083252,5.1681342124938965,3.893488883972168,4.904715538024902,5.496261596679688,3.925561428070069,3.757080554962158,3.850170135498047],\"y\":[5.504947662353516,6.594179153442383,5.508689403533936,5.626522541046143,4.774042129516602,5.430484771728516,5.934638500213623,4.891688346862793,4.643585681915283,4.681666851043701],\"type\":\"scatter\"},{\"line\":{\"color\":\"black\"},\"mode\":\"lines\",\"name\":\"Best-Fit Line\",\"x\":[3.757080554962158,3.7853066559993858,3.8135327570366138,3.8417588580738413,3.8699849591110693,3.898211060148297,3.9264371611855244,3.9546632622227524,3.98288936325998,4.011115464297208,4.039341565334436,4.067567666371663,4.095793767408891,4.124019868446119,4.152245969483347,4.180472070520574,4.208698171557802,4.23692427259503,4.265150373632258,4.293376474669485,4.321602575706713,4.3498286767439405,4.378054777781169,4.4062808788183965,4.434506979855624,4.462733080892852,4.49095918193008,4.519185282967308,4.547411384004535,4.575637485041763,4.60386358607899,4.632089687116219,4.660315788153446,4.688541889190674,4.716767990227901,4.744994091265129,4.773220192302357,4.801446293339585,4.8296723943768125,4.85789849541404,4.886124596451268,4.914350697488496,4.942576798525724,4.970802899562951,4.999029000600179,5.027255101637406,5.055481202674635,5.083707303711862,5.11193340474909,5.140159505786317,5.168385606823545,5.196611707860773,5.224837808898001,5.2530639099352285,5.281290010972457,5.309516112009684,5.337742213046912,5.36596831408414,5.394194415121367,5.422420516158596,5.450646617195823,5.478872718233051,5.507098819270278,5.535324920307506,5.563551021344734,5.591777122381962,5.6200032234191895,5.648229324456417,5.676455425493645,5.704681526530873,5.732907627568101,5.761133728605328,5.789359829642556,5.817585930679783,5.845812031717012,5.874038132754239,5.902264233791467,5.930490334828694,5.958716435865922,5.98694253690315,6.015168637940378,6.0433947389776055,6.071620840014834,6.099846941052061,6.128073042089289,6.156299143126517,6.184525244163744,6.212751345200973,6.240977446238199,6.269203547275428,6.297429648312655,6.325655749349883,6.353881850387111,6.382107951424338,6.410334052461566,6.438560153498794,6.4667862545360215,6.49501235557325,6.523238456610477,6.551464557647705],\"y\":[4.714222553722935,4.733086823861735,4.751951094000535,4.770815364139336,4.789679634278137,4.808543904416938,4.827408174555738,4.846272444694539,4.865136714833339,4.88400098497214,4.902865255110941,4.9217295252497415,4.9405937953885415,4.959458065527342,4.978322335666142,4.997186605804943,5.016050875943744,5.034915146082545,5.053779416221346,5.072643686360146,5.091507956498946,5.110372226637747,5.129236496776548,5.1481007669153485,5.1669650370541484,5.185829307192948,5.20469357733175,5.22355784747055,5.242422117609351,5.261286387748152,5.280150657886952,5.299014928025753,5.317879198164553,5.336743468303354,5.3556077384421545,5.3744720085809545,5.393336278719756,5.412200548858556,5.431064818997356,5.449929089136157,5.468793359274958,5.487657629413759,5.506521899552559,5.525386169691359,5.54425043983016,5.563114709968961,5.5819789801077615,5.600843250246562,5.619707520385362,5.638571790524162,5.657436060662963,5.676300330801764,5.695164600940565,5.714028871079365,5.732893141218167,5.751757411356966,5.770621681495767,5.789485951634568,5.8083502217733685,5.827214491912169,5.846078762050969,5.864943032189769,5.88380730232857,5.902671572467371,5.921535842606172,5.940400112744973,5.959264382883773,5.978128653022573,5.996992923161374,6.0158571933001745,6.034721463438975,6.053585733577775,6.072450003716575,6.091314273855376,6.110178543994177,6.129042814132978,6.147907084271779,6.166771354410579,6.185635624549379,6.204499894688181,6.223364164826981,6.2422284349657815,6.261092705104582,6.279956975243382,6.298821245382183,6.317685515520983,6.336549785659784,6.355414055798585,6.374278325937385,6.393142596076186,6.412006866214987,6.430871136353787,6.449735406492588,6.468599676631388,6.4874639467701884,6.506328216908989,6.525192487047789,6.544056757186591,6.562921027325391,6.581785297464192],\"type\":\"scatter\"}],                        {\"template\":{\"data\":{\"histogram2dcontour\":[{\"type\":\"histogram2dcontour\",\"colorbar\":{\"outlinewidth\":0,\"ticks\":\"\"},\"colorscale\":[[0.0,\"#0d0887\"],[0.1111111111111111,\"#46039f\"],[0.2222222222222222,\"#7201a8\"],[0.3333333333333333,\"#9c179e\"],[0.4444444444444444,\"#bd3786\"],[0.5555555555555556,\"#d8576b\"],[0.6666666666666666,\"#ed7953\"],[0.7777777777777778,\"#fb9f3a\"],[0.8888888888888888,\"#fdca26\"],[1.0,\"#f0f921\"]]}],\"choropleth\":[{\"type\":\"choropleth\",\"colorbar\":{\"outlinewidth\":0,\"ticks\":\"\"}}],\"histogram2d\":[{\"type\":\"histogram2d\",\"colorbar\":{\"outlinewidth\":0,\"ticks\":\"\"},\"colorscale\":[[0.0,\"#0d0887\"],[0.1111111111111111,\"#46039f\"],[0.2222222222222222,\"#7201a8\"],[0.3333333333333333,\"#9c179e\"],[0.4444444444444444,\"#bd3786\"],[0.5555555555555556,\"#d8576b\"],[0.6666666666666666,\"#ed7953\"],[0.7777777777777778,\"#fb9f3a\"],[0.8888888888888888,\"#fdca26\"],[1.0,\"#f0f921\"]]}],\"heatmap\":[{\"type\":\"heatmap\",\"colorbar\":{\"outlinewidth\":0,\"ticks\":\"\"},\"colorscale\":[[0.0,\"#0d0887\"],[0.1111111111111111,\"#46039f\"],[0.2222222222222222,\"#7201a8\"],[0.3333333333333333,\"#9c179e\"],[0.4444444444444444,\"#bd3786\"],[0.5555555555555556,\"#d8576b\"],[0.6666666666666666,\"#ed7953\"],[0.7777777777777778,\"#fb9f3a\"],[0.8888888888888888,\"#fdca26\"],[1.0,\"#f0f921\"]]}],\"heatmapgl\":[{\"type\":\"heatmapgl\",\"colorbar\":{\"outlinewidth\":0,\"ticks\":\"\"},\"colorscale\":[[0.0,\"#0d0887\"],[0.1111111111111111,\"#46039f\"],[0.2222222222222222,\"#7201a8\"],[0.3333333333333333,\"#9c179e\"],[0.4444444444444444,\"#bd3786\"],[0.5555555555555556,\"#d8576b\"],[0.6666666666666666,\"#ed7953\"],[0.7777777777777778,\"#fb9f3a\"],[0.8888888888888888,\"#fdca26\"],[1.0,\"#f0f921\"]]}],\"contourcarpet\":[{\"type\":\"contourcarpet\",\"colorbar\":{\"outlinewidth\":0,\"ticks\":\"\"}}],\"contour\":[{\"type\":\"contour\",\"colorbar\":{\"outlinewidth\":0,\"ticks\":\"\"},\"colorscale\":[[0.0,\"#0d0887\"],[0.1111111111111111,\"#46039f\"],[0.2222222222222222,\"#7201a8\"],[0.3333333333333333,\"#9c179e\"],[0.4444444444444444,\"#bd3786\"],[0.5555555555555556,\"#d8576b\"],[0.6666666666666666,\"#ed7953\"],[0.7777777777777778,\"#fb9f3a\"],[0.8888888888888888,\"#fdca26\"],[1.0,\"#f0f921\"]]}],\"surface\":[{\"type\":\"surface\",\"colorbar\":{\"outlinewidth\":0,\"ticks\":\"\"},\"colorscale\":[[0.0,\"#0d0887\"],[0.1111111111111111,\"#46039f\"],[0.2222222222222222,\"#7201a8\"],[0.3333333333333333,\"#9c179e\"],[0.4444444444444444,\"#bd3786\"],[0.5555555555555556,\"#d8576b\"],[0.6666666666666666,\"#ed7953\"],[0.7777777777777778,\"#fb9f3a\"],[0.8888888888888888,\"#fdca26\"],[1.0,\"#f0f921\"]]}],\"mesh3d\":[{\"type\":\"mesh3d\",\"colorbar\":{\"outlinewidth\":0,\"ticks\":\"\"}}],\"scatter\":[{\"fillpattern\":{\"fillmode\":\"overlay\",\"size\":10,\"solidity\":0.2},\"type\":\"scatter\"}],\"parcoords\":[{\"type\":\"parcoords\",\"line\":{\"colorbar\":{\"outlinewidth\":0,\"ticks\":\"\"}}}],\"scatterpolargl\":[{\"type\":\"scatterpolargl\",\"marker\":{\"colorbar\":{\"outlinewidth\":0,\"ticks\":\"\"}}}],\"bar\":[{\"error_x\":{\"color\":\"#2a3f5f\"},\"error_y\":{\"color\":\"#2a3f5f\"},\"marker\":{\"line\":{\"color\":\"#E5ECF6\",\"width\":0.5},\"pattern\":{\"fillmode\":\"overlay\",\"size\":10,\"solidity\":0.2}},\"type\":\"bar\"}],\"scattergeo\":[{\"type\":\"scattergeo\",\"marker\":{\"colorbar\":{\"outlinewidth\":0,\"ticks\":\"\"}}}],\"scatterpolar\":[{\"type\":\"scatterpolar\",\"marker\":{\"colorbar\":{\"outlinewidth\":0,\"ticks\":\"\"}}}],\"histogram\":[{\"marker\":{\"pattern\":{\"fillmode\":\"overlay\",\"size\":10,\"solidity\":0.2}},\"type\":\"histogram\"}],\"scattergl\":[{\"type\":\"scattergl\",\"marker\":{\"colorbar\":{\"outlinewidth\":0,\"ticks\":\"\"}}}],\"scatter3d\":[{\"type\":\"scatter3d\",\"line\":{\"colorbar\":{\"outlinewidth\":0,\"ticks\":\"\"}},\"marker\":{\"colorbar\":{\"outlinewidth\":0,\"ticks\":\"\"}}}],\"scattermapbox\":[{\"type\":\"scattermapbox\",\"marker\":{\"colorbar\":{\"outlinewidth\":0,\"ticks\":\"\"}}}],\"scatterternary\":[{\"type\":\"scatterternary\",\"marker\":{\"colorbar\":{\"outlinewidth\":0,\"ticks\":\"\"}}}],\"scattercarpet\":[{\"type\":\"scattercarpet\",\"marker\":{\"colorbar\":{\"outlinewidth\":0,\"ticks\":\"\"}}}],\"carpet\":[{\"aaxis\":{\"endlinecolor\":\"#2a3f5f\",\"gridcolor\":\"white\",\"linecolor\":\"white\",\"minorgridcolor\":\"white\",\"startlinecolor\":\"#2a3f5f\"},\"baxis\":{\"endlinecolor\":\"#2a3f5f\",\"gridcolor\":\"white\",\"linecolor\":\"white\",\"minorgridcolor\":\"white\",\"startlinecolor\":\"#2a3f5f\"},\"type\":\"carpet\"}],\"table\":[{\"cells\":{\"fill\":{\"color\":\"#EBF0F8\"},\"line\":{\"color\":\"white\"}},\"header\":{\"fill\":{\"color\":\"#C8D4E3\"},\"line\":{\"color\":\"white\"}},\"type\":\"table\"}],\"barpolar\":[{\"marker\":{\"line\":{\"color\":\"#E5ECF6\",\"width\":0.5},\"pattern\":{\"fillmode\":\"overlay\",\"size\":10,\"solidity\":0.2}},\"type\":\"barpolar\"}],\"pie\":[{\"automargin\":true,\"type\":\"pie\"}]},\"layout\":{\"autotypenumbers\":\"strict\",\"colorway\":[\"#636efa\",\"#EF553B\",\"#00cc96\",\"#ab63fa\",\"#FFA15A\",\"#19d3f3\",\"#FF6692\",\"#B6E880\",\"#FF97FF\",\"#FECB52\"],\"font\":{\"color\":\"#2a3f5f\"},\"hovermode\":\"closest\",\"hoverlabel\":{\"align\":\"left\"},\"paper_bgcolor\":\"white\",\"plot_bgcolor\":\"#E5ECF6\",\"polar\":{\"bgcolor\":\"#E5ECF6\",\"angularaxis\":{\"gridcolor\":\"white\",\"linecolor\":\"white\",\"ticks\":\"\"},\"radialaxis\":{\"gridcolor\":\"white\",\"linecolor\":\"white\",\"ticks\":\"\"}},\"ternary\":{\"bgcolor\":\"#E5ECF6\",\"aaxis\":{\"gridcolor\":\"white\",\"linecolor\":\"white\",\"ticks\":\"\"},\"baxis\":{\"gridcolor\":\"white\",\"linecolor\":\"white\",\"ticks\":\"\"},\"caxis\":{\"gridcolor\":\"white\",\"linecolor\":\"white\",\"ticks\":\"\"}},\"coloraxis\":{\"colorbar\":{\"outlinewidth\":0,\"ticks\":\"\"}},\"colorscale\":{\"sequential\":[[0.0,\"#0d0887\"],[0.1111111111111111,\"#46039f\"],[0.2222222222222222,\"#7201a8\"],[0.3333333333333333,\"#9c179e\"],[0.4444444444444444,\"#bd3786\"],[0.5555555555555556,\"#d8576b\"],[0.6666666666666666,\"#ed7953\"],[0.7777777777777778,\"#fb9f3a\"],[0.8888888888888888,\"#fdca26\"],[1.0,\"#f0f921\"]],\"sequentialminus\":[[0.0,\"#0d0887\"],[0.1111111111111111,\"#46039f\"],[0.2222222222222222,\"#7201a8\"],[0.3333333333333333,\"#9c179e\"],[0.4444444444444444,\"#bd3786\"],[0.5555555555555556,\"#d8576b\"],[0.6666666666666666,\"#ed7953\"],[0.7777777777777778,\"#fb9f3a\"],[0.8888888888888888,\"#fdca26\"],[1.0,\"#f0f921\"]],\"diverging\":[[0,\"#8e0152\"],[0.1,\"#c51b7d\"],[0.2,\"#de77ae\"],[0.3,\"#f1b6da\"],[0.4,\"#fde0ef\"],[0.5,\"#f7f7f7\"],[0.6,\"#e6f5d0\"],[0.7,\"#b8e186\"],[0.8,\"#7fbc41\"],[0.9,\"#4d9221\"],[1,\"#276419\"]]},\"xaxis\":{\"gridcolor\":\"white\",\"linecolor\":\"white\",\"ticks\":\"\",\"title\":{\"standoff\":15},\"zerolinecolor\":\"white\",\"automargin\":true,\"zerolinewidth\":2},\"yaxis\":{\"gridcolor\":\"white\",\"linecolor\":\"white\",\"ticks\":\"\",\"title\":{\"standoff\":15},\"zerolinecolor\":\"white\",\"automargin\":true,\"zerolinewidth\":2},\"scene\":{\"xaxis\":{\"backgroundcolor\":\"#E5ECF6\",\"gridcolor\":\"white\",\"linecolor\":\"white\",\"showbackground\":true,\"ticks\":\"\",\"zerolinecolor\":\"white\",\"gridwidth\":2},\"yaxis\":{\"backgroundcolor\":\"#E5ECF6\",\"gridcolor\":\"white\",\"linecolor\":\"white\",\"showbackground\":true,\"ticks\":\"\",\"zerolinecolor\":\"white\",\"gridwidth\":2},\"zaxis\":{\"backgroundcolor\":\"#E5ECF6\",\"gridcolor\":\"white\",\"linecolor\":\"white\",\"showbackground\":true,\"ticks\":\"\",\"zerolinecolor\":\"white\",\"gridwidth\":2}},\"shapedefaults\":{\"line\":{\"color\":\"#2a3f5f\"}},\"annotationdefaults\":{\"arrowcolor\":\"#2a3f5f\",\"arrowhead\":0,\"arrowwidth\":1},\"geo\":{\"bgcolor\":\"white\",\"landcolor\":\"#E5ECF6\",\"subunitcolor\":\"white\",\"showland\":true,\"showlakes\":true,\"lakecolor\":\"white\"},\"title\":{\"x\":0.05},\"mapbox\":{\"style\":\"light\"}}},\"xaxis\":{\"title\":{\"text\":\"Valence\"}},\"yaxis\":{\"title\":{\"text\":\"Arousal\"}},\"title\":{\"text\":\"Valence-Arousal Graph\"}},                        {\"responsive\": true}                    ).then(function(){\n",
              "                            \n",
              "var gd = document.getElementById('60346435-41c5-4926-a41c-37d6f01865dd');\n",
              "var x = new MutationObserver(function (mutations, observer) {{\n",
              "        var display = window.getComputedStyle(gd).display;\n",
              "        if (!display || display === 'none') {{\n",
              "            console.log([gd, 'removed!']);\n",
              "            Plotly.purge(gd);\n",
              "            observer.disconnect();\n",
              "        }}\n",
              "}});\n",
              "\n",
              "// Listen for the removal of the full notebook cells\n",
              "var notebookContainer = gd.closest('#notebook-container');\n",
              "if (notebookContainer) {{\n",
              "    x.observe(notebookContainer, {childList: true});\n",
              "}}\n",
              "\n",
              "// Listen for the clearing of the current output cell\n",
              "var outputEl = gd.closest('.output');\n",
              "if (outputEl) {{\n",
              "    x.observe(outputEl, {childList: true});\n",
              "}}\n",
              "\n",
              "                        })                };                            </script>        </div>\n",
              "</body>\n",
              "</html>"
            ]
          },
          "metadata": {},
          "output_type": "display_data"
        },
        {
          "name": "stdout",
          "output_type": "stream",
          "text": [
            "--- Closest tracks to trajectory ---\n",
            "1: Numb\n",
            "2: Capricorn\n",
            "3: Vampire Empire\n",
            "4: Pink Skies\n",
            "5: Revival\n",
            "6: Lil Tune\n",
            "7: Vampire Disco\n",
            "8: Mustang\n",
            "9: Overcompensate (edit)\n",
            "10: No Surprises\n"
          ]
        }
      ],
      "source": [
        "l = Line(point)\n",
        "t1 = MusicOnTrajectory(filtered_df, l)\n",
        "\n",
        "t1.run()"
      ]
    },
    {
      "cell_type": "markdown",
      "metadata": {
        "id": "wPaxV-BnQsuI"
      },
      "source": [
        "## Circle"
      ]
    },
    {
      "cell_type": "code",
      "execution_count": 41,
      "metadata": {
        "id": "s9hwubpEQsuI"
      },
      "outputs": [],
      "source": [
        "class Circle:\n",
        "    def __init__(self, point):\n",
        "        self.x = point[0]\n",
        "        self.y = point[1]\n",
        "        self.x_circle = None\n",
        "        self.y_circle = None\n",
        "\n",
        "    def calculate_radius(self, df, scale = 0.5):\n",
        "        radius = scale * np.sqrt((df['valence'] - self.x)**2 + (df['arousal'] - self.y)**2).max()\n",
        "        return radius\n",
        "\n",
        "    def set_circle_points(self, radius):\n",
        "        theta = np.linspace(0, 2 * np.pi, 9)\n",
        "        circle_points_x = self.x + radius * np.cos(theta)\n",
        "        circle_points_y = self.y + radius * np.sin(theta)\n",
        "\n",
        "        self.x_circle = circle_points_x\n",
        "        self.y_circle = circle_points_y\n",
        "\n",
        "        return circle_points_x, circle_points_y\n",
        "\n",
        "    def find_closest_songs(self, df):\n",
        "      radius = self.calculate_radius(df)\n",
        "      circle_points_x, circle_points_y = self.set_circle_points(radius)\n",
        "      points = []\n",
        "      visited_indexes = set()\n",
        "      for i in range(len(circle_points_x)):\n",
        "          distances = np.sqrt((df['valence'] - circle_points_x[i])**2 + (df['arousal'] - circle_points_y[i])**2)\n",
        "          closest_indexes = np.argsort(distances)\n",
        "          for index in closest_indexes:\n",
        "              if index not in visited_indexes and index != len(df)-1:\n",
        "                  points.append(index)\n",
        "                  visited_indexes.add(index)\n",
        "                  break\n",
        "      closest_songs = df.iloc[points]\n",
        "      return closest_songs\n",
        "\n",
        "    def plot_closest_points(self, closest_songs):\n",
        "        fig = go.Figure()\n",
        "        fig.add_trace(go.Scatter(\n",
        "            x=closest_songs['valence'],\n",
        "            y=closest_songs['arousal'],\n",
        "            mode='markers',\n",
        "            marker=dict(color=closest_songs['colour']),\n",
        "            text=closest_songs['track'],\n",
        "            hoverinfo='text+x+y',\n",
        "            showlegend=False\n",
        "        ))\n",
        "\n",
        "        input = df[(df['valence'] == self.x) & (df['arousal'] == self.y)]\n",
        "        fig.add_trace(go.Scatter(\n",
        "          x=[self.x],\n",
        "          y=[self.y],\n",
        "          mode='markers',\n",
        "          marker=dict(color=input['colour']),\n",
        "          text=input['track'],\n",
        "          hoverinfo='text+x+y',\n",
        "          showlegend=False\n",
        "      ))\n",
        "\n",
        "\n",
        "        fig.add_trace(go.Scatter(x=self.x_circle, y=self.y_circle, mode='lines', line=dict(color='black'), name='Circle'))\n",
        "\n",
        "        fig.update_layout(\n",
        "            xaxis_title='Valence',\n",
        "            yaxis_title='Arousal',\n",
        "            title='Valence-Arousal Graph')\n",
        "\n",
        "        fig.show()\n",
        "\n",
        "        print(\"--- Closest tracks to trajectory ---\")\n",
        "        print(f\"{1}: {input['track'].values[0]}\")\n",
        "        for i, track in enumerate(closest_songs['track'], start=2):\n",
        "            print(f\"{i}: {track}\")"
      ]
    },
    {
      "cell_type": "code",
      "execution_count": 42,
      "metadata": {
        "colab": {
          "base_uri": "https://localhost:8080/",
          "height": 733
        },
        "id": "nH1B_9GNQsuI",
        "outputId": "bdbc0803-e73e-4b67-ec04-688cb1f1ab35"
      },
      "outputs": [
        {
          "data": {
            "text/html": [
              "<html>\n",
              "<head><meta charset=\"utf-8\" /></head>\n",
              "<body>\n",
              "    <div>            <script src=\"https://cdnjs.cloudflare.com/ajax/libs/mathjax/2.7.5/MathJax.js?config=TeX-AMS-MML_SVG\"></script><script type=\"text/javascript\">if (window.MathJax && window.MathJax.Hub && window.MathJax.Hub.Config) {window.MathJax.Hub.Config({SVG: {font: \"STIX-Web\"}});}</script>                <script type=\"text/javascript\">window.PlotlyConfig = {MathJaxConfig: 'local'};</script>\n",
              "        <script charset=\"utf-8\" src=\"https://cdn.plot.ly/plotly-2.24.1.min.js\"></script>                <div id=\"c49325d5-a5f3-4c9d-81cb-12f4259f008d\" class=\"plotly-graph-div\" style=\"height:525px; width:100%;\"></div>            <script type=\"text/javascript\">                                    window.PLOTLYENV=window.PLOTLYENV || {};                                    if (document.getElementById(\"c49325d5-a5f3-4c9d-81cb-12f4259f008d\")) {                    Plotly.newPlot(                        \"c49325d5-a5f3-4c9d-81cb-12f4259f008d\",                        [{\"hoverinfo\":\"text+x+y\",\"marker\":{\"color\":[\"blue\",\"blue\",\"green\",\"green\",\"red\",\"red\",\"red\",\"blue\",\"blue\"]},\"mode\":\"markers\",\"showlegend\":false,\"text\":[\"Burn The Witch\",\"Planet\",\"Good Old Days\",\"Tejano Blue\",\"Broken Man\",\"Maktub\",\"Thunder\",\"Blondie\",\"Me, Myself & Your Eyes\"],\"x\":[6.52850341796875,5.889796257019043,4.98043155670166,4.166854381561279,3.9008710384368896,3.853884220123291,4.885284900665283,6.149303913116455,6.064032554626465],\"y\":[5.801475524902344,6.75643253326416,6.861891269683838,6.2459893226623535,5.097156524658203,4.533259391784668,4.047898292541504,4.836586952209473,5.313733100891113],\"type\":\"scatter\"},{\"hoverinfo\":\"text+x+y\",\"marker\":{\"color\":[\"red\"]},\"mode\":\"markers\",\"showlegend\":false,\"text\":[\"Numb\"],\"x\":[4.940221309661865],\"y\":[5.504947662353516],\"type\":\"scatter\"},{\"line\":{\"color\":\"black\"},\"mode\":\"lines\",\"name\":\"Circle\",\"x\":[6.512805156809627,6.0522060119644765,4.940221309661865,3.828236607359254,3.3676374625141037,3.828236607359254,4.940221309661865,6.0522060119644765,6.512805156809627],\"y\":[5.504947662353516,6.616932364656127,7.077531509501277,6.616932364656127,5.504947662353516,4.392962960050904,3.932363815205754,4.392962960050904,5.504947662353516],\"type\":\"scatter\"}],                        {\"template\":{\"data\":{\"histogram2dcontour\":[{\"type\":\"histogram2dcontour\",\"colorbar\":{\"outlinewidth\":0,\"ticks\":\"\"},\"colorscale\":[[0.0,\"#0d0887\"],[0.1111111111111111,\"#46039f\"],[0.2222222222222222,\"#7201a8\"],[0.3333333333333333,\"#9c179e\"],[0.4444444444444444,\"#bd3786\"],[0.5555555555555556,\"#d8576b\"],[0.6666666666666666,\"#ed7953\"],[0.7777777777777778,\"#fb9f3a\"],[0.8888888888888888,\"#fdca26\"],[1.0,\"#f0f921\"]]}],\"choropleth\":[{\"type\":\"choropleth\",\"colorbar\":{\"outlinewidth\":0,\"ticks\":\"\"}}],\"histogram2d\":[{\"type\":\"histogram2d\",\"colorbar\":{\"outlinewidth\":0,\"ticks\":\"\"},\"colorscale\":[[0.0,\"#0d0887\"],[0.1111111111111111,\"#46039f\"],[0.2222222222222222,\"#7201a8\"],[0.3333333333333333,\"#9c179e\"],[0.4444444444444444,\"#bd3786\"],[0.5555555555555556,\"#d8576b\"],[0.6666666666666666,\"#ed7953\"],[0.7777777777777778,\"#fb9f3a\"],[0.8888888888888888,\"#fdca26\"],[1.0,\"#f0f921\"]]}],\"heatmap\":[{\"type\":\"heatmap\",\"colorbar\":{\"outlinewidth\":0,\"ticks\":\"\"},\"colorscale\":[[0.0,\"#0d0887\"],[0.1111111111111111,\"#46039f\"],[0.2222222222222222,\"#7201a8\"],[0.3333333333333333,\"#9c179e\"],[0.4444444444444444,\"#bd3786\"],[0.5555555555555556,\"#d8576b\"],[0.6666666666666666,\"#ed7953\"],[0.7777777777777778,\"#fb9f3a\"],[0.8888888888888888,\"#fdca26\"],[1.0,\"#f0f921\"]]}],\"heatmapgl\":[{\"type\":\"heatmapgl\",\"colorbar\":{\"outlinewidth\":0,\"ticks\":\"\"},\"colorscale\":[[0.0,\"#0d0887\"],[0.1111111111111111,\"#46039f\"],[0.2222222222222222,\"#7201a8\"],[0.3333333333333333,\"#9c179e\"],[0.4444444444444444,\"#bd3786\"],[0.5555555555555556,\"#d8576b\"],[0.6666666666666666,\"#ed7953\"],[0.7777777777777778,\"#fb9f3a\"],[0.8888888888888888,\"#fdca26\"],[1.0,\"#f0f921\"]]}],\"contourcarpet\":[{\"type\":\"contourcarpet\",\"colorbar\":{\"outlinewidth\":0,\"ticks\":\"\"}}],\"contour\":[{\"type\":\"contour\",\"colorbar\":{\"outlinewidth\":0,\"ticks\":\"\"},\"colorscale\":[[0.0,\"#0d0887\"],[0.1111111111111111,\"#46039f\"],[0.2222222222222222,\"#7201a8\"],[0.3333333333333333,\"#9c179e\"],[0.4444444444444444,\"#bd3786\"],[0.5555555555555556,\"#d8576b\"],[0.6666666666666666,\"#ed7953\"],[0.7777777777777778,\"#fb9f3a\"],[0.8888888888888888,\"#fdca26\"],[1.0,\"#f0f921\"]]}],\"surface\":[{\"type\":\"surface\",\"colorbar\":{\"outlinewidth\":0,\"ticks\":\"\"},\"colorscale\":[[0.0,\"#0d0887\"],[0.1111111111111111,\"#46039f\"],[0.2222222222222222,\"#7201a8\"],[0.3333333333333333,\"#9c179e\"],[0.4444444444444444,\"#bd3786\"],[0.5555555555555556,\"#d8576b\"],[0.6666666666666666,\"#ed7953\"],[0.7777777777777778,\"#fb9f3a\"],[0.8888888888888888,\"#fdca26\"],[1.0,\"#f0f921\"]]}],\"mesh3d\":[{\"type\":\"mesh3d\",\"colorbar\":{\"outlinewidth\":0,\"ticks\":\"\"}}],\"scatter\":[{\"fillpattern\":{\"fillmode\":\"overlay\",\"size\":10,\"solidity\":0.2},\"type\":\"scatter\"}],\"parcoords\":[{\"type\":\"parcoords\",\"line\":{\"colorbar\":{\"outlinewidth\":0,\"ticks\":\"\"}}}],\"scatterpolargl\":[{\"type\":\"scatterpolargl\",\"marker\":{\"colorbar\":{\"outlinewidth\":0,\"ticks\":\"\"}}}],\"bar\":[{\"error_x\":{\"color\":\"#2a3f5f\"},\"error_y\":{\"color\":\"#2a3f5f\"},\"marker\":{\"line\":{\"color\":\"#E5ECF6\",\"width\":0.5},\"pattern\":{\"fillmode\":\"overlay\",\"size\":10,\"solidity\":0.2}},\"type\":\"bar\"}],\"scattergeo\":[{\"type\":\"scattergeo\",\"marker\":{\"colorbar\":{\"outlinewidth\":0,\"ticks\":\"\"}}}],\"scatterpolar\":[{\"type\":\"scatterpolar\",\"marker\":{\"colorbar\":{\"outlinewidth\":0,\"ticks\":\"\"}}}],\"histogram\":[{\"marker\":{\"pattern\":{\"fillmode\":\"overlay\",\"size\":10,\"solidity\":0.2}},\"type\":\"histogram\"}],\"scattergl\":[{\"type\":\"scattergl\",\"marker\":{\"colorbar\":{\"outlinewidth\":0,\"ticks\":\"\"}}}],\"scatter3d\":[{\"type\":\"scatter3d\",\"line\":{\"colorbar\":{\"outlinewidth\":0,\"ticks\":\"\"}},\"marker\":{\"colorbar\":{\"outlinewidth\":0,\"ticks\":\"\"}}}],\"scattermapbox\":[{\"type\":\"scattermapbox\",\"marker\":{\"colorbar\":{\"outlinewidth\":0,\"ticks\":\"\"}}}],\"scatterternary\":[{\"type\":\"scatterternary\",\"marker\":{\"colorbar\":{\"outlinewidth\":0,\"ticks\":\"\"}}}],\"scattercarpet\":[{\"type\":\"scattercarpet\",\"marker\":{\"colorbar\":{\"outlinewidth\":0,\"ticks\":\"\"}}}],\"carpet\":[{\"aaxis\":{\"endlinecolor\":\"#2a3f5f\",\"gridcolor\":\"white\",\"linecolor\":\"white\",\"minorgridcolor\":\"white\",\"startlinecolor\":\"#2a3f5f\"},\"baxis\":{\"endlinecolor\":\"#2a3f5f\",\"gridcolor\":\"white\",\"linecolor\":\"white\",\"minorgridcolor\":\"white\",\"startlinecolor\":\"#2a3f5f\"},\"type\":\"carpet\"}],\"table\":[{\"cells\":{\"fill\":{\"color\":\"#EBF0F8\"},\"line\":{\"color\":\"white\"}},\"header\":{\"fill\":{\"color\":\"#C8D4E3\"},\"line\":{\"color\":\"white\"}},\"type\":\"table\"}],\"barpolar\":[{\"marker\":{\"line\":{\"color\":\"#E5ECF6\",\"width\":0.5},\"pattern\":{\"fillmode\":\"overlay\",\"size\":10,\"solidity\":0.2}},\"type\":\"barpolar\"}],\"pie\":[{\"automargin\":true,\"type\":\"pie\"}]},\"layout\":{\"autotypenumbers\":\"strict\",\"colorway\":[\"#636efa\",\"#EF553B\",\"#00cc96\",\"#ab63fa\",\"#FFA15A\",\"#19d3f3\",\"#FF6692\",\"#B6E880\",\"#FF97FF\",\"#FECB52\"],\"font\":{\"color\":\"#2a3f5f\"},\"hovermode\":\"closest\",\"hoverlabel\":{\"align\":\"left\"},\"paper_bgcolor\":\"white\",\"plot_bgcolor\":\"#E5ECF6\",\"polar\":{\"bgcolor\":\"#E5ECF6\",\"angularaxis\":{\"gridcolor\":\"white\",\"linecolor\":\"white\",\"ticks\":\"\"},\"radialaxis\":{\"gridcolor\":\"white\",\"linecolor\":\"white\",\"ticks\":\"\"}},\"ternary\":{\"bgcolor\":\"#E5ECF6\",\"aaxis\":{\"gridcolor\":\"white\",\"linecolor\":\"white\",\"ticks\":\"\"},\"baxis\":{\"gridcolor\":\"white\",\"linecolor\":\"white\",\"ticks\":\"\"},\"caxis\":{\"gridcolor\":\"white\",\"linecolor\":\"white\",\"ticks\":\"\"}},\"coloraxis\":{\"colorbar\":{\"outlinewidth\":0,\"ticks\":\"\"}},\"colorscale\":{\"sequential\":[[0.0,\"#0d0887\"],[0.1111111111111111,\"#46039f\"],[0.2222222222222222,\"#7201a8\"],[0.3333333333333333,\"#9c179e\"],[0.4444444444444444,\"#bd3786\"],[0.5555555555555556,\"#d8576b\"],[0.6666666666666666,\"#ed7953\"],[0.7777777777777778,\"#fb9f3a\"],[0.8888888888888888,\"#fdca26\"],[1.0,\"#f0f921\"]],\"sequentialminus\":[[0.0,\"#0d0887\"],[0.1111111111111111,\"#46039f\"],[0.2222222222222222,\"#7201a8\"],[0.3333333333333333,\"#9c179e\"],[0.4444444444444444,\"#bd3786\"],[0.5555555555555556,\"#d8576b\"],[0.6666666666666666,\"#ed7953\"],[0.7777777777777778,\"#fb9f3a\"],[0.8888888888888888,\"#fdca26\"],[1.0,\"#f0f921\"]],\"diverging\":[[0,\"#8e0152\"],[0.1,\"#c51b7d\"],[0.2,\"#de77ae\"],[0.3,\"#f1b6da\"],[0.4,\"#fde0ef\"],[0.5,\"#f7f7f7\"],[0.6,\"#e6f5d0\"],[0.7,\"#b8e186\"],[0.8,\"#7fbc41\"],[0.9,\"#4d9221\"],[1,\"#276419\"]]},\"xaxis\":{\"gridcolor\":\"white\",\"linecolor\":\"white\",\"ticks\":\"\",\"title\":{\"standoff\":15},\"zerolinecolor\":\"white\",\"automargin\":true,\"zerolinewidth\":2},\"yaxis\":{\"gridcolor\":\"white\",\"linecolor\":\"white\",\"ticks\":\"\",\"title\":{\"standoff\":15},\"zerolinecolor\":\"white\",\"automargin\":true,\"zerolinewidth\":2},\"scene\":{\"xaxis\":{\"backgroundcolor\":\"#E5ECF6\",\"gridcolor\":\"white\",\"linecolor\":\"white\",\"showbackground\":true,\"ticks\":\"\",\"zerolinecolor\":\"white\",\"gridwidth\":2},\"yaxis\":{\"backgroundcolor\":\"#E5ECF6\",\"gridcolor\":\"white\",\"linecolor\":\"white\",\"showbackground\":true,\"ticks\":\"\",\"zerolinecolor\":\"white\",\"gridwidth\":2},\"zaxis\":{\"backgroundcolor\":\"#E5ECF6\",\"gridcolor\":\"white\",\"linecolor\":\"white\",\"showbackground\":true,\"ticks\":\"\",\"zerolinecolor\":\"white\",\"gridwidth\":2}},\"shapedefaults\":{\"line\":{\"color\":\"#2a3f5f\"}},\"annotationdefaults\":{\"arrowcolor\":\"#2a3f5f\",\"arrowhead\":0,\"arrowwidth\":1},\"geo\":{\"bgcolor\":\"white\",\"landcolor\":\"#E5ECF6\",\"subunitcolor\":\"white\",\"showland\":true,\"showlakes\":true,\"lakecolor\":\"white\"},\"title\":{\"x\":0.05},\"mapbox\":{\"style\":\"light\"}}},\"xaxis\":{\"title\":{\"text\":\"Valence\"}},\"yaxis\":{\"title\":{\"text\":\"Arousal\"}},\"title\":{\"text\":\"Valence-Arousal Graph\"}},                        {\"responsive\": true}                    ).then(function(){\n",
              "                            \n",
              "var gd = document.getElementById('c49325d5-a5f3-4c9d-81cb-12f4259f008d');\n",
              "var x = new MutationObserver(function (mutations, observer) {{\n",
              "        var display = window.getComputedStyle(gd).display;\n",
              "        if (!display || display === 'none') {{\n",
              "            console.log([gd, 'removed!']);\n",
              "            Plotly.purge(gd);\n",
              "            observer.disconnect();\n",
              "        }}\n",
              "}});\n",
              "\n",
              "// Listen for the removal of the full notebook cells\n",
              "var notebookContainer = gd.closest('#notebook-container');\n",
              "if (notebookContainer) {{\n",
              "    x.observe(notebookContainer, {childList: true});\n",
              "}}\n",
              "\n",
              "// Listen for the clearing of the current output cell\n",
              "var outputEl = gd.closest('.output');\n",
              "if (outputEl) {{\n",
              "    x.observe(outputEl, {childList: true});\n",
              "}}\n",
              "\n",
              "                        })                };                            </script>        </div>\n",
              "</body>\n",
              "</html>"
            ]
          },
          "metadata": {},
          "output_type": "display_data"
        },
        {
          "name": "stdout",
          "output_type": "stream",
          "text": [
            "--- Closest tracks to trajectory ---\n",
            "1: Numb\n",
            "2: Burn The Witch\n",
            "3: Planet\n",
            "4: Good Old Days\n",
            "5: Tejano Blue\n",
            "6: Broken Man\n",
            "7: Maktub\n",
            "8: Thunder\n",
            "9: Blondie\n",
            "10: Me, Myself & Your Eyes\n"
          ]
        }
      ],
      "source": [
        "c = Circle(point)\n",
        "t2 = MusicOnTrajectory(filtered_df, c)\n",
        "\n",
        "t2.run()"
      ]
    },
    {
      "cell_type": "markdown",
      "metadata": {
        "id": "OWDE65nTQsuI"
      },
      "source": [
        "## Triangle"
      ]
    },
    {
      "cell_type": "code",
      "execution_count": 50,
      "metadata": {
        "id": "IJvxx8aRQsuJ"
      },
      "outputs": [],
      "source": [
        "class Triangle:\n",
        "    def __init__(self, point):\n",
        "        self.x = point[0]\n",
        "        self.y = point[1]\n",
        "        self.points = self.generate_triangle_points()\n",
        "\n",
        "    def generate_triangle_points(self, num_points=3, length=4):\n",
        "      angles = np.linspace(0, 2*np.pi, num_points, endpoint=False)\n",
        "      return (self.x, self.y) + np.column_stack((length*np.cos(angles), length*np.sin(angles)))\n",
        "\n",
        "    def find_closest_songs(self, df):\n",
        "        other_x = df['valence'].values\n",
        "        other_y = df['arousal'].values\n",
        "\n",
        "        other_points = np.column_stack((other_x, other_y))\n",
        "\n",
        "        distances = cdist(other_points, self.points)\n",
        "        nearest_indexes = np.argsort(distances, axis=0)[:11].flatten()\n",
        "\n",
        "        nearest_indexes = [d for d in nearest_indexes if not np.array_equal(d, (self.x, self.y))]\n",
        "        random_indexes = np.random.choice(nearest_indexes, size=9, replace=False)\n",
        "        closest_songs = df.iloc[random_indexes]\n",
        "        return closest_songs\n",
        "\n",
        "    def plot_closest_points(self, closest_songs):\n",
        "        fig = go.Figure()\n",
        "\n",
        "        fig.add_trace(go.Scatter(\n",
        "            x=closest_songs['valence'],\n",
        "            y=closest_songs['arousal'],\n",
        "            mode='markers',\n",
        "            marker=dict(color=closest_songs['colour']),\n",
        "            text=closest_songs['track'],\n",
        "            hoverinfo='text+x+y',\n",
        "            showlegend=False\n",
        "        ))\n",
        "\n",
        "        input = df[(df['valence'] == self.x) & (df['arousal'] == self.y)]\n",
        "        fig.add_trace(go.Scatter(\n",
        "          x=[self.x],\n",
        "          y=[self.y],\n",
        "          mode='markers',\n",
        "          marker=dict(color=input['colour']),\n",
        "          text=input['track'],\n",
        "          hoverinfo='text+x+y',\n",
        "          showlegend=False\n",
        "      ))\n",
        "\n",
        "        fig.add_trace(go.Scatter(\n",
        "          x=np.append(self.points[:, 0], self.points[0, 0]),\n",
        "          y=np.append(self.points[:, 1], self.points[0, 1]),\n",
        "          mode='lines',\n",
        "          marker=dict(color='black'),\n",
        "          name='Triangle')\n",
        "        )\n",
        "\n",
        "        fig.update_layout(\n",
        "            xaxis_title='Valence',\n",
        "            yaxis_title='Arousal',\n",
        "            title='Valence-Arousal Graph')\n",
        "\n",
        "        fig.show()\n",
        "\n",
        "        print(\"--- Closest tracks to trajectory ---\")\n",
        "        print(f\"{1}: {input['track'].values[0]}\")\n",
        "        for i, track in enumerate(closest_songs['track'], start=2):\n",
        "            print(f\"{i}: {track}\")"
      ]
    },
    {
      "cell_type": "code",
      "execution_count": 51,
      "metadata": {
        "colab": {
          "base_uri": "https://localhost:8080/",
          "height": 733
        },
        "id": "YmWniUT6QsuJ",
        "outputId": "36817238-2e89-48a5-bc6b-1b6ed5bcbbeb"
      },
      "outputs": [
        {
          "data": {
            "text/html": [
              "<html>\n",
              "<head><meta charset=\"utf-8\" /></head>\n",
              "<body>\n",
              "    <div>            <script src=\"https://cdnjs.cloudflare.com/ajax/libs/mathjax/2.7.5/MathJax.js?config=TeX-AMS-MML_SVG\"></script><script type=\"text/javascript\">if (window.MathJax && window.MathJax.Hub && window.MathJax.Hub.Config) {window.MathJax.Hub.Config({SVG: {font: \"STIX-Web\"}});}</script>                <script type=\"text/javascript\">window.PlotlyConfig = {MathJaxConfig: 'local'};</script>\n",
              "        <script charset=\"utf-8\" src=\"https://cdn.plot.ly/plotly-2.24.1.min.js\"></script>                <div id=\"5cc9f9c1-f281-41ce-8d90-c766a786c1dc\" class=\"plotly-graph-div\" style=\"height:525px; width:100%;\"></div>            <script type=\"text/javascript\">                                    window.PLOTLYENV=window.PLOTLYENV || {};                                    if (document.getElementById(\"5cc9f9c1-f281-41ce-8d90-c766a786c1dc\")) {                    Plotly.newPlot(                        \"5cc9f9c1-f281-41ce-8d90-c766a786c1dc\",                        [{\"hoverinfo\":\"text+x+y\",\"marker\":{\"color\":[\"red\",\"red\",\"blue\",\"red\",\"green\",\"blue\",\"red\",\"red\",\"blue\"]},\"mode\":\"markers\",\"showlegend\":false,\"text\":[\"Northstar\",\"Dead To Me\",\"Me, Myself & Your Eyes\",\"You Know What You\\u2019ve Done\",\"Good Old Days\",\"I Forgot To Be Your Lover\",\"Tiny Moves\",\"FACETIME\",\"DOWNSIDE\"],\"x\":[4.591118812561035,4.676434516906738,6.064032554626465,4.76554012298584,4.98043155670166,6.0806498527526855,4.48665714263916,4.30980920791626,7.06795072555542],\"y\":[6.1420207023620605,6.022833824157715,5.313733100891113,3.747873783111572,6.861891269683838,5.11067008972168,4.036031246185303,5.710285663604736,5.869370937347412],\"type\":\"scatter\"},{\"hoverinfo\":\"text+x+y\",\"marker\":{\"color\":[\"red\"]},\"mode\":\"markers\",\"showlegend\":false,\"text\":[\"Numb\"],\"x\":[4.940221309661865],\"y\":[5.504947662353516],\"type\":\"scatter\"},{\"marker\":{\"color\":\"black\"},\"mode\":\"lines\",\"name\":\"Triangle\",\"x\":[8.940221309661865,2.940221309661866,2.9402213096618635,8.940221309661865],\"y\":[5.504947662353516,8.969049277491271,2.040846047215762,5.504947662353516],\"type\":\"scatter\"}],                        {\"template\":{\"data\":{\"histogram2dcontour\":[{\"type\":\"histogram2dcontour\",\"colorbar\":{\"outlinewidth\":0,\"ticks\":\"\"},\"colorscale\":[[0.0,\"#0d0887\"],[0.1111111111111111,\"#46039f\"],[0.2222222222222222,\"#7201a8\"],[0.3333333333333333,\"#9c179e\"],[0.4444444444444444,\"#bd3786\"],[0.5555555555555556,\"#d8576b\"],[0.6666666666666666,\"#ed7953\"],[0.7777777777777778,\"#fb9f3a\"],[0.8888888888888888,\"#fdca26\"],[1.0,\"#f0f921\"]]}],\"choropleth\":[{\"type\":\"choropleth\",\"colorbar\":{\"outlinewidth\":0,\"ticks\":\"\"}}],\"histogram2d\":[{\"type\":\"histogram2d\",\"colorbar\":{\"outlinewidth\":0,\"ticks\":\"\"},\"colorscale\":[[0.0,\"#0d0887\"],[0.1111111111111111,\"#46039f\"],[0.2222222222222222,\"#7201a8\"],[0.3333333333333333,\"#9c179e\"],[0.4444444444444444,\"#bd3786\"],[0.5555555555555556,\"#d8576b\"],[0.6666666666666666,\"#ed7953\"],[0.7777777777777778,\"#fb9f3a\"],[0.8888888888888888,\"#fdca26\"],[1.0,\"#f0f921\"]]}],\"heatmap\":[{\"type\":\"heatmap\",\"colorbar\":{\"outlinewidth\":0,\"ticks\":\"\"},\"colorscale\":[[0.0,\"#0d0887\"],[0.1111111111111111,\"#46039f\"],[0.2222222222222222,\"#7201a8\"],[0.3333333333333333,\"#9c179e\"],[0.4444444444444444,\"#bd3786\"],[0.5555555555555556,\"#d8576b\"],[0.6666666666666666,\"#ed7953\"],[0.7777777777777778,\"#fb9f3a\"],[0.8888888888888888,\"#fdca26\"],[1.0,\"#f0f921\"]]}],\"heatmapgl\":[{\"type\":\"heatmapgl\",\"colorbar\":{\"outlinewidth\":0,\"ticks\":\"\"},\"colorscale\":[[0.0,\"#0d0887\"],[0.1111111111111111,\"#46039f\"],[0.2222222222222222,\"#7201a8\"],[0.3333333333333333,\"#9c179e\"],[0.4444444444444444,\"#bd3786\"],[0.5555555555555556,\"#d8576b\"],[0.6666666666666666,\"#ed7953\"],[0.7777777777777778,\"#fb9f3a\"],[0.8888888888888888,\"#fdca26\"],[1.0,\"#f0f921\"]]}],\"contourcarpet\":[{\"type\":\"contourcarpet\",\"colorbar\":{\"outlinewidth\":0,\"ticks\":\"\"}}],\"contour\":[{\"type\":\"contour\",\"colorbar\":{\"outlinewidth\":0,\"ticks\":\"\"},\"colorscale\":[[0.0,\"#0d0887\"],[0.1111111111111111,\"#46039f\"],[0.2222222222222222,\"#7201a8\"],[0.3333333333333333,\"#9c179e\"],[0.4444444444444444,\"#bd3786\"],[0.5555555555555556,\"#d8576b\"],[0.6666666666666666,\"#ed7953\"],[0.7777777777777778,\"#fb9f3a\"],[0.8888888888888888,\"#fdca26\"],[1.0,\"#f0f921\"]]}],\"surface\":[{\"type\":\"surface\",\"colorbar\":{\"outlinewidth\":0,\"ticks\":\"\"},\"colorscale\":[[0.0,\"#0d0887\"],[0.1111111111111111,\"#46039f\"],[0.2222222222222222,\"#7201a8\"],[0.3333333333333333,\"#9c179e\"],[0.4444444444444444,\"#bd3786\"],[0.5555555555555556,\"#d8576b\"],[0.6666666666666666,\"#ed7953\"],[0.7777777777777778,\"#fb9f3a\"],[0.8888888888888888,\"#fdca26\"],[1.0,\"#f0f921\"]]}],\"mesh3d\":[{\"type\":\"mesh3d\",\"colorbar\":{\"outlinewidth\":0,\"ticks\":\"\"}}],\"scatter\":[{\"fillpattern\":{\"fillmode\":\"overlay\",\"size\":10,\"solidity\":0.2},\"type\":\"scatter\"}],\"parcoords\":[{\"type\":\"parcoords\",\"line\":{\"colorbar\":{\"outlinewidth\":0,\"ticks\":\"\"}}}],\"scatterpolargl\":[{\"type\":\"scatterpolargl\",\"marker\":{\"colorbar\":{\"outlinewidth\":0,\"ticks\":\"\"}}}],\"bar\":[{\"error_x\":{\"color\":\"#2a3f5f\"},\"error_y\":{\"color\":\"#2a3f5f\"},\"marker\":{\"line\":{\"color\":\"#E5ECF6\",\"width\":0.5},\"pattern\":{\"fillmode\":\"overlay\",\"size\":10,\"solidity\":0.2}},\"type\":\"bar\"}],\"scattergeo\":[{\"type\":\"scattergeo\",\"marker\":{\"colorbar\":{\"outlinewidth\":0,\"ticks\":\"\"}}}],\"scatterpolar\":[{\"type\":\"scatterpolar\",\"marker\":{\"colorbar\":{\"outlinewidth\":0,\"ticks\":\"\"}}}],\"histogram\":[{\"marker\":{\"pattern\":{\"fillmode\":\"overlay\",\"size\":10,\"solidity\":0.2}},\"type\":\"histogram\"}],\"scattergl\":[{\"type\":\"scattergl\",\"marker\":{\"colorbar\":{\"outlinewidth\":0,\"ticks\":\"\"}}}],\"scatter3d\":[{\"type\":\"scatter3d\",\"line\":{\"colorbar\":{\"outlinewidth\":0,\"ticks\":\"\"}},\"marker\":{\"colorbar\":{\"outlinewidth\":0,\"ticks\":\"\"}}}],\"scattermapbox\":[{\"type\":\"scattermapbox\",\"marker\":{\"colorbar\":{\"outlinewidth\":0,\"ticks\":\"\"}}}],\"scatterternary\":[{\"type\":\"scatterternary\",\"marker\":{\"colorbar\":{\"outlinewidth\":0,\"ticks\":\"\"}}}],\"scattercarpet\":[{\"type\":\"scattercarpet\",\"marker\":{\"colorbar\":{\"outlinewidth\":0,\"ticks\":\"\"}}}],\"carpet\":[{\"aaxis\":{\"endlinecolor\":\"#2a3f5f\",\"gridcolor\":\"white\",\"linecolor\":\"white\",\"minorgridcolor\":\"white\",\"startlinecolor\":\"#2a3f5f\"},\"baxis\":{\"endlinecolor\":\"#2a3f5f\",\"gridcolor\":\"white\",\"linecolor\":\"white\",\"minorgridcolor\":\"white\",\"startlinecolor\":\"#2a3f5f\"},\"type\":\"carpet\"}],\"table\":[{\"cells\":{\"fill\":{\"color\":\"#EBF0F8\"},\"line\":{\"color\":\"white\"}},\"header\":{\"fill\":{\"color\":\"#C8D4E3\"},\"line\":{\"color\":\"white\"}},\"type\":\"table\"}],\"barpolar\":[{\"marker\":{\"line\":{\"color\":\"#E5ECF6\",\"width\":0.5},\"pattern\":{\"fillmode\":\"overlay\",\"size\":10,\"solidity\":0.2}},\"type\":\"barpolar\"}],\"pie\":[{\"automargin\":true,\"type\":\"pie\"}]},\"layout\":{\"autotypenumbers\":\"strict\",\"colorway\":[\"#636efa\",\"#EF553B\",\"#00cc96\",\"#ab63fa\",\"#FFA15A\",\"#19d3f3\",\"#FF6692\",\"#B6E880\",\"#FF97FF\",\"#FECB52\"],\"font\":{\"color\":\"#2a3f5f\"},\"hovermode\":\"closest\",\"hoverlabel\":{\"align\":\"left\"},\"paper_bgcolor\":\"white\",\"plot_bgcolor\":\"#E5ECF6\",\"polar\":{\"bgcolor\":\"#E5ECF6\",\"angularaxis\":{\"gridcolor\":\"white\",\"linecolor\":\"white\",\"ticks\":\"\"},\"radialaxis\":{\"gridcolor\":\"white\",\"linecolor\":\"white\",\"ticks\":\"\"}},\"ternary\":{\"bgcolor\":\"#E5ECF6\",\"aaxis\":{\"gridcolor\":\"white\",\"linecolor\":\"white\",\"ticks\":\"\"},\"baxis\":{\"gridcolor\":\"white\",\"linecolor\":\"white\",\"ticks\":\"\"},\"caxis\":{\"gridcolor\":\"white\",\"linecolor\":\"white\",\"ticks\":\"\"}},\"coloraxis\":{\"colorbar\":{\"outlinewidth\":0,\"ticks\":\"\"}},\"colorscale\":{\"sequential\":[[0.0,\"#0d0887\"],[0.1111111111111111,\"#46039f\"],[0.2222222222222222,\"#7201a8\"],[0.3333333333333333,\"#9c179e\"],[0.4444444444444444,\"#bd3786\"],[0.5555555555555556,\"#d8576b\"],[0.6666666666666666,\"#ed7953\"],[0.7777777777777778,\"#fb9f3a\"],[0.8888888888888888,\"#fdca26\"],[1.0,\"#f0f921\"]],\"sequentialminus\":[[0.0,\"#0d0887\"],[0.1111111111111111,\"#46039f\"],[0.2222222222222222,\"#7201a8\"],[0.3333333333333333,\"#9c179e\"],[0.4444444444444444,\"#bd3786\"],[0.5555555555555556,\"#d8576b\"],[0.6666666666666666,\"#ed7953\"],[0.7777777777777778,\"#fb9f3a\"],[0.8888888888888888,\"#fdca26\"],[1.0,\"#f0f921\"]],\"diverging\":[[0,\"#8e0152\"],[0.1,\"#c51b7d\"],[0.2,\"#de77ae\"],[0.3,\"#f1b6da\"],[0.4,\"#fde0ef\"],[0.5,\"#f7f7f7\"],[0.6,\"#e6f5d0\"],[0.7,\"#b8e186\"],[0.8,\"#7fbc41\"],[0.9,\"#4d9221\"],[1,\"#276419\"]]},\"xaxis\":{\"gridcolor\":\"white\",\"linecolor\":\"white\",\"ticks\":\"\",\"title\":{\"standoff\":15},\"zerolinecolor\":\"white\",\"automargin\":true,\"zerolinewidth\":2},\"yaxis\":{\"gridcolor\":\"white\",\"linecolor\":\"white\",\"ticks\":\"\",\"title\":{\"standoff\":15},\"zerolinecolor\":\"white\",\"automargin\":true,\"zerolinewidth\":2},\"scene\":{\"xaxis\":{\"backgroundcolor\":\"#E5ECF6\",\"gridcolor\":\"white\",\"linecolor\":\"white\",\"showbackground\":true,\"ticks\":\"\",\"zerolinecolor\":\"white\",\"gridwidth\":2},\"yaxis\":{\"backgroundcolor\":\"#E5ECF6\",\"gridcolor\":\"white\",\"linecolor\":\"white\",\"showbackground\":true,\"ticks\":\"\",\"zerolinecolor\":\"white\",\"gridwidth\":2},\"zaxis\":{\"backgroundcolor\":\"#E5ECF6\",\"gridcolor\":\"white\",\"linecolor\":\"white\",\"showbackground\":true,\"ticks\":\"\",\"zerolinecolor\":\"white\",\"gridwidth\":2}},\"shapedefaults\":{\"line\":{\"color\":\"#2a3f5f\"}},\"annotationdefaults\":{\"arrowcolor\":\"#2a3f5f\",\"arrowhead\":0,\"arrowwidth\":1},\"geo\":{\"bgcolor\":\"white\",\"landcolor\":\"#E5ECF6\",\"subunitcolor\":\"white\",\"showland\":true,\"showlakes\":true,\"lakecolor\":\"white\"},\"title\":{\"x\":0.05},\"mapbox\":{\"style\":\"light\"}}},\"xaxis\":{\"title\":{\"text\":\"Valence\"}},\"yaxis\":{\"title\":{\"text\":\"Arousal\"}},\"title\":{\"text\":\"Valence-Arousal Graph\"}},                        {\"responsive\": true}                    ).then(function(){\n",
              "                            \n",
              "var gd = document.getElementById('5cc9f9c1-f281-41ce-8d90-c766a786c1dc');\n",
              "var x = new MutationObserver(function (mutations, observer) {{\n",
              "        var display = window.getComputedStyle(gd).display;\n",
              "        if (!display || display === 'none') {{\n",
              "            console.log([gd, 'removed!']);\n",
              "            Plotly.purge(gd);\n",
              "            observer.disconnect();\n",
              "        }}\n",
              "}});\n",
              "\n",
              "// Listen for the removal of the full notebook cells\n",
              "var notebookContainer = gd.closest('#notebook-container');\n",
              "if (notebookContainer) {{\n",
              "    x.observe(notebookContainer, {childList: true});\n",
              "}}\n",
              "\n",
              "// Listen for the clearing of the current output cell\n",
              "var outputEl = gd.closest('.output');\n",
              "if (outputEl) {{\n",
              "    x.observe(outputEl, {childList: true});\n",
              "}}\n",
              "\n",
              "                        })                };                            </script>        </div>\n",
              "</body>\n",
              "</html>"
            ]
          },
          "metadata": {},
          "output_type": "display_data"
        },
        {
          "name": "stdout",
          "output_type": "stream",
          "text": [
            "--- Closest tracks to trajectory ---\n",
            "1: Numb\n",
            "2: Northstar\n",
            "3: Dead To Me\n",
            "4: Me, Myself & Your Eyes\n",
            "5: You Know What You’ve Done\n",
            "6: Good Old Days\n",
            "7: I Forgot To Be Your Lover\n",
            "8: Tiny Moves\n",
            "9: FACETIME\n",
            "10: DOWNSIDE\n"
          ]
        }
      ],
      "source": [
        "t = Triangle(point)\n",
        "t3 = MusicOnTrajectory(filtered_df, t)\n",
        "\n",
        "t3.run()"
      ]
    },
    {
      "cell_type": "markdown",
      "metadata": {
        "id": "fGzJEPJmQsuJ"
      },
      "source": [
        "## Parabola"
      ]
    },
    {
      "cell_type": "code",
      "execution_count": 56,
      "metadata": {
        "id": "KhQilISJQsuJ"
      },
      "outputs": [],
      "source": [
        "class Parabola:\n",
        "    def __init__(self, point):\n",
        "        self.x = point[0]\n",
        "        self.y = point[1]\n",
        "        self.points = self.parabola_points()\n",
        "\n",
        "    def parabola_points(self, num_points=10, a=1, b=0, c=0, shift=5, scale=0.4):\n",
        "        x = np.linspace(-5 + shift, 5 + shift, num_points)\n",
        "        y = (a * (x - shift)**2 + b * (x - shift) + c) * scale\n",
        "        return np.column_stack((x, y))\n",
        "\n",
        "    def find_closest_songs(self, df):\n",
        "        closest_indices = []\n",
        "        visited_indices = set()\n",
        "\n",
        "        for i in range(len(self.points)):\n",
        "            distances = np.sqrt((df['valence'] - self.points[i][0])**2 + (df['arousal'] - self.points[i][1])**2)\n",
        "            sorted_indices = np.argsort(distances)\n",
        "\n",
        "            for index in sorted_indices:\n",
        "                if index not in visited_indices:\n",
        "                    closest_indices.append(index)\n",
        "                    visited_indices.add(index)\n",
        "                    break\n",
        "\n",
        "        closest_songs = df.iloc[closest_indices]\n",
        "        return closest_songs\n",
        "\n",
        "    def plot_closest_points(self, closest_songs):\n",
        "        fig = go.Figure()\n",
        "        fig.add_trace(go.Scatter(\n",
        "            x=closest_songs['valence'],\n",
        "            y=closest_songs['arousal'],\n",
        "            mode='markers',\n",
        "            marker=dict(color=closest_songs['colour']),\n",
        "            text=closest_songs['track'],\n",
        "            hoverinfo='text+x+y',\n",
        "            showlegend=False\n",
        "        ))\n",
        "\n",
        "        input_point = df[(df['valence'] == self.x) & (df['arousal'] == self.y)]\n",
        "        fig.add_trace(go.Scatter(\n",
        "            x=[self.x],\n",
        "            y=[self.y],\n",
        "            mode='markers',\n",
        "            marker=dict(color=input_point['colour']),\n",
        "            text=input_point['track'],\n",
        "            hoverinfo='text+x+y',\n",
        "            showlegend=False\n",
        "        ))\n",
        "\n",
        "        fig.add_trace(go.Scatter(x=self.points[:, 0], y=self.points[:, 1], mode='lines', line=dict(color='black'), name='Parabola'))\n",
        "\n",
        "        fig.update_layout(\n",
        "            xaxis_title='Valence',\n",
        "            yaxis_title='Arousal',\n",
        "            title='Valence-Arousal Graph')\n",
        "\n",
        "        fig.show()\n",
        "\n",
        "        print(\"--- Closest tracks to trajectory ---\")\n",
        "        print(f\"{1}: {input_point['track'].values[0]}\")\n",
        "        for i, track in enumerate(closest_songs['track'], start=2):\n",
        "            print(f\"{i}: {track}\")"
      ]
    },
    {
      "cell_type": "code",
      "execution_count": 57,
      "metadata": {
        "colab": {
          "base_uri": "https://localhost:8080/",
          "height": 750
        },
        "id": "PdAbkUvlQsuK",
        "outputId": "3ddc7a40-a4e8-4efd-f291-8280160e19e8"
      },
      "outputs": [
        {
          "data": {
            "text/html": [
              "<html>\n",
              "<head><meta charset=\"utf-8\" /></head>\n",
              "<body>\n",
              "    <div>            <script src=\"https://cdnjs.cloudflare.com/ajax/libs/mathjax/2.7.5/MathJax.js?config=TeX-AMS-MML_SVG\"></script><script type=\"text/javascript\">if (window.MathJax && window.MathJax.Hub && window.MathJax.Hub.Config) {window.MathJax.Hub.Config({SVG: {font: \"STIX-Web\"}});}</script>                <script type=\"text/javascript\">window.PlotlyConfig = {MathJaxConfig: 'local'};</script>\n",
              "        <script charset=\"utf-8\" src=\"https://cdn.plot.ly/plotly-2.24.1.min.js\"></script>                <div id=\"f9ba8240-479f-453f-a58d-846c155914ab\" class=\"plotly-graph-div\" style=\"height:525px; width:100%;\"></div>            <script type=\"text/javascript\">                                    window.PLOTLYENV=window.PLOTLYENV || {};                                    if (document.getElementById(\"f9ba8240-479f-453f-a58d-846c155914ab\")) {                    Plotly.newPlot(                        \"f9ba8240-479f-453f-a58d-846c155914ab\",                        [{\"hoverinfo\":\"text+x+y\",\"marker\":{\"color\":[\"green\",\"red\",\"red\",\"red\",\"red\",\"red\",\"red\",\"blue\",\"blue\",\"blue\"]},\"mode\":\"markers\",\"showlegend\":false,\"text\":[\"Tejano Blue\",\"Broken Man\",\"Tongue Tied\",\"Too Much\",\"Heart To Heart\",\"You Know What You\\u2019ve Done\",\"Believer\",\"Blondie\",\"DOWNSIDE\",\"kinda smacks\"],\"x\":[4.166854381561279,3.9008710384368896,3.755285263061523,4.2114763259887695,4.111682891845703,4.76554012298584,5.33860969543457,6.149303913116455,7.06795072555542,6.672296047210693],\"y\":[6.2459893226623535,5.097156524658203,3.8431458473205566,3.594754695892334,3.680450677871704,3.747873783111572,4.006206512451172,4.836586952209473,5.869370937347412,8.130208969116211],\"type\":\"scatter\"},{\"hoverinfo\":\"text+x+y\",\"marker\":{\"color\":[\"red\"]},\"mode\":\"markers\",\"showlegend\":false,\"text\":[\"Numb\"],\"x\":[4.940221309661865],\"y\":[5.504947662353516],\"type\":\"scatter\"},{\"line\":{\"color\":\"black\"},\"mode\":\"lines\",\"name\":\"Parabola\",\"x\":[0.0,1.1111111111111112,2.2222222222222223,3.3333333333333335,4.444444444444445,5.555555555555555,6.666666666666667,7.777777777777779,8.88888888888889,10.0],\"y\":[10.0,6.049382716049383,3.0864197530864197,1.111111111111111,0.1234567901234567,0.1234567901234567,1.1111111111111114,3.0864197530864215,6.049382716049384,10.0],\"type\":\"scatter\"}],                        {\"template\":{\"data\":{\"histogram2dcontour\":[{\"type\":\"histogram2dcontour\",\"colorbar\":{\"outlinewidth\":0,\"ticks\":\"\"},\"colorscale\":[[0.0,\"#0d0887\"],[0.1111111111111111,\"#46039f\"],[0.2222222222222222,\"#7201a8\"],[0.3333333333333333,\"#9c179e\"],[0.4444444444444444,\"#bd3786\"],[0.5555555555555556,\"#d8576b\"],[0.6666666666666666,\"#ed7953\"],[0.7777777777777778,\"#fb9f3a\"],[0.8888888888888888,\"#fdca26\"],[1.0,\"#f0f921\"]]}],\"choropleth\":[{\"type\":\"choropleth\",\"colorbar\":{\"outlinewidth\":0,\"ticks\":\"\"}}],\"histogram2d\":[{\"type\":\"histogram2d\",\"colorbar\":{\"outlinewidth\":0,\"ticks\":\"\"},\"colorscale\":[[0.0,\"#0d0887\"],[0.1111111111111111,\"#46039f\"],[0.2222222222222222,\"#7201a8\"],[0.3333333333333333,\"#9c179e\"],[0.4444444444444444,\"#bd3786\"],[0.5555555555555556,\"#d8576b\"],[0.6666666666666666,\"#ed7953\"],[0.7777777777777778,\"#fb9f3a\"],[0.8888888888888888,\"#fdca26\"],[1.0,\"#f0f921\"]]}],\"heatmap\":[{\"type\":\"heatmap\",\"colorbar\":{\"outlinewidth\":0,\"ticks\":\"\"},\"colorscale\":[[0.0,\"#0d0887\"],[0.1111111111111111,\"#46039f\"],[0.2222222222222222,\"#7201a8\"],[0.3333333333333333,\"#9c179e\"],[0.4444444444444444,\"#bd3786\"],[0.5555555555555556,\"#d8576b\"],[0.6666666666666666,\"#ed7953\"],[0.7777777777777778,\"#fb9f3a\"],[0.8888888888888888,\"#fdca26\"],[1.0,\"#f0f921\"]]}],\"heatmapgl\":[{\"type\":\"heatmapgl\",\"colorbar\":{\"outlinewidth\":0,\"ticks\":\"\"},\"colorscale\":[[0.0,\"#0d0887\"],[0.1111111111111111,\"#46039f\"],[0.2222222222222222,\"#7201a8\"],[0.3333333333333333,\"#9c179e\"],[0.4444444444444444,\"#bd3786\"],[0.5555555555555556,\"#d8576b\"],[0.6666666666666666,\"#ed7953\"],[0.7777777777777778,\"#fb9f3a\"],[0.8888888888888888,\"#fdca26\"],[1.0,\"#f0f921\"]]}],\"contourcarpet\":[{\"type\":\"contourcarpet\",\"colorbar\":{\"outlinewidth\":0,\"ticks\":\"\"}}],\"contour\":[{\"type\":\"contour\",\"colorbar\":{\"outlinewidth\":0,\"ticks\":\"\"},\"colorscale\":[[0.0,\"#0d0887\"],[0.1111111111111111,\"#46039f\"],[0.2222222222222222,\"#7201a8\"],[0.3333333333333333,\"#9c179e\"],[0.4444444444444444,\"#bd3786\"],[0.5555555555555556,\"#d8576b\"],[0.6666666666666666,\"#ed7953\"],[0.7777777777777778,\"#fb9f3a\"],[0.8888888888888888,\"#fdca26\"],[1.0,\"#f0f921\"]]}],\"surface\":[{\"type\":\"surface\",\"colorbar\":{\"outlinewidth\":0,\"ticks\":\"\"},\"colorscale\":[[0.0,\"#0d0887\"],[0.1111111111111111,\"#46039f\"],[0.2222222222222222,\"#7201a8\"],[0.3333333333333333,\"#9c179e\"],[0.4444444444444444,\"#bd3786\"],[0.5555555555555556,\"#d8576b\"],[0.6666666666666666,\"#ed7953\"],[0.7777777777777778,\"#fb9f3a\"],[0.8888888888888888,\"#fdca26\"],[1.0,\"#f0f921\"]]}],\"mesh3d\":[{\"type\":\"mesh3d\",\"colorbar\":{\"outlinewidth\":0,\"ticks\":\"\"}}],\"scatter\":[{\"fillpattern\":{\"fillmode\":\"overlay\",\"size\":10,\"solidity\":0.2},\"type\":\"scatter\"}],\"parcoords\":[{\"type\":\"parcoords\",\"line\":{\"colorbar\":{\"outlinewidth\":0,\"ticks\":\"\"}}}],\"scatterpolargl\":[{\"type\":\"scatterpolargl\",\"marker\":{\"colorbar\":{\"outlinewidth\":0,\"ticks\":\"\"}}}],\"bar\":[{\"error_x\":{\"color\":\"#2a3f5f\"},\"error_y\":{\"color\":\"#2a3f5f\"},\"marker\":{\"line\":{\"color\":\"#E5ECF6\",\"width\":0.5},\"pattern\":{\"fillmode\":\"overlay\",\"size\":10,\"solidity\":0.2}},\"type\":\"bar\"}],\"scattergeo\":[{\"type\":\"scattergeo\",\"marker\":{\"colorbar\":{\"outlinewidth\":0,\"ticks\":\"\"}}}],\"scatterpolar\":[{\"type\":\"scatterpolar\",\"marker\":{\"colorbar\":{\"outlinewidth\":0,\"ticks\":\"\"}}}],\"histogram\":[{\"marker\":{\"pattern\":{\"fillmode\":\"overlay\",\"size\":10,\"solidity\":0.2}},\"type\":\"histogram\"}],\"scattergl\":[{\"type\":\"scattergl\",\"marker\":{\"colorbar\":{\"outlinewidth\":0,\"ticks\":\"\"}}}],\"scatter3d\":[{\"type\":\"scatter3d\",\"line\":{\"colorbar\":{\"outlinewidth\":0,\"ticks\":\"\"}},\"marker\":{\"colorbar\":{\"outlinewidth\":0,\"ticks\":\"\"}}}],\"scattermapbox\":[{\"type\":\"scattermapbox\",\"marker\":{\"colorbar\":{\"outlinewidth\":0,\"ticks\":\"\"}}}],\"scatterternary\":[{\"type\":\"scatterternary\",\"marker\":{\"colorbar\":{\"outlinewidth\":0,\"ticks\":\"\"}}}],\"scattercarpet\":[{\"type\":\"scattercarpet\",\"marker\":{\"colorbar\":{\"outlinewidth\":0,\"ticks\":\"\"}}}],\"carpet\":[{\"aaxis\":{\"endlinecolor\":\"#2a3f5f\",\"gridcolor\":\"white\",\"linecolor\":\"white\",\"minorgridcolor\":\"white\",\"startlinecolor\":\"#2a3f5f\"},\"baxis\":{\"endlinecolor\":\"#2a3f5f\",\"gridcolor\":\"white\",\"linecolor\":\"white\",\"minorgridcolor\":\"white\",\"startlinecolor\":\"#2a3f5f\"},\"type\":\"carpet\"}],\"table\":[{\"cells\":{\"fill\":{\"color\":\"#EBF0F8\"},\"line\":{\"color\":\"white\"}},\"header\":{\"fill\":{\"color\":\"#C8D4E3\"},\"line\":{\"color\":\"white\"}},\"type\":\"table\"}],\"barpolar\":[{\"marker\":{\"line\":{\"color\":\"#E5ECF6\",\"width\":0.5},\"pattern\":{\"fillmode\":\"overlay\",\"size\":10,\"solidity\":0.2}},\"type\":\"barpolar\"}],\"pie\":[{\"automargin\":true,\"type\":\"pie\"}]},\"layout\":{\"autotypenumbers\":\"strict\",\"colorway\":[\"#636efa\",\"#EF553B\",\"#00cc96\",\"#ab63fa\",\"#FFA15A\",\"#19d3f3\",\"#FF6692\",\"#B6E880\",\"#FF97FF\",\"#FECB52\"],\"font\":{\"color\":\"#2a3f5f\"},\"hovermode\":\"closest\",\"hoverlabel\":{\"align\":\"left\"},\"paper_bgcolor\":\"white\",\"plot_bgcolor\":\"#E5ECF6\",\"polar\":{\"bgcolor\":\"#E5ECF6\",\"angularaxis\":{\"gridcolor\":\"white\",\"linecolor\":\"white\",\"ticks\":\"\"},\"radialaxis\":{\"gridcolor\":\"white\",\"linecolor\":\"white\",\"ticks\":\"\"}},\"ternary\":{\"bgcolor\":\"#E5ECF6\",\"aaxis\":{\"gridcolor\":\"white\",\"linecolor\":\"white\",\"ticks\":\"\"},\"baxis\":{\"gridcolor\":\"white\",\"linecolor\":\"white\",\"ticks\":\"\"},\"caxis\":{\"gridcolor\":\"white\",\"linecolor\":\"white\",\"ticks\":\"\"}},\"coloraxis\":{\"colorbar\":{\"outlinewidth\":0,\"ticks\":\"\"}},\"colorscale\":{\"sequential\":[[0.0,\"#0d0887\"],[0.1111111111111111,\"#46039f\"],[0.2222222222222222,\"#7201a8\"],[0.3333333333333333,\"#9c179e\"],[0.4444444444444444,\"#bd3786\"],[0.5555555555555556,\"#d8576b\"],[0.6666666666666666,\"#ed7953\"],[0.7777777777777778,\"#fb9f3a\"],[0.8888888888888888,\"#fdca26\"],[1.0,\"#f0f921\"]],\"sequentialminus\":[[0.0,\"#0d0887\"],[0.1111111111111111,\"#46039f\"],[0.2222222222222222,\"#7201a8\"],[0.3333333333333333,\"#9c179e\"],[0.4444444444444444,\"#bd3786\"],[0.5555555555555556,\"#d8576b\"],[0.6666666666666666,\"#ed7953\"],[0.7777777777777778,\"#fb9f3a\"],[0.8888888888888888,\"#fdca26\"],[1.0,\"#f0f921\"]],\"diverging\":[[0,\"#8e0152\"],[0.1,\"#c51b7d\"],[0.2,\"#de77ae\"],[0.3,\"#f1b6da\"],[0.4,\"#fde0ef\"],[0.5,\"#f7f7f7\"],[0.6,\"#e6f5d0\"],[0.7,\"#b8e186\"],[0.8,\"#7fbc41\"],[0.9,\"#4d9221\"],[1,\"#276419\"]]},\"xaxis\":{\"gridcolor\":\"white\",\"linecolor\":\"white\",\"ticks\":\"\",\"title\":{\"standoff\":15},\"zerolinecolor\":\"white\",\"automargin\":true,\"zerolinewidth\":2},\"yaxis\":{\"gridcolor\":\"white\",\"linecolor\":\"white\",\"ticks\":\"\",\"title\":{\"standoff\":15},\"zerolinecolor\":\"white\",\"automargin\":true,\"zerolinewidth\":2},\"scene\":{\"xaxis\":{\"backgroundcolor\":\"#E5ECF6\",\"gridcolor\":\"white\",\"linecolor\":\"white\",\"showbackground\":true,\"ticks\":\"\",\"zerolinecolor\":\"white\",\"gridwidth\":2},\"yaxis\":{\"backgroundcolor\":\"#E5ECF6\",\"gridcolor\":\"white\",\"linecolor\":\"white\",\"showbackground\":true,\"ticks\":\"\",\"zerolinecolor\":\"white\",\"gridwidth\":2},\"zaxis\":{\"backgroundcolor\":\"#E5ECF6\",\"gridcolor\":\"white\",\"linecolor\":\"white\",\"showbackground\":true,\"ticks\":\"\",\"zerolinecolor\":\"white\",\"gridwidth\":2}},\"shapedefaults\":{\"line\":{\"color\":\"#2a3f5f\"}},\"annotationdefaults\":{\"arrowcolor\":\"#2a3f5f\",\"arrowhead\":0,\"arrowwidth\":1},\"geo\":{\"bgcolor\":\"white\",\"landcolor\":\"#E5ECF6\",\"subunitcolor\":\"white\",\"showland\":true,\"showlakes\":true,\"lakecolor\":\"white\"},\"title\":{\"x\":0.05},\"mapbox\":{\"style\":\"light\"}}},\"xaxis\":{\"title\":{\"text\":\"Valence\"}},\"yaxis\":{\"title\":{\"text\":\"Arousal\"}},\"title\":{\"text\":\"Valence-Arousal Graph\"}},                        {\"responsive\": true}                    ).then(function(){\n",
              "                            \n",
              "var gd = document.getElementById('f9ba8240-479f-453f-a58d-846c155914ab');\n",
              "var x = new MutationObserver(function (mutations, observer) {{\n",
              "        var display = window.getComputedStyle(gd).display;\n",
              "        if (!display || display === 'none') {{\n",
              "            console.log([gd, 'removed!']);\n",
              "            Plotly.purge(gd);\n",
              "            observer.disconnect();\n",
              "        }}\n",
              "}});\n",
              "\n",
              "// Listen for the removal of the full notebook cells\n",
              "var notebookContainer = gd.closest('#notebook-container');\n",
              "if (notebookContainer) {{\n",
              "    x.observe(notebookContainer, {childList: true});\n",
              "}}\n",
              "\n",
              "// Listen for the clearing of the current output cell\n",
              "var outputEl = gd.closest('.output');\n",
              "if (outputEl) {{\n",
              "    x.observe(outputEl, {childList: true});\n",
              "}}\n",
              "\n",
              "                        })                };                            </script>        </div>\n",
              "</body>\n",
              "</html>"
            ]
          },
          "metadata": {},
          "output_type": "display_data"
        },
        {
          "name": "stdout",
          "output_type": "stream",
          "text": [
            "--- Closest tracks to trajectory ---\n",
            "1: Numb\n",
            "2: Tejano Blue\n",
            "3: Broken Man\n",
            "4: Tongue Tied\n",
            "5: Too Much\n",
            "6: Heart To Heart\n",
            "7: You Know What You’ve Done\n",
            "8: Believer\n",
            "9: Blondie\n",
            "10: DOWNSIDE\n",
            "11: kinda smacks\n"
          ]
        }
      ],
      "source": [
        "p = Parabola(point)\n",
        "t4 = MusicOnTrajectory(filtered_df, p)\n",
        "\n",
        "t4.run()"
      ]
    },
    {
      "cell_type": "code",
      "execution_count": 46,
      "metadata": {
        "id": "hD-X8yRB-axK"
      },
      "outputs": [],
      "source": []
    }
  ],
  "metadata": {
    "colab": {
      "collapsed_sections": [
        "p2zykcze_vME",
        "qI1sBGtN_yRQ"
      ],
      "provenance": []
    },
    "kernelspec": {
      "display_name": "Python 3",
      "language": "python",
      "name": "python3"
    },
    "language_info": {
      "name": "python",
      "version": "3.11.8"
    }
  },
  "nbformat": 4,
  "nbformat_minor": 0
}
